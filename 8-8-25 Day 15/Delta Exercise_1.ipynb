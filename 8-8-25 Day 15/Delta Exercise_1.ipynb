{
 "cells": [
  {
   "cell_type": "markdown",
   "metadata": {
    "application/vnd.databricks.v1+cell": {
     "cellMetadata": {},
     "inputWidgets": {},
     "nuid": "6a4a79ee-0f46-4475-875f-01fbac862aa8",
     "showTitle": false,
     "tableResultSettingsMap": {},
     "title": ""
    }
   },
   "source": [
    "### Inline CSV Data — sales_transactions.csv"
   ]
  },
  {
   "cell_type": "code",
   "execution_count": 0,
   "metadata": {
    "application/vnd.databricks.v1+cell": {
     "cellMetadata": {
      "byteLimit": 2048000,
      "rowLimit": 10000
     },
     "inputWidgets": {},
     "nuid": "09f4b198-7124-4a05-8fe9-b8e212310a36",
     "showTitle": false,
     "tableResultSettingsMap": {},
     "title": ""
    }
   },
   "outputs": [
    {
     "output_type": "stream",
     "name": "stdout",
     "output_type": "stream",
     "text": [
      "Wrote 603 bytes.\n"
     ]
    },
    {
     "output_type": "execute_result",
     "data": {
      "text/plain": [
       "True"
      ]
     },
     "execution_count": 2,
     "metadata": {},
     "output_type": "execute_result"
    }
   ],
   "source": [
    "# Save inline CSV to Databricks FileStore\n",
    "csv_data = \"\"\"transaction_id,customer_name,region,product,category,quantity,unit_price,date\n",
    "1,Rajesh,North,Laptop,Electronics,1,55000,2024-01-12\n",
    "2,Sneha,West,Refrigerator,Electronics,1,32000,2024-02-05\n",
    "3,Anil,South,Shampoo,Personal Care,5,150,2024-01-17\n",
    "4,Divya,North,Mobile,Electronics,2,20000,2024-03-22\n",
    "5,Vikram,East,Washing Machine,Electronics,1,28000,2024-02-28\n",
    "6,Preeti,West,Sneakers,Fashion,2,4000,2024-01-31\n",
    "7,Aman,South,TV,Electronics,1,45000,2024-02-15\n",
    "8,Isha,North,Notebook,Stationery,10,60,2024-01-10\n",
    "9,Kunal,East,Pencil,Stationery,20,10,2024-03-05\n",
    "10,Tanvi,West,Face Cream,Personal Care,3,200,2024-03-19\n",
    "\"\"\"\n",
    "\n",
    "dbutils.fs.put(\"dbfs:/FileStore/tables/sales_transactions.csv\", csv_data, overwrite=True)"
   ]
  },
  {
   "cell_type": "markdown",
   "metadata": {
    "application/vnd.databricks.v1+cell": {
     "cellMetadata": {},
     "inputWidgets": {},
     "nuid": "497c0463-a5c1-4ffe-987d-d6bc15e5527d",
     "showTitle": false,
     "tableResultSettingsMap": {},
     "title": ""
    }
   },
   "source": [
    "###  Task 1: Ingest and Save"
   ]
  },
  {
   "cell_type": "markdown",
   "metadata": {
    "application/vnd.databricks.v1+cell": {
     "cellMetadata": {},
     "inputWidgets": {},
     "nuid": "483c01eb-e2e7-4479-9638-e064de35a0bb",
     "showTitle": false,
     "tableResultSettingsMap": {},
     "title": ""
    }
   },
   "source": [
    "Load the CSV into a PySpark DataFrame."
   ]
  },
  {
   "cell_type": "code",
   "execution_count": 0,
   "metadata": {
    "application/vnd.databricks.v1+cell": {
     "cellMetadata": {
      "byteLimit": 2048000,
      "rowLimit": 10000
     },
     "inputWidgets": {},
     "nuid": "1913f226-ce27-4194-a720-fb0a117b8c0f",
     "showTitle": false,
     "tableResultSettingsMap": {},
     "title": ""
    }
   },
   "outputs": [
    {
     "output_type": "stream",
     "name": "stdout",
     "output_type": "stream",
     "text": [
      "+--------------+-------------+------+---------------+-------------+--------+----------+----------+\n|transaction_id|customer_name|region|        product|     category|quantity|unit_price|      date|\n+--------------+-------------+------+---------------+-------------+--------+----------+----------+\n|             1|       Rajesh| North|         Laptop|  Electronics|       1|     55000|2024-01-12|\n|             2|        Sneha|  West|   Refrigerator|  Electronics|       1|     32000|2024-02-05|\n|             3|         Anil| South|        Shampoo|Personal Care|       5|       150|2024-01-17|\n|             4|        Divya| North|         Mobile|  Electronics|       2|     20000|2024-03-22|\n|             5|       Vikram|  East|Washing Machine|  Electronics|       1|     28000|2024-02-28|\n|             6|       Preeti|  West|       Sneakers|      Fashion|       2|      4000|2024-01-31|\n|             7|         Aman| South|             TV|  Electronics|       1|     45000|2024-02-15|\n|             8|         Isha| North|       Notebook|   Stationery|      10|        60|2024-01-10|\n|             9|        Kunal|  East|         Pencil|   Stationery|      20|        10|2024-03-05|\n|            10|        Tanvi|  West|     Face Cream|Personal Care|       3|       200|2024-03-19|\n+--------------+-------------+------+---------------+-------------+--------+----------+----------+\n\n"
     ]
    }
   ],
   "source": [
    "\n",
    "df = spark.read.option(\"header\", True).option(\"inferSchema\", True) \\\n",
    ".csv(\"/FileStore/tables/sales_transactions.csv\")\n",
    "df.show()\n",
    "\n",
    "\n"
   ]
  },
  {
   "cell_type": "markdown",
   "metadata": {
    "application/vnd.databricks.v1+cell": {
     "cellMetadata": {},
     "inputWidgets": {},
     "nuid": "a58f3fd7-a193-4984-a477-53fafe971c52",
     "showTitle": false,
     "tableResultSettingsMap": {},
     "title": ""
    }
   },
   "source": [
    " Save it in Parquet and Delta formats (in different folders)."
   ]
  },
  {
   "cell_type": "code",
   "execution_count": 0,
   "metadata": {
    "application/vnd.databricks.v1+cell": {
     "cellMetadata": {
      "byteLimit": 2048000,
      "rowLimit": 10000
     },
     "inputWidgets": {},
     "nuid": "f134d13a-c9ef-4ac4-b75d-2c40a3e4a02e",
     "showTitle": false,
     "tableResultSettingsMap": {},
     "title": ""
    }
   },
   "outputs": [],
   "source": [
    "# 2. Save in Parquet format\n",
    "df.write.mode(\"overwrite\").parquet(\"/FileStore/tables/sales_transactions_parquet\")\n",
    "\n",
    "# 3. Save in Delta format\n",
    "delta_path = \"/FileStore/tables/sales_transactions_delta\"\n",
    "df.write.format(\"delta\").mode(\"overwrite\").save(delta_path)"
   ]
  },
  {
   "cell_type": "markdown",
   "metadata": {
    "application/vnd.databricks.v1+cell": {
     "cellMetadata": {},
     "inputWidgets": {},
     "nuid": "752f13a9-04d4-4c77-b8a1-6fbc907c69fb",
     "showTitle": false,
     "tableResultSettingsMap": {},
     "title": ""
    }
   },
   "source": [
    "Create Delta Table called sales_transactions"
   ]
  },
  {
   "cell_type": "code",
   "execution_count": 0,
   "metadata": {
    "application/vnd.databricks.v1+cell": {
     "cellMetadata": {
      "byteLimit": 2048000,
      "rowLimit": 10000
     },
     "inputWidgets": {},
     "nuid": "c689a5e0-53fd-42ec-b110-209ab25609fb",
     "showTitle": false,
     "tableResultSettingsMap": {},
     "title": ""
    }
   },
   "outputs": [
    {
     "output_type": "execute_result",
     "data": {
      "text/plain": [
       "DataFrame[]"
      ]
     },
     "execution_count": 5,
     "metadata": {},
     "output_type": "execute_result"
    }
   ],
   "source": [
    "spark.sql(\"USE CATALOG hive_metastore\")\n",
    "spark.sql(\"DROP TABLE IF EXISTS sales_transactions\")\n",
    "spark.sql(f\"\"\"CREATE TABLE sales_transactions USING DELTA LOCATION 'dbfs:{delta_path}'\"\"\")"
   ]
  },
  {
   "cell_type": "markdown",
   "metadata": {
    "application/vnd.databricks.v1+cell": {
     "cellMetadata": {},
     "inputWidgets": {},
     "nuid": "13e5bf37-eb92-4066-9c8f-3d1be9b24cc5",
     "showTitle": false,
     "tableResultSettingsMap": {},
     "title": ""
    }
   },
   "source": [
    "### Task 2: Data Transformation"
   ]
  },
  {
   "cell_type": "code",
   "execution_count": 0,
   "metadata": {
    "application/vnd.databricks.v1+cell": {
     "cellMetadata": {
      "byteLimit": 2048000,
      "rowLimit": 10000
     },
     "inputWidgets": {},
     "nuid": "7c2fd1b8-cc56-4e3f-abde-82e0488d17f3",
     "showTitle": false,
     "tableResultSettingsMap": {},
     "title": ""
    }
   },
   "outputs": [
    {
     "output_type": "display_data",
     "data": {
      "text/html": [
       "<style scoped>\n",
       "  .table-result-container {\n",
       "    max-height: 300px;\n",
       "    overflow: auto;\n",
       "  }\n",
       "  table, th, td {\n",
       "    border: 1px solid black;\n",
       "    border-collapse: collapse;\n",
       "  }\n",
       "  th, td {\n",
       "    padding: 5px;\n",
       "  }\n",
       "  th {\n",
       "    text-align: left;\n",
       "  }\n",
       "</style><div class='table-result-container'><table class='table-result'><thead style='background-color: white'><tr><th>transaction_id</th><th>customer_name</th><th>region</th><th>product</th><th>category</th><th>quantity</th><th>unit_price</th><th>date</th><th>total_amount</th><th>month</th><th>date_formatted</th><th>is_high_value</th></tr></thead><tbody><tr><td>1</td><td>Rajesh</td><td>North</td><td>Laptop</td><td>Electronics</td><td>1</td><td>55000</td><td>2024-01-12</td><td>55000</td><td>1</td><td>12-Jan-2024</td><td>true</td></tr><tr><td>2</td><td>Sneha</td><td>West</td><td>Refrigerator</td><td>Electronics</td><td>1</td><td>32000</td><td>2024-02-05</td><td>32000</td><td>2</td><td>05-Feb-2024</td><td>true</td></tr><tr><td>3</td><td>Anil</td><td>South</td><td>Shampoo</td><td>Personal Care</td><td>5</td><td>150</td><td>2024-01-17</td><td>750</td><td>1</td><td>17-Jan-2024</td><td>false</td></tr><tr><td>4</td><td>Divya</td><td>North</td><td>Mobile</td><td>Electronics</td><td>2</td><td>20000</td><td>2024-03-22</td><td>40000</td><td>3</td><td>22-Mar-2024</td><td>true</td></tr><tr><td>5</td><td>Vikram</td><td>East</td><td>Washing Machine</td><td>Electronics</td><td>1</td><td>28000</td><td>2024-02-28</td><td>28000</td><td>2</td><td>28-Feb-2024</td><td>false</td></tr><tr><td>6</td><td>Preeti</td><td>West</td><td>Sneakers</td><td>Fashion</td><td>2</td><td>4000</td><td>2024-01-31</td><td>8000</td><td>1</td><td>31-Jan-2024</td><td>false</td></tr><tr><td>7</td><td>Aman</td><td>South</td><td>TV</td><td>Electronics</td><td>1</td><td>45000</td><td>2024-02-15</td><td>45000</td><td>2</td><td>15-Feb-2024</td><td>true</td></tr><tr><td>8</td><td>Isha</td><td>North</td><td>Notebook</td><td>Stationery</td><td>10</td><td>60</td><td>2024-01-10</td><td>600</td><td>1</td><td>10-Jan-2024</td><td>false</td></tr><tr><td>9</td><td>Kunal</td><td>East</td><td>Pencil</td><td>Stationery</td><td>20</td><td>10</td><td>2024-03-05</td><td>200</td><td>3</td><td>05-Mar-2024</td><td>false</td></tr><tr><td>10</td><td>Tanvi</td><td>West</td><td>Face Cream</td><td>Personal Care</td><td>3</td><td>200</td><td>2024-03-19</td><td>600</td><td>3</td><td>19-Mar-2024</td><td>false</td></tr></tbody></table></div>"
      ]
     },
     "metadata": {
      "application/vnd.databricks.v1+output": {
       "addedWidgets": {},
       "aggData": [],
       "aggError": "",
       "aggOverflow": false,
       "aggSchema": [],
       "aggSeriesLimitReached": false,
       "aggType": "",
       "arguments": {},
       "columnCustomDisplayInfos": {},
       "data": [
        [
         1,
         "Rajesh",
         "North",
         "Laptop",
         "Electronics",
         1,
         55000,
         "2024-01-12",
         55000,
         1,
         "12-Jan-2024",
         true
        ],
        [
         2,
         "Sneha",
         "West",
         "Refrigerator",
         "Electronics",
         1,
         32000,
         "2024-02-05",
         32000,
         2,
         "05-Feb-2024",
         true
        ],
        [
         3,
         "Anil",
         "South",
         "Shampoo",
         "Personal Care",
         5,
         150,
         "2024-01-17",
         750,
         1,
         "17-Jan-2024",
         false
        ],
        [
         4,
         "Divya",
         "North",
         "Mobile",
         "Electronics",
         2,
         20000,
         "2024-03-22",
         40000,
         3,
         "22-Mar-2024",
         true
        ],
        [
         5,
         "Vikram",
         "East",
         "Washing Machine",
         "Electronics",
         1,
         28000,
         "2024-02-28",
         28000,
         2,
         "28-Feb-2024",
         false
        ],
        [
         6,
         "Preeti",
         "West",
         "Sneakers",
         "Fashion",
         2,
         4000,
         "2024-01-31",
         8000,
         1,
         "31-Jan-2024",
         false
        ],
        [
         7,
         "Aman",
         "South",
         "TV",
         "Electronics",
         1,
         45000,
         "2024-02-15",
         45000,
         2,
         "15-Feb-2024",
         true
        ],
        [
         8,
         "Isha",
         "North",
         "Notebook",
         "Stationery",
         10,
         60,
         "2024-01-10",
         600,
         1,
         "10-Jan-2024",
         false
        ],
        [
         9,
         "Kunal",
         "East",
         "Pencil",
         "Stationery",
         20,
         10,
         "2024-03-05",
         200,
         3,
         "05-Mar-2024",
         false
        ],
        [
         10,
         "Tanvi",
         "West",
         "Face Cream",
         "Personal Care",
         3,
         200,
         "2024-03-19",
         600,
         3,
         "19-Mar-2024",
         false
        ]
       ],
       "datasetInfos": [],
       "dbfsResultPath": null,
       "isJsonSchema": true,
       "metadata": {},
       "overflow": false,
       "plotOptions": {
        "customPlotOptions": {},
        "displayType": "table",
        "pivotAggregation": null,
        "pivotColumns": null,
        "xColumns": null,
        "yColumns": null
       },
       "removedWidgets": [],
       "schema": [
        {
         "metadata": "{}",
         "name": "transaction_id",
         "type": "\"integer\""
        },
        {
         "metadata": "{}",
         "name": "customer_name",
         "type": "\"string\""
        },
        {
         "metadata": "{}",
         "name": "region",
         "type": "\"string\""
        },
        {
         "metadata": "{}",
         "name": "product",
         "type": "\"string\""
        },
        {
         "metadata": "{}",
         "name": "category",
         "type": "\"string\""
        },
        {
         "metadata": "{}",
         "name": "quantity",
         "type": "\"integer\""
        },
        {
         "metadata": "{}",
         "name": "unit_price",
         "type": "\"integer\""
        },
        {
         "metadata": "{\"__detected_date_formats\": \"yyyy-M-d\"}",
         "name": "date",
         "type": "\"date\""
        },
        {
         "metadata": "{}",
         "name": "total_amount",
         "type": "\"integer\""
        },
        {
         "metadata": "{}",
         "name": "month",
         "type": "\"integer\""
        },
        {
         "metadata": "{}",
         "name": "date_formatted",
         "type": "\"string\""
        },
        {
         "metadata": "{}",
         "name": "is_high_value",
         "type": "\"boolean\""
        }
       ],
       "type": "table"
      }
     },
     "output_type": "display_data"
    }
   ],
   "source": [
    "from pyspark.sql.functions import col, month, date_format, when\n",
    "\n",
    "df = spark.read.format(\"delta\").load(delta_path)\n",
    "\n",
    "# 1. Add total_amount\n",
    "df = df.withColumn(\"total_amount\", col(\"quantity\") * col(\"unit_price\"))\n",
    "\n",
    "# 2. Add month\n",
    "df = df.withColumn(\"month\", month(col(\"date\")))\n",
    "\n",
    "# 3. Format date\n",
    "df = df.withColumn(\"date_formatted\", date_format(col(\"date\"), \"dd-MMM-yyyy\"))\n",
    "\n",
    "# 4. Add is_high_value\n",
    "df = df.withColumn(\"is_high_value\", when(col(\"total_amount\") > 30000, True).otherwise(False))\n",
    "\n",
    "display(df)\n"
   ]
  },
  {
   "cell_type": "markdown",
   "metadata": {
    "application/vnd.databricks.v1+cell": {
     "cellMetadata": {},
     "inputWidgets": {},
     "nuid": "a477afc6-d182-4435-9c86-65b3fd9c2b58",
     "showTitle": false,
     "tableResultSettingsMap": {},
     "title": ""
    }
   },
   "source": [
    "### Tsk 3: Aggregations & Insights"
   ]
  },
  {
   "cell_type": "code",
   "execution_count": 0,
   "metadata": {
    "application/vnd.databricks.v1+cell": {
     "cellMetadata": {
      "byteLimit": 2048000,
      "rowLimit": 10000
     },
     "inputWidgets": {},
     "nuid": "b4f31e6a-3e8d-4974-9bae-58b56187e915",
     "showTitle": false,
     "tableResultSettingsMap": {},
     "title": ""
    }
   },
   "outputs": [
    {
     "output_type": "stream",
     "name": "stdout",
     "output_type": "stream",
     "text": [
      "+------+-----+\n|region|count|\n+------+-----+\n|  West|    3|\n|  East|    2|\n| North|    3|\n| South|    2|\n+------+-----+\n\n+-------------+-----------+\n|     category|total_sales|\n+-------------+-----------+\n|  Electronics|     200000|\n|      Fashion|       8000|\n|Personal Care|       1350|\n+-------------+-----------+\nonly showing top 3 rows\n+-----+-----------+\n|month|total_sales|\n+-----+-----------+\n|    1|      64350|\n|    2|     105000|\n|    3|      40800|\n+-----+-----------+\n\n+-------------+------------+\n|customer_name|total_amount|\n+-------------+------------+\n|       Rajesh|       55000|\n+-------------+------------+\n\n+--------------+\n|Q1_total_sales|\n+--------------+\n|        210150|\n+--------------+\n\n"
     ]
    }
   ],
   "source": [
    "from pyspark.sql.functions import col, month\n",
    "df = spark.read.format(\"delta\").load(delta_path) \\\n",
    "        .withColumn(\"total_amount\", col(\"quantity\") * col(\"unit_price\")) \\\n",
    "        .withColumn(\"month\", month(col(\"date\")))\n",
    "\n",
    "# 1. Transactions per region\n",
    "df.groupBy(\"region\").count().show()\n",
    "\n",
    "# 2. Top 3 categories by total sales amount\n",
    "df.groupBy(\"category\").sum(\"total_amount\") \\\n",
    "  .withColumnRenamed(\"sum(total_amount)\", \"total_sales\") \\\n",
    "  .orderBy(col(\"total_sales\").desc()) \\\n",
    "  .show(3)\n",
    "\n",
    "# 3. Month-wise revenue trend\n",
    "df.groupBy(\"month\").sum(\"total_amount\") \\\n",
    "  .withColumnRenamed(\"sum(total_amount)\", \"total_sales\") \\\n",
    "  .orderBy(\"month\") \\\n",
    "  .show()\n",
    "\n",
    "# 4. Customer(s) with highest purchase in one transaction\n",
    "max_amount = df.agg({\"total_amount\": \"max\"}).collect()[0][0]\n",
    "df.filter(col(\"total_amount\") == max_amount) \\\n",
    "  .select(\"customer_name\", \"total_amount\") \\\n",
    "  .show()\n",
    "\n",
    "# 5. Total sales done in Q1 (Jan–Mar)\n",
    "df.filter(col(\"month\").between(1, 3)) \\\n",
    "  .agg({\"total_amount\": \"sum\"}) \\\n",
    "  .withColumnRenamed(\"sum(total_amount)\", \"Q1_total_sales\") \\\n",
    "  .show()\n"
   ]
  },
  {
   "cell_type": "markdown",
   "metadata": {
    "application/vnd.databricks.v1+cell": {
     "cellMetadata": {},
     "inputWidgets": {},
     "nuid": "53d6f38a-df59-4be5-a0e2-a519db15ad9f",
     "showTitle": false,
     "tableResultSettingsMap": {},
     "title": ""
    }
   },
   "source": [
    "###  Task 4: Update & Delete Scenarios"
   ]
  },
  {
   "cell_type": "code",
   "execution_count": 0,
   "metadata": {
    "application/vnd.databricks.v1+cell": {
     "cellMetadata": {
      "byteLimit": 2048000,
      "rowLimit": 10000
     },
     "inputWidgets": {},
     "nuid": "a4944e52-1b39-4398-a08c-ab2839fa4c6b",
     "showTitle": false,
     "tableResultSettingsMap": {},
     "title": ""
    }
   },
   "outputs": [
    {
     "output_type": "display_data",
     "data": {
      "text/html": [
       "<style scoped>\n",
       "  .table-result-container {\n",
       "    max-height: 300px;\n",
       "    overflow: auto;\n",
       "  }\n",
       "  table, th, td {\n",
       "    border: 1px solid black;\n",
       "    border-collapse: collapse;\n",
       "  }\n",
       "  th, td {\n",
       "    padding: 5px;\n",
       "  }\n",
       "  th {\n",
       "    text-align: left;\n",
       "  }\n",
       "</style><div class='table-result-container'><table class='table-result'><thead style='background-color: white'><tr><th>transaction_id</th><th>customer_name</th><th>region</th><th>product</th><th>category</th><th>quantity</th><th>unit_price</th><th>date</th></tr></thead><tbody><tr><td>8</td><td>Isha</td><td>North</td><td>Notebook</td><td>Stationery</td><td>10</td><td>66</td><td>2024-01-10</td></tr><tr><td>9</td><td>Kunal</td><td>East</td><td>Pencil</td><td>Stationery</td><td>20</td><td>11</td><td>2024-03-05</td></tr><tr><td>3</td><td>Anil</td><td>South</td><td>Shampoo</td><td>Personal Care</td><td>5</td><td>150</td><td>2024-01-17</td></tr><tr><td>10</td><td>Tanvi</td><td>West</td><td>Face Cream</td><td>Personal Care</td><td>3</td><td>200</td><td>2024-03-19</td></tr><tr><td>11</td><td>Satej</td><td>South</td><td>Smartwatch</td><td>Electronics</td><td>1</td><td>15000</td><td>2025-08-08</td></tr></tbody></table></div>"
      ]
     },
     "metadata": {
      "application/vnd.databricks.v1+output": {
       "addedWidgets": {},
       "aggData": [],
       "aggError": "",
       "aggOverflow": false,
       "aggSchema": [],
       "aggSeriesLimitReached": false,
       "aggType": "",
       "arguments": {},
       "columnCustomDisplayInfos": {},
       "data": [
        [
         8,
         "Isha",
         "North",
         "Notebook",
         "Stationery",
         10,
         66,
         "2024-01-10"
        ],
        [
         9,
         "Kunal",
         "East",
         "Pencil",
         "Stationery",
         20,
         11,
         "2024-03-05"
        ],
        [
         3,
         "Anil",
         "South",
         "Shampoo",
         "Personal Care",
         5,
         150,
         "2024-01-17"
        ],
        [
         10,
         "Tanvi",
         "West",
         "Face Cream",
         "Personal Care",
         3,
         200,
         "2024-03-19"
        ],
        [
         11,
         "Satej",
         "South",
         "Smartwatch",
         "Electronics",
         1,
         15000,
         "2025-08-08"
        ]
       ],
       "datasetInfos": [],
       "dbfsResultPath": null,
       "isJsonSchema": true,
       "metadata": {},
       "overflow": false,
       "plotOptions": {
        "customPlotOptions": {},
        "displayType": "table",
        "pivotAggregation": null,
        "pivotColumns": null,
        "xColumns": null,
        "yColumns": null
       },
       "removedWidgets": [],
       "schema": [
        {
         "metadata": "{}",
         "name": "transaction_id",
         "type": "\"integer\""
        },
        {
         "metadata": "{}",
         "name": "customer_name",
         "type": "\"string\""
        },
        {
         "metadata": "{}",
         "name": "region",
         "type": "\"string\""
        },
        {
         "metadata": "{}",
         "name": "product",
         "type": "\"string\""
        },
        {
         "metadata": "{}",
         "name": "category",
         "type": "\"string\""
        },
        {
         "metadata": "{}",
         "name": "quantity",
         "type": "\"integer\""
        },
        {
         "metadata": "{}",
         "name": "unit_price",
         "type": "\"integer\""
        },
        {
         "metadata": "{\"__detected_date_formats\": \"yyyy-M-d\"}",
         "name": "date",
         "type": "\"date\""
        }
       ],
       "type": "table"
      }
     },
     "output_type": "display_data"
    }
   ],
   "source": [
    "from delta.tables import DeltaTable\n",
    "from datetime import datetime\n",
    "from pyspark.sql.functions import col\n",
    "\n",
    "deltaTable = DeltaTable.forPath(spark, delta_path)\n",
    "\n",
    "# 1. Update: increase price of Stationery items by 10%\n",
    "deltaTable.update(\n",
    "    condition=col(\"category\") == \"Stationery\",\n",
    "    set={\"unit_price\": col(\"unit_price\") * 1.10}\n",
    ")\n",
    "\n",
    "# 2. Delete: remove records with quantity < 3\n",
    "deltaTable.delete(condition=col(\"quantity\") < 3)\n",
    "\n",
    "# 3. Insert: add today's transaction\n",
    "new_data = [\n",
    "    (11, \"Satej\", \"South\", \"Smartwatch\", \"Electronics\", 1, 15000, datetime.today().strftime(\"%Y-%m-%d\"))\n",
    "]\n",
    "update_df = spark.createDataFrame(new_data, [\n",
    "    \"transaction_id\", \"customer_name\", \"region\", \"product\", \"category\", \"quantity\", \"unit_price\", \"date\"\n",
    "])\n",
    "deltaTable.alias(\"target\").merge(\n",
    "    update_df.alias(\"source\"),\n",
    "    \"target.transaction_id = source.transaction_id\"\n",
    ").whenMatchedUpdateAll() \\\n",
    " .whenNotMatchedInsertAll() \\\n",
    " .execute()\n",
    "\n",
    "# Show updated table\n",
    "display(deltaTable.toDF())\n"
   ]
  },
  {
   "cell_type": "markdown",
   "metadata": {
    "application/vnd.databricks.v1+cell": {
     "cellMetadata": {},
     "inputWidgets": {},
     "nuid": "9d7052ec-2755-4d51-a7de-dc3bfbc8db7a",
     "showTitle": false,
     "tableResultSettingsMap": {},
     "title": ""
    }
   },
   "source": [
    "### Task 5: Partitioning & Optimization (Bonus)"
   ]
  },
  {
   "cell_type": "code",
   "execution_count": 0,
   "metadata": {
    "application/vnd.databricks.v1+cell": {
     "cellMetadata": {
      "byteLimit": 2048000,
      "rowLimit": 10000
     },
     "inputWidgets": {},
     "nuid": "73d24e3c-e00c-4229-ab6a-602018685324",
     "showTitle": false,
     "tableResultSettingsMap": {},
     "title": ""
    }
   },
   "outputs": [
    {
     "output_type": "stream",
     "name": "stdout",
     "output_type": "stream",
     "text": [
      "Partitioned by region table created.\n"
     ]
    },
    {
     "output_type": "display_data",
     "data": {
      "text/html": [
       "<style scoped>\n",
       "  .table-result-container {\n",
       "    max-height: 300px;\n",
       "    overflow: auto;\n",
       "  }\n",
       "  table, th, td {\n",
       "    border: 1px solid black;\n",
       "    border-collapse: collapse;\n",
       "  }\n",
       "  th, td {\n",
       "    padding: 5px;\n",
       "  }\n",
       "  th {\n",
       "    text-align: left;\n",
       "  }\n",
       "</style><div class='table-result-container'><table class='table-result'><thead style='background-color: white'><tr><th>transaction_id</th><th>customer_name</th><th>region</th><th>product</th><th>category</th><th>quantity</th><th>unit_price</th><th>date</th><th>month</th></tr></thead><tbody><tr><td>3</td><td>Anil</td><td>South</td><td>Shampoo</td><td>Personal Care</td><td>5</td><td>150</td><td>2024-01-17</td><td>1</td></tr><tr><td>11</td><td>Satej</td><td>South</td><td>Smartwatch</td><td>Electronics</td><td>1</td><td>15000</td><td>2025-08-08</td><td>8</td></tr><tr><td>10</td><td>Tanvi</td><td>West</td><td>Face Cream</td><td>Personal Care</td><td>3</td><td>200</td><td>2024-03-19</td><td>3</td></tr><tr><td>8</td><td>Isha</td><td>North</td><td>Notebook</td><td>Stationery</td><td>10</td><td>66</td><td>2024-01-10</td><td>1</td></tr><tr><td>9</td><td>Kunal</td><td>East</td><td>Pencil</td><td>Stationery</td><td>20</td><td>11</td><td>2024-03-05</td><td>3</td></tr></tbody></table></div>"
      ]
     },
     "metadata": {
      "application/vnd.databricks.v1+output": {
       "addedWidgets": {},
       "aggData": [],
       "aggError": "",
       "aggOverflow": false,
       "aggSchema": [],
       "aggSeriesLimitReached": false,
       "aggType": "",
       "arguments": {},
       "columnCustomDisplayInfos": {},
       "data": [
        [
         3,
         "Anil",
         "South",
         "Shampoo",
         "Personal Care",
         5,
         150,
         "2024-01-17",
         1
        ],
        [
         11,
         "Satej",
         "South",
         "Smartwatch",
         "Electronics",
         1,
         15000,
         "2025-08-08",
         8
        ],
        [
         10,
         "Tanvi",
         "West",
         "Face Cream",
         "Personal Care",
         3,
         200,
         "2024-03-19",
         3
        ],
        [
         8,
         "Isha",
         "North",
         "Notebook",
         "Stationery",
         10,
         66,
         "2024-01-10",
         1
        ],
        [
         9,
         "Kunal",
         "East",
         "Pencil",
         "Stationery",
         20,
         11,
         "2024-03-05",
         3
        ]
       ],
       "datasetInfos": [],
       "dbfsResultPath": null,
       "isJsonSchema": true,
       "metadata": {},
       "overflow": false,
       "plotOptions": {
        "customPlotOptions": {},
        "displayType": "table",
        "pivotAggregation": null,
        "pivotColumns": null,
        "xColumns": null,
        "yColumns": null
       },
       "removedWidgets": [],
       "schema": [
        {
         "metadata": "{}",
         "name": "transaction_id",
         "type": "\"integer\""
        },
        {
         "metadata": "{}",
         "name": "customer_name",
         "type": "\"string\""
        },
        {
         "metadata": "{}",
         "name": "region",
         "type": "\"string\""
        },
        {
         "metadata": "{}",
         "name": "product",
         "type": "\"string\""
        },
        {
         "metadata": "{}",
         "name": "category",
         "type": "\"string\""
        },
        {
         "metadata": "{}",
         "name": "quantity",
         "type": "\"integer\""
        },
        {
         "metadata": "{}",
         "name": "unit_price",
         "type": "\"integer\""
        },
        {
         "metadata": "{\"__detected_date_formats\": \"yyyy-M-d\"}",
         "name": "date",
         "type": "\"date\""
        },
        {
         "metadata": "{}",
         "name": "month",
         "type": "\"integer\""
        }
       ],
       "type": "table"
      }
     },
     "output_type": "display_data"
    },
    {
     "output_type": "stream",
     "name": "stdout",
     "output_type": "stream",
     "text": [
      "Partitioned by month table created.\n"
     ]
    },
    {
     "output_type": "display_data",
     "data": {
      "text/html": [
       "<style scoped>\n",
       "  .table-result-container {\n",
       "    max-height: 300px;\n",
       "    overflow: auto;\n",
       "  }\n",
       "  table, th, td {\n",
       "    border: 1px solid black;\n",
       "    border-collapse: collapse;\n",
       "  }\n",
       "  th, td {\n",
       "    padding: 5px;\n",
       "  }\n",
       "  th {\n",
       "    text-align: left;\n",
       "  }\n",
       "</style><div class='table-result-container'><table class='table-result'><thead style='background-color: white'><tr><th>transaction_id</th><th>customer_name</th><th>region</th><th>product</th><th>category</th><th>quantity</th><th>unit_price</th><th>date</th><th>month</th></tr></thead><tbody><tr><td>9</td><td>Kunal</td><td>East</td><td>Pencil</td><td>Stationery</td><td>20</td><td>11</td><td>2024-03-05</td><td>3</td></tr><tr><td>10</td><td>Tanvi</td><td>West</td><td>Face Cream</td><td>Personal Care</td><td>3</td><td>200</td><td>2024-03-19</td><td>3</td></tr><tr><td>8</td><td>Isha</td><td>North</td><td>Notebook</td><td>Stationery</td><td>10</td><td>66</td><td>2024-01-10</td><td>1</td></tr><tr><td>3</td><td>Anil</td><td>South</td><td>Shampoo</td><td>Personal Care</td><td>5</td><td>150</td><td>2024-01-17</td><td>1</td></tr><tr><td>11</td><td>Satej</td><td>South</td><td>Smartwatch</td><td>Electronics</td><td>1</td><td>15000</td><td>2025-08-08</td><td>8</td></tr></tbody></table></div>"
      ]
     },
     "metadata": {
      "application/vnd.databricks.v1+output": {
       "addedWidgets": {},
       "aggData": [],
       "aggError": "",
       "aggOverflow": false,
       "aggSchema": [],
       "aggSeriesLimitReached": false,
       "aggType": "",
       "arguments": {},
       "columnCustomDisplayInfos": {},
       "data": [
        [
         9,
         "Kunal",
         "East",
         "Pencil",
         "Stationery",
         20,
         11,
         "2024-03-05",
         3
        ],
        [
         10,
         "Tanvi",
         "West",
         "Face Cream",
         "Personal Care",
         3,
         200,
         "2024-03-19",
         3
        ],
        [
         8,
         "Isha",
         "North",
         "Notebook",
         "Stationery",
         10,
         66,
         "2024-01-10",
         1
        ],
        [
         3,
         "Anil",
         "South",
         "Shampoo",
         "Personal Care",
         5,
         150,
         "2024-01-17",
         1
        ],
        [
         11,
         "Satej",
         "South",
         "Smartwatch",
         "Electronics",
         1,
         15000,
         "2025-08-08",
         8
        ]
       ],
       "datasetInfos": [],
       "dbfsResultPath": null,
       "isJsonSchema": true,
       "metadata": {},
       "overflow": false,
       "plotOptions": {
        "customPlotOptions": {},
        "displayType": "table",
        "pivotAggregation": null,
        "pivotColumns": null,
        "xColumns": null,
        "yColumns": null
       },
       "removedWidgets": [],
       "schema": [
        {
         "metadata": "{}",
         "name": "transaction_id",
         "type": "\"integer\""
        },
        {
         "metadata": "{}",
         "name": "customer_name",
         "type": "\"string\""
        },
        {
         "metadata": "{}",
         "name": "region",
         "type": "\"string\""
        },
        {
         "metadata": "{}",
         "name": "product",
         "type": "\"string\""
        },
        {
         "metadata": "{}",
         "name": "category",
         "type": "\"string\""
        },
        {
         "metadata": "{}",
         "name": "quantity",
         "type": "\"integer\""
        },
        {
         "metadata": "{}",
         "name": "unit_price",
         "type": "\"integer\""
        },
        {
         "metadata": "{\"__detected_date_formats\": \"yyyy-M-d\"}",
         "name": "date",
         "type": "\"date\""
        },
        {
         "metadata": "{}",
         "name": "month",
         "type": "\"integer\""
        }
       ],
       "type": "table"
      }
     },
     "output_type": "display_data"
    },
    {
     "output_type": "stream",
     "name": "stdout",
     "output_type": "stream",
     "text": [
      "Running Z-Ordering on region-partitioned table...\n"
     ]
    },
    {
     "output_type": "execute_result",
     "data": {
      "text/plain": [
       "DataFrame[path: string, metrics: struct<numFilesAdded:bigint,numFilesRemoved:bigint,filesAdded:struct<min:bigint,max:bigint,avg:double,totalFiles:bigint,totalSize:bigint>,filesRemoved:struct<min:bigint,max:bigint,avg:double,totalFiles:bigint,totalSize:bigint>,partitionsOptimized:bigint,zOrderStats:struct<strategyName:string,inputCubeFiles:struct<num:bigint,size:bigint>,inputOtherFiles:struct<num:bigint,size:bigint>,inputNumCubes:bigint,mergedFiles:struct<num:bigint,size:bigint>,numOutputCubes:bigint,mergedNumCubes:bigint>,clusteringStats:struct<inputZCubeFiles:struct<numFiles:bigint,size:bigint>,inputOtherFiles:struct<numFiles:bigint,size:bigint>,inputNumZCubes:bigint,mergedFiles:struct<numFiles:bigint,size:bigint>,numOutputZCubes:bigint>,numBins:bigint,numBatches:bigint,totalConsideredFiles:bigint,totalFilesSkipped:bigint,preserveInsertionOrder:boolean,numFilesSkippedToReduceWriteAmplification:bigint,numBytesSkippedToReduceWriteAmplification:bigint,startTimeMs:bigint,endTimeMs:bigint,totalClusterParallelism:bigint,totalScheduledTasks:bigint,autoCompactParallelismStats:struct<maxClusterActiveParallelism:bigint,minClusterActiveParallelism:bigint,maxSessionActiveParallelism:bigint,minSessionActiveParallelism:bigint>,deletionVectorStats:struct<numDeletionVectorsRemoved:bigint,numDeletionVectorRowsRemoved:bigint>,recompressionCodec:string,numTableColumns:bigint,numTableColumnsWithStats:bigint,totalTaskExecutionTimeMs:bigint,skippedArchivedFiles:bigint,clusteringMetrics:struct<sizeOfTableInBytesBeforeLazyClustering:bigint,isNewMetadataCreated:boolean,isPOTriggered:boolean,isFull:boolean,approxClusteringQuality:double,approxClusteringQualityPerColumn:array<double>,approxClusteringCoverage:double,compactionType:string,numFilesSkippedWithoutStats:bigint,numFilesClassifiedToIntermediateNodes:bigint,sizeOfFilesClassifiedToIntermediateNodesInBytes:bigint,logicalSizeOfFilesClassifiedToIntermediateNodesInBytes:bigint,numFilesClassifiedToLeafNodes:bigint,sizeOfFilesClassifiedToLeafNodesInBytes:bigint,logicalSizeOfFilesClassifiedToLeafNodesInBytes:bigint,numThreadsForClassifier:int,clusterThresholdStrategy:string,minFileSize:bigint,maxFileSize:bigint,nodeMinNumFilesToCompact:bigint,numIdealFiles:bigint,numIdealFilesWithTrimmedStringMaxValue:bigint,numAddedFilesWithSameMinMaxOnClusteringColumns:array<bigint>,numClusteringTasksPlanned:int,numClusteringTasksNotPlannedDueToPO:int,numCompactionTasksPlanned:int,numCompactionTasksPlannedUndoneDueToPO:int,numOptimizeBatchesPlanned:int,numLeafNodesExpanded:bigint,numLeafNodesClustered:bigint,numGetFilesForNodeCalls:bigint,numSamplingJobs:bigint,numLeafNodesCompacted:bigint,numLeafNodesCompactedUndoneDueToPO:bigint,numIntermediateNodesCompacted:bigint,numIntermediateNodesCompactedUndoneDueToPO:bigint,totalSizeOfDataToCompactInBytes:bigint,totalSizeOfDataToCompactInBytesUndoneDueToPO:bigint,totalLogicalSizeOfDataToCompactInBytes:bigint,totalLogicalSizeOfDataToCompactInBytesUndoneDueToPO:bigint,numIntermediateNodesClustered:bigint,numFilesSkippedAfterExpansion:bigint,totalSizeOfFilesSkippedAfterExpansionInBytes:bigint,totalLogicalSizeOfFilesSkippedAfterExpansionInBytes:bigint,totalSizeOfDataToRewriteInBytes:bigint,totalLogicalSizeOfDataToRewriteInBytes:bigint,timeMetrics:struct<classifierTimeMs:bigint,optimizerTimeMs:bigint,metadataLoadTimeMs:bigint,totalGetFilesForNodeCallsTimeMs:bigint,totalSamplingTimeMs:bigint,metadataCreationTimeMs:bigint>,maxOptimizeBatchesInParallel:bigint,currentIteration:int,maxIterations:int,clusteringStrategy:string>>]"
      ]
     },
     "execution_count": 65,
     "metadata": {},
     "output_type": "execute_result"
    }
   ],
   "source": [
    "from pyspark.sql.functions import month\n",
    "\n",
    "# Paths for partitioned tables\n",
    "delta_partitioned_region = \"/tmp/delta_sales_partitioned_region\"\n",
    "delta_partitioned_month = \"/tmp/delta_sales_partitioned_month\"\n",
    "\n",
    "# Load Delta table and add month column\n",
    "df = spark.read.format(\"delta\").load(delta_path) \\\n",
    "        .withColumn(\"month\", month(col(\"date\")))\n",
    "\n",
    "# 1. Partitioned by region\n",
    "df.write.format(\"delta\").mode(\"overwrite\").partitionBy(\"region\").save(delta_partitioned_region)\n",
    "print(\"Partitioned by region table created.\")\n",
    "display(spark.read.format(\"delta\").load(delta_partitioned_region))\n",
    "\n",
    "# 2. Partitioned by month\n",
    "df.write.format(\"delta\").mode(\"overwrite\").partitionBy(\"month\").save(delta_partitioned_month)\n",
    "print(\"Partitioned by month table created.\")\n",
    "display(spark.read.format(\"delta\").load(delta_partitioned_month))\n",
    "\n",
    "# 3. Z-Ordering (Databricks Premium only) – This will output optimization stats\n",
    "print(\"Running Z-Ordering on region-partitioned table...\")\n",
    "spark.sql(f\"OPTIMIZE delta.`{delta_partitioned_region}` ZORDER BY (category)\")\n",
    "\n"
   ]
  }
 ],
 "metadata": {
  "application/vnd.databricks.v1+notebook": {
   "computePreferences": null,
   "dashboards": [],
   "environmentMetadata": {
    "base_environment": "",
    "environment_version": "2"
   },
   "inputWidgetPreferences": null,
   "language": "python",
   "notebookMetadata": {
    "mostRecentlyExecutedCommandWithImplicitDF": {
     "commandId": 6348626824187422,
     "dataframes": [
      "_sqldf"
     ]
    },
    "pythonIndentUnit": 4
   },
   "notebookName": "Delta Exercise_1",
   "widgets": {}
  },
  "language_info": {
   "name": "python"
  }
 },
 "nbformat": 4,
 "nbformat_minor": 0
}