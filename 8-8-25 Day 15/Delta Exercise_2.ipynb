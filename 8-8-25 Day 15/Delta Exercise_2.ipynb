{
 "cells": [
  {
   "cell_type": "markdown",
   "metadata": {
    "application/vnd.databricks.v1+cell": {
     "cellMetadata": {},
     "inputWidgets": {},
     "nuid": "14532d83-8a73-41e2-a79f-3d8224db8eb9",
     "showTitle": false,
     "tableResultSettingsMap": {},
     "title": ""
    }
   },
   "source": [
    "### Dataset: Inline CSV – student_scores.csv"
   ]
  },
  {
   "cell_type": "code",
   "execution_count": 0,
   "metadata": {
    "application/vnd.databricks.v1+cell": {
     "cellMetadata": {
      "byteLimit": 2048000,
      "rowLimit": 10000
     },
     "inputWidgets": {},
     "nuid": "d1fb8923-a79c-42c4-bf1c-dceccc365ed9",
     "showTitle": false,
     "tableResultSettingsMap": {},
     "title": ""
    }
   },
   "outputs": [
    {
     "output_type": "stream",
     "name": "stdout",
     "output_type": "stream",
     "text": [
      "Wrote 234 bytes.\n"
     ]
    },
    {
     "output_type": "execute_result",
     "data": {
      "text/plain": [
       "True"
      ]
     },
     "execution_count": 2,
     "metadata": {},
     "output_type": "execute_result"
    }
   ],
   "source": [
    "csv_data = \"\"\"student_id,name,subject,score,grade\n",
    "1,Ankit,Math,85,A\n",
    "2,Divya,Science,92,A\n",
    "3,Rahul,English,78,B\n",
    "4,Sneha,Math,65,C\n",
    "5,Aryan,Science,55,D\n",
    "6,Isha,English,88,A\n",
    "7,Tanvi,Math,91,A\n",
    "8,Kunal,Science,72,B\n",
    "9,Megha,English,60,C\n",
    "10,Rohan,Math,40,F\n",
    "\"\"\"\n",
    "\n",
    "dbutils.fs.put(\"dbfs:/tmp/student_scores.csv\", csv_data, overwrite=True)"
   ]
  },
  {
   "cell_type": "markdown",
   "metadata": {
    "application/vnd.databricks.v1+cell": {
     "cellMetadata": {},
     "inputWidgets": {},
     "nuid": "a5d6274f-d8fe-4618-9658-bb04a47738f1",
     "showTitle": false,
     "tableResultSettingsMap": {},
     "title": ""
    }
   },
   "source": [
    "Step 1: Read into DataFrame"
   ]
  },
  {
   "cell_type": "code",
   "execution_count": 0,
   "metadata": {
    "application/vnd.databricks.v1+cell": {
     "cellMetadata": {
      "byteLimit": 2048000,
      "rowLimit": 10000
     },
     "inputWidgets": {},
     "nuid": "8dc91011-549f-4b7f-97c6-92d73b508ca4",
     "showTitle": false,
     "tableResultSettingsMap": {},
     "title": ""
    }
   },
   "outputs": [
    {
     "output_type": "stream",
     "name": "stdout",
     "output_type": "stream",
     "text": [
      "+----------+-----+-------+-----+-----+\n|student_id| name|subject|score|grade|\n+----------+-----+-------+-----+-----+\n|         1|Ankit|   Math|   85|    A|\n|         2|Divya|Science|   92|    A|\n|         3|Rahul|English|   78|    B|\n|         4|Sneha|   Math|   65|    C|\n|         5|Aryan|Science|   55|    D|\n|         6| Isha|English|   88|    A|\n|         7|Tanvi|   Math|   91|    A|\n|         8|Kunal|Science|   72|    B|\n|         9|Megha|English|   60|    C|\n|        10|Rohan|   Math|   40|    F|\n+----------+-----+-------+-----+-----+\n\n"
     ]
    }
   ],
   "source": [
    "df = spark.read.option(\"header\", True).option(\"inferSchema\", True).csv(\"dbfs:/tmp/student_scores.csv\")\n",
    "df.show()"
   ]
  },
  {
   "cell_type": "markdown",
   "metadata": {
    "application/vnd.databricks.v1+cell": {
     "cellMetadata": {},
     "inputWidgets": {},
     "nuid": "c54bd652-3d23-4a0e-820f-f3f7921ec802",
     "showTitle": false,
     "tableResultSettingsMap": {},
     "title": ""
    }
   },
   "source": [
    "Step 2: Write to Delta"
   ]
  },
  {
   "cell_type": "code",
   "execution_count": 0,
   "metadata": {
    "application/vnd.databricks.v1+cell": {
     "cellMetadata": {
      "byteLimit": 2048000,
      "rowLimit": 10000
     },
     "inputWidgets": {},
     "nuid": "03eb399d-7030-4bfd-a0ee-cf64e01a1697",
     "showTitle": false,
     "tableResultSettingsMap": {},
     "title": ""
    }
   },
   "outputs": [
    {
     "output_type": "stream",
     "name": "stdout",
     "output_type": "stream",
     "text": [
      "Delta table created at: /tmp/delta/student_scores\n"
     ]
    }
   ],
   "source": [
    "delta_path = \"/tmp/delta/student_scores\"\n",
    "df.write.mode(\"overwrite\").format(\"delta\").save(delta_path)\n"
   ]
  },
  {
   "cell_type": "code",
   "execution_count": 0,
   "metadata": {
    "application/vnd.databricks.v1+cell": {
     "cellMetadata": {
      "byteLimit": 2048000,
      "rowLimit": 10000
     },
     "inputWidgets": {},
     "nuid": "b3b62089-fe07-4470-a76b-17c3916c7c88",
     "showTitle": false,
     "tableResultSettingsMap": {},
     "title": ""
    }
   },
   "outputs": [
    {
     "output_type": "stream",
     "name": "stdout",
     "output_type": "stream",
     "text": [
      "Delta table created at: /tmp/delta/student_scores\n"
     ]
    }
   ],
   "source": [
    "print(\"Delta table created at:\", delta_path)"
   ]
  },
  {
   "cell_type": "markdown",
   "metadata": {
    "application/vnd.databricks.v1+cell": {
     "cellMetadata": {},
     "inputWidgets": {},
     "nuid": "9dcc8f30-f73a-4e38-9571-7db5b80d3093",
     "showTitle": false,
     "tableResultSettingsMap": {},
     "title": ""
    }
   },
   "source": [
    " Basic Tasks"
   ]
  },
  {
   "cell_type": "markdown",
   "metadata": {
    "application/vnd.databricks.v1+cell": {
     "cellMetadata": {},
     "inputWidgets": {},
     "nuid": "1bbe1066-1e51-4fba-a0e3-e53253a05c96",
     "showTitle": false,
     "tableResultSettingsMap": {},
     "title": ""
    }
   },
   "source": [
    "Show all students and their scores"
   ]
  },
  {
   "cell_type": "code",
   "execution_count": 0,
   "metadata": {
    "application/vnd.databricks.v1+cell": {
     "cellMetadata": {
      "byteLimit": 2048000,
      "rowLimit": 10000
     },
     "inputWidgets": {},
     "nuid": "6cf3ee4b-ed0e-4d8c-a4a0-a36f74f7767a",
     "showTitle": false,
     "tableResultSettingsMap": {},
     "title": ""
    }
   },
   "outputs": [
    {
     "output_type": "display_data",
     "data": {
      "text/html": [
       "<style scoped>\n",
       "  .table-result-container {\n",
       "    max-height: 300px;\n",
       "    overflow: auto;\n",
       "  }\n",
       "  table, th, td {\n",
       "    border: 1px solid black;\n",
       "    border-collapse: collapse;\n",
       "  }\n",
       "  th, td {\n",
       "    padding: 5px;\n",
       "  }\n",
       "  th {\n",
       "    text-align: left;\n",
       "  }\n",
       "</style><div class='table-result-container'><table class='table-result'><thead style='background-color: white'><tr><th>student_id</th><th>name</th><th>subject</th><th>score</th><th>grade</th></tr></thead><tbody><tr><td>3</td><td>Rahul</td><td>English</td><td>83</td><td>B</td></tr><tr><td>6</td><td>Isha</td><td>English</td><td>93</td><td>A</td></tr><tr><td>9</td><td>Megha</td><td>English</td><td>65</td><td>C</td></tr><tr><td>1</td><td>Ankit</td><td>Math</td><td>85</td><td>A</td></tr><tr><td>2</td><td>Divya</td><td>Science</td><td>92</td><td>A</td></tr><tr><td>4</td><td>Sneha</td><td>Math</td><td>65</td><td>C</td></tr><tr><td>5</td><td>Aryan</td><td>Science</td><td>55</td><td>D</td></tr><tr><td>7</td><td>Tanvi</td><td>Math</td><td>91</td><td>A</td></tr><tr><td>8</td><td>Kunal</td><td>Science</td><td>72</td><td>B</td></tr></tbody></table></div>"
      ]
     },
     "metadata": {
      "application/vnd.databricks.v1+output": {
       "addedWidgets": {},
       "aggData": [],
       "aggError": "",
       "aggOverflow": false,
       "aggSchema": [],
       "aggSeriesLimitReached": false,
       "aggType": "",
       "arguments": {},
       "columnCustomDisplayInfos": {},
       "data": [
        [
         3,
         "Rahul",
         "English",
         83,
         "B"
        ],
        [
         6,
         "Isha",
         "English",
         93,
         "A"
        ],
        [
         9,
         "Megha",
         "English",
         65,
         "C"
        ],
        [
         1,
         "Ankit",
         "Math",
         85,
         "A"
        ],
        [
         2,
         "Divya",
         "Science",
         92,
         "A"
        ],
        [
         4,
         "Sneha",
         "Math",
         65,
         "C"
        ],
        [
         5,
         "Aryan",
         "Science",
         55,
         "D"
        ],
        [
         7,
         "Tanvi",
         "Math",
         91,
         "A"
        ],
        [
         8,
         "Kunal",
         "Science",
         72,
         "B"
        ]
       ],
       "datasetInfos": [],
       "dbfsResultPath": null,
       "isJsonSchema": true,
       "metadata": {},
       "overflow": false,
       "plotOptions": {
        "customPlotOptions": {},
        "displayType": "table",
        "pivotAggregation": null,
        "pivotColumns": null,
        "xColumns": null,
        "yColumns": null
       },
       "removedWidgets": [],
       "schema": [
        {
         "metadata": "{}",
         "name": "student_id",
         "type": "\"integer\""
        },
        {
         "metadata": "{}",
         "name": "name",
         "type": "\"string\""
        },
        {
         "metadata": "{}",
         "name": "subject",
         "type": "\"string\""
        },
        {
         "metadata": "{}",
         "name": "score",
         "type": "\"integer\""
        },
        {
         "metadata": "{}",
         "name": "grade",
         "type": "\"string\""
        }
       ],
       "type": "table"
      }
     },
     "output_type": "display_data"
    }
   ],
   "source": [
    "df = spark.read.format(\"delta\").load(delta_path)\n",
    "display(df)\n",
    "\n"
   ]
  },
  {
   "cell_type": "markdown",
   "metadata": {
    "application/vnd.databricks.v1+cell": {
     "cellMetadata": {},
     "inputWidgets": {},
     "nuid": "627a4e78-6461-4a5a-9edd-166eb9ee5237",
     "showTitle": false,
     "tableResultSettingsMap": {},
     "title": ""
    }
   },
   "source": [
    "Count number of students in each subject"
   ]
  },
  {
   "cell_type": "code",
   "execution_count": 0,
   "metadata": {
    "application/vnd.databricks.v1+cell": {
     "cellMetadata": {
      "byteLimit": 2048000,
      "rowLimit": 10000
     },
     "inputWidgets": {},
     "nuid": "9a78c192-b35a-4d0a-a83e-095ef940734a",
     "showTitle": false,
     "tableResultSettingsMap": {},
     "title": ""
    }
   },
   "outputs": [
    {
     "output_type": "stream",
     "name": "stdout",
     "output_type": "stream",
     "text": [
      "+-------+-----+\n|subject|count|\n+-------+-----+\n|English|    3|\n|   Math|    4|\n|Science|    3|\n+-------+-----+\n\n"
     ]
    }
   ],
   "source": [
    "df = spark.read.format(\"delta\").load(delta_path)\n",
    "df.groupBy(\"subject\").count().show()\n",
    "\n"
   ]
  },
  {
   "cell_type": "markdown",
   "metadata": {
    "application/vnd.databricks.v1+cell": {
     "cellMetadata": {},
     "inputWidgets": {},
     "nuid": "aeaddec8-fa4e-4f7b-bdf5-96b0b51451f4",
     "showTitle": false,
     "tableResultSettingsMap": {},
     "title": ""
    }
   },
   "source": [
    "Find average score per subject"
   ]
  },
  {
   "cell_type": "code",
   "execution_count": 0,
   "metadata": {
    "application/vnd.databricks.v1+cell": {
     "cellMetadata": {
      "byteLimit": 2048000,
      "rowLimit": 10000
     },
     "inputWidgets": {},
     "nuid": "391ef6c9-8c91-4a55-84d3-a15d734de517",
     "showTitle": false,
     "tableResultSettingsMap": {},
     "title": ""
    }
   },
   "outputs": [
    {
     "output_type": "stream",
     "name": "stdout",
     "output_type": "stream",
     "text": [
      "+-------+-----------------+\n|subject|        avg_score|\n+-------+-----------------+\n|English|75.33333333333333|\n|   Math|            70.25|\n|Science|             73.0|\n+-------+-----------------+\n\n"
     ]
    }
   ],
   "source": [
    "df = spark.read.format(\"delta\").load(delta_path)\n",
    "df.groupBy(\"subject\").avg(\"score\") \\\n",
    "  .withColumnRenamed(\"avg(score)\", \"avg_score\") \\\n",
    "  .show()\n",
    "\n"
   ]
  },
  {
   "cell_type": "markdown",
   "metadata": {
    "application/vnd.databricks.v1+cell": {
     "cellMetadata": {},
     "inputWidgets": {},
     "nuid": "e105edd5-94f3-4e6d-8a4d-1458052754f9",
     "showTitle": false,
     "tableResultSettingsMap": {},
     "title": ""
    }
   },
   "source": [
    "4. List all students who scored more than 80"
   ]
  },
  {
   "cell_type": "code",
   "execution_count": 0,
   "metadata": {
    "application/vnd.databricks.v1+cell": {
     "cellMetadata": {
      "byteLimit": 2048000,
      "rowLimit": 10000
     },
     "inputWidgets": {},
     "nuid": "4b390c06-f157-4778-994f-2412d981b407",
     "showTitle": false,
     "tableResultSettingsMap": {},
     "title": ""
    }
   },
   "outputs": [
    {
     "output_type": "stream",
     "name": "stdout",
     "output_type": "stream",
     "text": [
      "+----------+-----+-------+-----+-----+\n|student_id| name|subject|score|grade|\n+----------+-----+-------+-----+-----+\n|         1|Ankit|   Math|   85|    A|\n|         2|Divya|Science|   92|    A|\n|         6| Isha|English|   88|    A|\n|         7|Tanvi|   Math|   91|    A|\n+----------+-----+-------+-----+-----+\n\n"
     ]
    }
   ],
   "source": [
    "\n",
    "df = spark.read.format(\"delta\").load(delta_path)\n",
    "df.filter(df.score > 80).show()\n"
   ]
  },
  {
   "cell_type": "markdown",
   "metadata": {
    "application/vnd.databricks.v1+cell": {
     "cellMetadata": {},
     "inputWidgets": {},
     "nuid": "156ed6a8-1337-4b6b-b440-e6a60c71a785",
     "showTitle": false,
     "tableResultSettingsMap": {},
     "title": ""
    }
   },
   "source": [
    " Advanced Queries"
   ]
  },
  {
   "cell_type": "markdown",
   "metadata": {
    "application/vnd.databricks.v1+cell": {
     "cellMetadata": {},
     "inputWidgets": {},
     "nuid": "e418d116-3ea1-485c-9016-40f63d0384c4",
     "showTitle": false,
     "tableResultSettingsMap": {},
     "title": ""
    }
   },
   "source": [
    "5. Student(s) with highest score in each subject"
   ]
  },
  {
   "cell_type": "code",
   "execution_count": 0,
   "metadata": {
    "application/vnd.databricks.v1+cell": {
     "cellMetadata": {
      "byteLimit": 2048000,
      "rowLimit": 10000
     },
     "inputWidgets": {},
     "nuid": "bc8d8ba6-0920-4226-b186-b135c96ea145",
     "showTitle": false,
     "tableResultSettingsMap": {},
     "title": ""
    }
   },
   "outputs": [
    {
     "output_type": "stream",
     "name": "stdout",
     "output_type": "stream",
     "text": [
      "+-----+-------+-----+\n| name|subject|score|\n+-----+-------+-----+\n|Divya|Science|   92|\n| Isha|English|   88|\n|Tanvi|   Math|   91|\n+-----+-------+-----+\n\n"
     ]
    }
   ],
   "source": [
    "from pyspark.sql.functions import col, max as spark_max\n",
    "\n",
    "df = spark.read.format(\"delta\").load(delta_path)\n",
    "max_scores = df.groupBy(\"subject\").agg(spark_max(\"score\").alias(\"max_score\"))\n",
    "\n",
    "df_a = df.alias(\"d\")\n",
    "max_a = max_scores.alias(\"m\")\n",
    "\n",
    "df_a.join(\n",
    "    max_a,\n",
    "    (col(\"d.subject\") == col(\"m.subject\")) & (col(\"d.score\") == col(\"m.max_score\"))\n",
    ").select(\"d.name\", \"d.subject\", \"d.score\").show()\n"
   ]
  },
  {
   "cell_type": "markdown",
   "metadata": {
    "application/vnd.databricks.v1+cell": {
     "cellMetadata": {},
     "inputWidgets": {},
     "nuid": "947b86fa-daa4-41b6-9838-513b3a5b59e2",
     "showTitle": false,
     "tableResultSettingsMap": {},
     "title": ""
    }
   },
   "source": [
    "6. Grades with count of students in each"
   ]
  },
  {
   "cell_type": "code",
   "execution_count": 0,
   "metadata": {
    "application/vnd.databricks.v1+cell": {
     "cellMetadata": {
      "byteLimit": 2048000,
      "rowLimit": 10000
     },
     "inputWidgets": {},
     "nuid": "49eb87a3-8722-4fa0-89bb-151f5e5b4a63",
     "showTitle": false,
     "tableResultSettingsMap": {},
     "title": ""
    }
   },
   "outputs": [
    {
     "output_type": "stream",
     "name": "stdout",
     "output_type": "stream",
     "text": [
      "+-----+-----+\n|grade|count|\n+-----+-----+\n|    A|    4|\n|    C|    2|\n|    B|    2|\n|    F|    1|\n|    D|    1|\n+-----+-----+\n\n"
     ]
    }
   ],
   "source": [
    "df = spark.read.format(\"delta\").load(delta_path)\n",
    "df.groupBy(\"grade\").count().show()\n"
   ]
  },
  {
   "cell_type": "markdown",
   "metadata": {
    "application/vnd.databricks.v1+cell": {
     "cellMetadata": {},
     "inputWidgets": {},
     "nuid": "05e2b2c1-cff3-40c0-bfba-71cfd849e1af",
     "showTitle": false,
     "tableResultSettingsMap": {},
     "title": ""
    }
   },
   "source": [
    "7. Names of students who failed (grade F)"
   ]
  },
  {
   "cell_type": "code",
   "execution_count": 0,
   "metadata": {
    "application/vnd.databricks.v1+cell": {
     "cellMetadata": {
      "byteLimit": 2048000,
      "rowLimit": 10000
     },
     "inputWidgets": {},
     "nuid": "414ff0c1-0c20-4025-bdb0-78b76b444f16",
     "showTitle": false,
     "tableResultSettingsMap": {},
     "title": ""
    }
   },
   "outputs": [
    {
     "output_type": "stream",
     "name": "stdout",
     "output_type": "stream",
     "text": [
      "+-----+\n| name|\n+-----+\n|Rohan|\n+-----+\n\n"
     ]
    }
   ],
   "source": [
    "df = spark.read.format(\"delta\").load(delta_path)\n",
    "df.filter(df.grade == \"F\").select(\"name\").show()\n"
   ]
  },
  {
   "cell_type": "markdown",
   "metadata": {
    "application/vnd.databricks.v1+cell": {
     "cellMetadata": {},
     "inputWidgets": {},
     "nuid": "4fea0446-8b59-43bb-8ebc-04aef8dcfde5",
     "showTitle": false,
     "tableResultSettingsMap": {},
     "title": ""
    }
   },
   "source": [
    "8. Students with score between 60 and 90"
   ]
  },
  {
   "cell_type": "code",
   "execution_count": 0,
   "metadata": {
    "application/vnd.databricks.v1+cell": {
     "cellMetadata": {
      "byteLimit": 2048000,
      "rowLimit": 10000
     },
     "inputWidgets": {},
     "nuid": "fdd60e71-e671-425c-a806-5c4944bf7c50",
     "showTitle": false,
     "tableResultSettingsMap": {},
     "title": ""
    }
   },
   "outputs": [
    {
     "output_type": "stream",
     "name": "stdout",
     "output_type": "stream",
     "text": [
      "+----------+-----+-------+-----+-----+\n|student_id| name|subject|score|grade|\n+----------+-----+-------+-----+-----+\n|         1|Ankit|   Math|   85|    A|\n|         3|Rahul|English|   78|    B|\n|         4|Sneha|   Math|   65|    C|\n|         6| Isha|English|   88|    A|\n|         8|Kunal|Science|   72|    B|\n|         9|Megha|English|   60|    C|\n+----------+-----+-------+-----+-----+\n\n"
     ]
    }
   ],
   "source": [
    "df = spark.read.format(\"delta\").load(delta_path)\n",
    "df.filter((df.score >= 60) & (df.score <= 90)).show()\n"
   ]
  },
  {
   "cell_type": "markdown",
   "metadata": {
    "application/vnd.databricks.v1+cell": {
     "cellMetadata": {},
     "inputWidgets": {},
     "nuid": "365d6cca-74c7-413d-b398-c946e6e9c8b5",
     "showTitle": false,
     "tableResultSettingsMap": {},
     "title": ""
    }
   },
   "source": [
    "9. Rank students within each subject"
   ]
  },
  {
   "cell_type": "code",
   "execution_count": 0,
   "metadata": {
    "application/vnd.databricks.v1+cell": {
     "cellMetadata": {
      "byteLimit": 2048000,
      "rowLimit": 10000
     },
     "inputWidgets": {},
     "nuid": "202accc6-0eba-48d2-91e5-7a0d3f82694a",
     "showTitle": false,
     "tableResultSettingsMap": {},
     "title": ""
    }
   },
   "outputs": [
    {
     "output_type": "stream",
     "name": "stdout",
     "output_type": "stream",
     "text": [
      "+----------+-----+-------+-----+-----+----+\n|student_id| name|subject|score|grade|rank|\n+----------+-----+-------+-----+-----+----+\n|         6| Isha|English|   88|    A|   1|\n|         3|Rahul|English|   78|    B|   2|\n|         9|Megha|English|   60|    C|   3|\n|         7|Tanvi|   Math|   91|    A|   1|\n|         1|Ankit|   Math|   85|    A|   2|\n|         4|Sneha|   Math|   65|    C|   3|\n|        10|Rohan|   Math|   40|    F|   4|\n|         2|Divya|Science|   92|    A|   1|\n|         8|Kunal|Science|   72|    B|   2|\n|         5|Aryan|Science|   55|    D|   3|\n+----------+-----+-------+-----+-----+----+\n\n"
     ]
    }
   ],
   "source": [
    "from pyspark.sql.window import Window\n",
    "from pyspark.sql.functions import rank\n",
    "\n",
    "df = spark.read.format(\"delta\").load(delta_path)\n",
    "windowSpec = Window.partitionBy(\"subject\").orderBy(col(\"score\").desc())\n",
    "df.withColumn(\"rank\", rank().over(windowSpec)).show()\n"
   ]
  },
  {
   "cell_type": "markdown",
   "metadata": {
    "application/vnd.databricks.v1+cell": {
     "cellMetadata": {},
     "inputWidgets": {},
     "nuid": "7da9cc87-32c4-472a-8175-dfe3c1aae1cf",
     "showTitle": false,
     "tableResultSettingsMap": {},
     "title": ""
    }
   },
   "source": [
    " Data Transformation & Views"
   ]
  },
  {
   "cell_type": "markdown",
   "metadata": {
    "application/vnd.databricks.v1+cell": {
     "cellMetadata": {},
     "inputWidgets": {},
     "nuid": "d30b9eae-919f-4054-946e-40945dc20706",
     "showTitle": false,
     "tableResultSettingsMap": {},
     "title": ""
    }
   },
   "source": [
    "10. Increase score of all English students by 5"
   ]
  },
  {
   "cell_type": "code",
   "execution_count": 0,
   "metadata": {
    "application/vnd.databricks.v1+cell": {
     "cellMetadata": {
      "byteLimit": 2048000,
      "rowLimit": 10000
     },
     "inputWidgets": {},
     "nuid": "be77266e-d4f2-42d3-a3c4-7ce5296e3944",
     "showTitle": false,
     "tableResultSettingsMap": {},
     "title": ""
    }
   },
   "outputs": [
    {
     "output_type": "display_data",
     "data": {
      "text/html": [
       "<style scoped>\n",
       "  .table-result-container {\n",
       "    max-height: 300px;\n",
       "    overflow: auto;\n",
       "  }\n",
       "  table, th, td {\n",
       "    border: 1px solid black;\n",
       "    border-collapse: collapse;\n",
       "  }\n",
       "  th, td {\n",
       "    padding: 5px;\n",
       "  }\n",
       "  th {\n",
       "    text-align: left;\n",
       "  }\n",
       "</style><div class='table-result-container'><table class='table-result'><thead style='background-color: white'><tr><th>student_id</th><th>name</th><th>subject</th><th>score</th><th>grade</th></tr></thead><tbody><tr><td>3</td><td>Rahul</td><td>English</td><td>83</td><td>B</td></tr><tr><td>6</td><td>Isha</td><td>English</td><td>93</td><td>A</td></tr><tr><td>9</td><td>Megha</td><td>English</td><td>65</td><td>C</td></tr><tr><td>1</td><td>Ankit</td><td>Math</td><td>85</td><td>A</td></tr><tr><td>2</td><td>Divya</td><td>Science</td><td>92</td><td>A</td></tr><tr><td>4</td><td>Sneha</td><td>Math</td><td>65</td><td>C</td></tr><tr><td>5</td><td>Aryan</td><td>Science</td><td>55</td><td>D</td></tr><tr><td>7</td><td>Tanvi</td><td>Math</td><td>91</td><td>A</td></tr><tr><td>8</td><td>Kunal</td><td>Science</td><td>72</td><td>B</td></tr><tr><td>10</td><td>Rohan</td><td>Math</td><td>40</td><td>F</td></tr></tbody></table></div>"
      ]
     },
     "metadata": {
      "application/vnd.databricks.v1+output": {
       "addedWidgets": {},
       "aggData": [],
       "aggError": "",
       "aggOverflow": false,
       "aggSchema": [],
       "aggSeriesLimitReached": false,
       "aggType": "",
       "arguments": {},
       "columnCustomDisplayInfos": {},
       "data": [
        [
         3,
         "Rahul",
         "English",
         83,
         "B"
        ],
        [
         6,
         "Isha",
         "English",
         93,
         "A"
        ],
        [
         9,
         "Megha",
         "English",
         65,
         "C"
        ],
        [
         1,
         "Ankit",
         "Math",
         85,
         "A"
        ],
        [
         2,
         "Divya",
         "Science",
         92,
         "A"
        ],
        [
         4,
         "Sneha",
         "Math",
         65,
         "C"
        ],
        [
         5,
         "Aryan",
         "Science",
         55,
         "D"
        ],
        [
         7,
         "Tanvi",
         "Math",
         91,
         "A"
        ],
        [
         8,
         "Kunal",
         "Science",
         72,
         "B"
        ],
        [
         10,
         "Rohan",
         "Math",
         40,
         "F"
        ]
       ],
       "datasetInfos": [],
       "dbfsResultPath": null,
       "isJsonSchema": true,
       "metadata": {},
       "overflow": false,
       "plotOptions": {
        "customPlotOptions": {},
        "displayType": "table",
        "pivotAggregation": null,
        "pivotColumns": null,
        "xColumns": null,
        "yColumns": null
       },
       "removedWidgets": [],
       "schema": [
        {
         "metadata": "{}",
         "name": "student_id",
         "type": "\"integer\""
        },
        {
         "metadata": "{}",
         "name": "name",
         "type": "\"string\""
        },
        {
         "metadata": "{}",
         "name": "subject",
         "type": "\"string\""
        },
        {
         "metadata": "{}",
         "name": "score",
         "type": "\"integer\""
        },
        {
         "metadata": "{}",
         "name": "grade",
         "type": "\"string\""
        }
       ],
       "type": "table"
      }
     },
     "output_type": "display_data"
    }
   ],
   "source": [
    "from delta.tables import DeltaTable\n",
    "\n",
    "delta_table = DeltaTable.forPath(spark, delta_path)\n",
    "delta_table.update(\n",
    "    condition=col(\"subject\") == \"English\",\n",
    "    set={\"score\": col(\"score\") + 5}\n",
    ")\n",
    "display(delta_table.toDF())\n"
   ]
  },
  {
   "cell_type": "markdown",
   "metadata": {
    "application/vnd.databricks.v1+cell": {
     "cellMetadata": {},
     "inputWidgets": {},
     "nuid": "3249b959-5b89-45b5-bd48-ecd3a297c59e",
     "showTitle": false,
     "tableResultSettingsMap": {},
     "title": ""
    }
   },
   "source": [
    "11. Delete all records where score is less than 50"
   ]
  },
  {
   "cell_type": "code",
   "execution_count": 0,
   "metadata": {
    "application/vnd.databricks.v1+cell": {
     "cellMetadata": {
      "byteLimit": 2048000,
      "rowLimit": 10000
     },
     "inputWidgets": {},
     "nuid": "d0b513c9-752c-456f-bac8-95848dda471e",
     "showTitle": false,
     "tableResultSettingsMap": {},
     "title": ""
    }
   },
   "outputs": [
    {
     "output_type": "display_data",
     "data": {
      "text/html": [
       "<style scoped>\n",
       "  .table-result-container {\n",
       "    max-height: 300px;\n",
       "    overflow: auto;\n",
       "  }\n",
       "  table, th, td {\n",
       "    border: 1px solid black;\n",
       "    border-collapse: collapse;\n",
       "  }\n",
       "  th, td {\n",
       "    padding: 5px;\n",
       "  }\n",
       "  th {\n",
       "    text-align: left;\n",
       "  }\n",
       "</style><div class='table-result-container'><table class='table-result'><thead style='background-color: white'><tr><th>student_id</th><th>name</th><th>subject</th><th>score</th><th>grade</th></tr></thead><tbody><tr><td>3</td><td>Rahul</td><td>English</td><td>83</td><td>B</td></tr><tr><td>6</td><td>Isha</td><td>English</td><td>93</td><td>A</td></tr><tr><td>9</td><td>Megha</td><td>English</td><td>65</td><td>C</td></tr><tr><td>1</td><td>Ankit</td><td>Math</td><td>85</td><td>A</td></tr><tr><td>2</td><td>Divya</td><td>Science</td><td>92</td><td>A</td></tr><tr><td>4</td><td>Sneha</td><td>Math</td><td>65</td><td>C</td></tr><tr><td>5</td><td>Aryan</td><td>Science</td><td>55</td><td>D</td></tr><tr><td>7</td><td>Tanvi</td><td>Math</td><td>91</td><td>A</td></tr><tr><td>8</td><td>Kunal</td><td>Science</td><td>72</td><td>B</td></tr></tbody></table></div>"
      ]
     },
     "metadata": {
      "application/vnd.databricks.v1+output": {
       "addedWidgets": {},
       "aggData": [],
       "aggError": "",
       "aggOverflow": false,
       "aggSchema": [],
       "aggSeriesLimitReached": false,
       "aggType": "",
       "arguments": {},
       "columnCustomDisplayInfos": {},
       "data": [
        [
         3,
         "Rahul",
         "English",
         83,
         "B"
        ],
        [
         6,
         "Isha",
         "English",
         93,
         "A"
        ],
        [
         9,
         "Megha",
         "English",
         65,
         "C"
        ],
        [
         1,
         "Ankit",
         "Math",
         85,
         "A"
        ],
        [
         2,
         "Divya",
         "Science",
         92,
         "A"
        ],
        [
         4,
         "Sneha",
         "Math",
         65,
         "C"
        ],
        [
         5,
         "Aryan",
         "Science",
         55,
         "D"
        ],
        [
         7,
         "Tanvi",
         "Math",
         91,
         "A"
        ],
        [
         8,
         "Kunal",
         "Science",
         72,
         "B"
        ]
       ],
       "datasetInfos": [],
       "dbfsResultPath": null,
       "isJsonSchema": true,
       "metadata": {},
       "overflow": false,
       "plotOptions": {
        "customPlotOptions": {},
        "displayType": "table",
        "pivotAggregation": null,
        "pivotColumns": null,
        "xColumns": null,
        "yColumns": null
       },
       "removedWidgets": [],
       "schema": [
        {
         "metadata": "{}",
         "name": "student_id",
         "type": "\"integer\""
        },
        {
         "metadata": "{}",
         "name": "name",
         "type": "\"string\""
        },
        {
         "metadata": "{}",
         "name": "subject",
         "type": "\"string\""
        },
        {
         "metadata": "{}",
         "name": "score",
         "type": "\"integer\""
        },
        {
         "metadata": "{}",
         "name": "grade",
         "type": "\"string\""
        }
       ],
       "type": "table"
      }
     },
     "output_type": "display_data"
    }
   ],
   "source": [
    "delta_table = DeltaTable.forPath(spark, delta_path)\n",
    "delta_table.delete(condition=col(\"score\") < 50)\n",
    "display(delta_table.toDF())\n"
   ]
  },
  {
   "cell_type": "markdown",
   "metadata": {
    "application/vnd.databricks.v1+cell": {
     "cellMetadata": {},
     "inputWidgets": {},
     "nuid": "7c74d46c-12e3-45b0-9d86-55753d803c0c",
     "showTitle": false,
     "tableResultSettingsMap": {},
     "title": ""
    }
   },
   "source": [
    "12. Add pass_status column"
   ]
  },
  {
   "cell_type": "code",
   "execution_count": 0,
   "metadata": {
    "application/vnd.databricks.v1+cell": {
     "cellMetadata": {
      "byteLimit": 2048000,
      "rowLimit": 10000
     },
     "inputWidgets": {},
     "nuid": "8d36214f-eea8-49e1-b35f-4f718507a6df",
     "showTitle": false,
     "tableResultSettingsMap": {},
     "title": ""
    }
   },
   "outputs": [
    {
     "output_type": "display_data",
     "data": {
      "text/html": [
       "<style scoped>\n",
       "  .table-result-container {\n",
       "    max-height: 300px;\n",
       "    overflow: auto;\n",
       "  }\n",
       "  table, th, td {\n",
       "    border: 1px solid black;\n",
       "    border-collapse: collapse;\n",
       "  }\n",
       "  th, td {\n",
       "    padding: 5px;\n",
       "  }\n",
       "  th {\n",
       "    text-align: left;\n",
       "  }\n",
       "</style><div class='table-result-container'><table class='table-result'><thead style='background-color: white'><tr><th>student_id</th><th>name</th><th>subject</th><th>score</th><th>grade</th><th>pass_status</th></tr></thead><tbody><tr><td>3</td><td>Rahul</td><td>English</td><td>83</td><td>B</td><td>PASS</td></tr><tr><td>6</td><td>Isha</td><td>English</td><td>93</td><td>A</td><td>PASS</td></tr><tr><td>9</td><td>Megha</td><td>English</td><td>65</td><td>C</td><td>PASS</td></tr><tr><td>1</td><td>Ankit</td><td>Math</td><td>85</td><td>A</td><td>PASS</td></tr><tr><td>2</td><td>Divya</td><td>Science</td><td>92</td><td>A</td><td>PASS</td></tr><tr><td>4</td><td>Sneha</td><td>Math</td><td>65</td><td>C</td><td>PASS</td></tr><tr><td>5</td><td>Aryan</td><td>Science</td><td>55</td><td>D</td><td>PASS</td></tr><tr><td>7</td><td>Tanvi</td><td>Math</td><td>91</td><td>A</td><td>PASS</td></tr><tr><td>8</td><td>Kunal</td><td>Science</td><td>72</td><td>B</td><td>PASS</td></tr></tbody></table></div>"
      ]
     },
     "metadata": {
      "application/vnd.databricks.v1+output": {
       "addedWidgets": {},
       "aggData": [],
       "aggError": "",
       "aggOverflow": false,
       "aggSchema": [],
       "aggSeriesLimitReached": false,
       "aggType": "",
       "arguments": {},
       "columnCustomDisplayInfos": {},
       "data": [
        [
         3,
         "Rahul",
         "English",
         83,
         "B",
         "PASS"
        ],
        [
         6,
         "Isha",
         "English",
         93,
         "A",
         "PASS"
        ],
        [
         9,
         "Megha",
         "English",
         65,
         "C",
         "PASS"
        ],
        [
         1,
         "Ankit",
         "Math",
         85,
         "A",
         "PASS"
        ],
        [
         2,
         "Divya",
         "Science",
         92,
         "A",
         "PASS"
        ],
        [
         4,
         "Sneha",
         "Math",
         65,
         "C",
         "PASS"
        ],
        [
         5,
         "Aryan",
         "Science",
         55,
         "D",
         "PASS"
        ],
        [
         7,
         "Tanvi",
         "Math",
         91,
         "A",
         "PASS"
        ],
        [
         8,
         "Kunal",
         "Science",
         72,
         "B",
         "PASS"
        ]
       ],
       "datasetInfos": [],
       "dbfsResultPath": null,
       "isJsonSchema": true,
       "metadata": {},
       "overflow": false,
       "plotOptions": {
        "customPlotOptions": {},
        "displayType": "table",
        "pivotAggregation": null,
        "pivotColumns": null,
        "xColumns": null,
        "yColumns": null
       },
       "removedWidgets": [],
       "schema": [
        {
         "metadata": "{}",
         "name": "student_id",
         "type": "\"integer\""
        },
        {
         "metadata": "{}",
         "name": "name",
         "type": "\"string\""
        },
        {
         "metadata": "{}",
         "name": "subject",
         "type": "\"string\""
        },
        {
         "metadata": "{}",
         "name": "score",
         "type": "\"integer\""
        },
        {
         "metadata": "{}",
         "name": "grade",
         "type": "\"string\""
        },
        {
         "metadata": "{}",
         "name": "pass_status",
         "type": "\"string\""
        }
       ],
       "type": "table"
      }
     },
     "output_type": "display_data"
    }
   ],
   "source": [
    "from pyspark.sql.functions import when\n",
    "\n",
    "df = spark.read.format(\"delta\").load(delta_path) \\\n",
    "    .withColumn(\"pass_status\", when(col(\"score\") >= 50, \"PASS\").otherwise(\"FAIL\"))\n",
    "display(df)\n"
   ]
  },
  {
   "cell_type": "markdown",
   "metadata": {
    "application/vnd.databricks.v1+cell": {
     "cellMetadata": {},
     "inputWidgets": {},
     "nuid": "6f4979e5-9060-4372-a556-0db2e81808f5",
     "showTitle": false,
     "tableResultSettingsMap": {},
     "title": ""
    }
   },
   "source": [
    "Update & Delete Tasks"
   ]
  },
  {
   "cell_type": "markdown",
   "metadata": {
    "application/vnd.databricks.v1+cell": {
     "cellMetadata": {},
     "inputWidgets": {},
     "nuid": "411480f9-e8b2-49f8-a34b-0f0d7a36abd1",
     "showTitle": false,
     "tableResultSettingsMap": {},
     "title": ""
    }
   },
   "source": [
    "13. Create temporary view & get average scores"
   ]
  },
  {
   "cell_type": "code",
   "execution_count": 0,
   "metadata": {
    "application/vnd.databricks.v1+cell": {
     "cellMetadata": {
      "byteLimit": 2048000,
      "rowLimit": 10000
     },
     "inputWidgets": {},
     "nuid": "b83d1ed1-8d3f-427d-aa57-76813d21e78d",
     "showTitle": false,
     "tableResultSettingsMap": {},
     "title": ""
    }
   },
   "outputs": [
    {
     "output_type": "stream",
     "name": "stdout",
     "output_type": "stream",
     "text": [
      "+-------+-----------------+\n|subject|        avg_score|\n+-------+-----------------+\n|English|80.33333333333333|\n|   Math|80.33333333333333|\n|Science|             73.0|\n+-------+-----------------+\n\n"
     ]
    }
   ],
   "source": [
    "df = spark.read.format(\"delta\").load(delta_path)\n",
    "df.createOrReplaceTempView(\"student_scores_view\")\n",
    "spark.sql(\"SELECT subject, AVG(score) AS avg_score FROM student_scores_view GROUP BY subject\").show()\n"
   ]
  },
  {
   "cell_type": "markdown",
   "metadata": {
    "application/vnd.databricks.v1+cell": {
     "cellMetadata": {},
     "inputWidgets": {},
     "nuid": "85b03902-89f0-41ab-a2bf-c1f809310195",
     "showTitle": false,
     "tableResultSettingsMap": {},
     "title": ""
    }
   },
   "source": [
    "14. Save updated DataFrame as new Delta table"
   ]
  },
  {
   "cell_type": "code",
   "execution_count": 0,
   "metadata": {
    "application/vnd.databricks.v1+cell": {
     "cellMetadata": {
      "byteLimit": 2048000,
      "rowLimit": 10000
     },
     "inputWidgets": {},
     "nuid": "fce65cc3-12bc-4266-9233-2217bb349da1",
     "showTitle": false,
     "tableResultSettingsMap": {},
     "title": ""
    }
   },
   "outputs": [
    {
     "output_type": "stream",
     "name": "stdout",
     "output_type": "stream",
     "text": [
      " New Delta table saved at /tmp/delta/student_scores_v2\n"
     ]
    }
   ],
   "source": [
    "df.write.format(\"delta\").mode(\"overwrite\").save(\"/tmp/delta/student_scores_v2\")\n",
    "print(\" New Delta table saved at /tmp/delta/student_scores_v2\")\n"
   ]
  },
  {
   "cell_type": "markdown",
   "metadata": {
    "application/vnd.databricks.v1+cell": {
     "cellMetadata": {},
     "inputWidgets": {},
     "nuid": "982acf36-1862-4f4c-9e72-267fa6570624",
     "showTitle": false,
     "tableResultSettingsMap": {},
     "title": ""
    }
   },
   "source": [
    "15. Write final data to Parquet and JSON"
   ]
  },
  {
   "cell_type": "code",
   "execution_count": 0,
   "metadata": {
    "application/vnd.databricks.v1+cell": {
     "cellMetadata": {
      "byteLimit": 2048000,
      "rowLimit": 10000
     },
     "inputWidgets": {},
     "nuid": "1837120d-ab0e-41f0-b05a-fc2d3c2ee19d",
     "showTitle": false,
     "tableResultSettingsMap": {},
     "title": ""
    }
   },
   "outputs": [
    {
     "output_type": "stream",
     "name": "stdout",
     "output_type": "stream",
     "text": [
      "Data saved in Parquet and JSON formats\n"
     ]
    }
   ],
   "source": [
    "df.write.mode(\"overwrite\").parquet(\"/tmp/student_scores_parquet\")\n",
    "df.write.mode(\"overwrite\").json(\"/tmp/student_scores_json\")\n",
    "print(\"Data saved in Parquet and JSON formats\")\n"
   ]
  }
 ],
 "metadata": {
  "application/vnd.databricks.v1+notebook": {
   "computePreferences": null,
   "dashboards": [],
   "environmentMetadata": {
    "base_environment": "",
    "environment_version": "2"
   },
   "inputWidgetPreferences": null,
   "language": "python",
   "notebookMetadata": {
    "pythonIndentUnit": 4
   },
   "notebookName": "Delta Exercise_2",
   "widgets": {}
  },
  "language_info": {
   "name": "python"
  }
 },
 "nbformat": 4,
 "nbformat_minor": 0
}