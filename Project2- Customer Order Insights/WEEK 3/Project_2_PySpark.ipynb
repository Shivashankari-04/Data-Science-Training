{
  "nbformat": 4,
  "nbformat_minor": 0,
  "metadata": {
    "colab": {
      "provenance": []
    },
    "kernelspec": {
      "name": "python3",
      "display_name": "Python 3"
    },
    "language_info": {
      "name": "python"
    }
  },
  "cells": [
    {
      "cell_type": "markdown",
      "source": [
        "# Week 3- Order Analysis with PySpark"
      ],
      "metadata": {
        "id": "lb5KgmS_PsOi"
      }
    },
    {
      "cell_type": "markdown",
      "source": [
        "# Step 1: Install PySpark"
      ],
      "metadata": {
        "id": "hgC9SIaTP24P"
      }
    },
    {
      "cell_type": "code",
      "source": [
        "!pip install pyspark"
      ],
      "metadata": {
        "colab": {
          "base_uri": "https://localhost:8080/"
        },
        "id": "BbxVWV7aP6OR",
        "outputId": "2771259d-4df5-44d3-efbe-52f733fb4d29"
      },
      "execution_count": 1,
      "outputs": [
        {
          "output_type": "stream",
          "name": "stdout",
          "text": [
            "Requirement already satisfied: pyspark in /usr/local/lib/python3.11/dist-packages (3.5.1)\n",
            "Requirement already satisfied: py4j==0.10.9.7 in /usr/local/lib/python3.11/dist-packages (from pyspark) (0.10.9.7)\n"
          ]
        }
      ]
    },
    {
      "cell_type": "code",
      "execution_count": 2,
      "metadata": {
        "id": "cji9edn5Pehl"
      },
      "outputs": [],
      "source": [
        "from pyspark.sql import SparkSession\n",
        "from pyspark.sql.functions import col, when, datediff, current_date, sum as spark_sum\n",
        "\n",
        "#Initialize spark\n",
        "spark = SparkSession.builder.appName(\"Week3_CustomerOrderAnalysis\").getOrCreate()"
      ]
    },
    {
      "cell_type": "markdown",
      "source": [
        "# Step 2: Upload CSV"
      ],
      "metadata": {
        "id": "HZA_6miNP2V2"
      }
    },
    {
      "cell_type": "code",
      "source": [
        "from google.colab import files\n",
        "uploaded = files.upload()"
      ],
      "metadata": {
        "colab": {
          "base_uri": "https://localhost:8080/",
          "height": 142
        },
        "id": "qyeCQkwzRSBm",
        "outputId": "e1a8dd60-74b3-476a-89d9-2a811527bc85"
      },
      "execution_count": 3,
      "outputs": [
        {
          "output_type": "display_data",
          "data": {
            "text/plain": [
              "<IPython.core.display.HTML object>"
            ],
            "text/html": [
              "\n",
              "     <input type=\"file\" id=\"files-a99e2333-3cbe-4827-83b1-3b34bc9f9c55\" name=\"files[]\" multiple disabled\n",
              "        style=\"border:none\" />\n",
              "     <output id=\"result-a99e2333-3cbe-4827-83b1-3b34bc9f9c55\">\n",
              "      Upload widget is only available when the cell has been executed in the\n",
              "      current browser session. Please rerun this cell to enable.\n",
              "      </output>\n",
              "      <script>// Copyright 2017 Google LLC\n",
              "//\n",
              "// Licensed under the Apache License, Version 2.0 (the \"License\");\n",
              "// you may not use this file except in compliance with the License.\n",
              "// You may obtain a copy of the License at\n",
              "//\n",
              "//      http://www.apache.org/licenses/LICENSE-2.0\n",
              "//\n",
              "// Unless required by applicable law or agreed to in writing, software\n",
              "// distributed under the License is distributed on an \"AS IS\" BASIS,\n",
              "// WITHOUT WARRANTIES OR CONDITIONS OF ANY KIND, either express or implied.\n",
              "// See the License for the specific language governing permissions and\n",
              "// limitations under the License.\n",
              "\n",
              "/**\n",
              " * @fileoverview Helpers for google.colab Python module.\n",
              " */\n",
              "(function(scope) {\n",
              "function span(text, styleAttributes = {}) {\n",
              "  const element = document.createElement('span');\n",
              "  element.textContent = text;\n",
              "  for (const key of Object.keys(styleAttributes)) {\n",
              "    element.style[key] = styleAttributes[key];\n",
              "  }\n",
              "  return element;\n",
              "}\n",
              "\n",
              "// Max number of bytes which will be uploaded at a time.\n",
              "const MAX_PAYLOAD_SIZE = 100 * 1024;\n",
              "\n",
              "function _uploadFiles(inputId, outputId) {\n",
              "  const steps = uploadFilesStep(inputId, outputId);\n",
              "  const outputElement = document.getElementById(outputId);\n",
              "  // Cache steps on the outputElement to make it available for the next call\n",
              "  // to uploadFilesContinue from Python.\n",
              "  outputElement.steps = steps;\n",
              "\n",
              "  return _uploadFilesContinue(outputId);\n",
              "}\n",
              "\n",
              "// This is roughly an async generator (not supported in the browser yet),\n",
              "// where there are multiple asynchronous steps and the Python side is going\n",
              "// to poll for completion of each step.\n",
              "// This uses a Promise to block the python side on completion of each step,\n",
              "// then passes the result of the previous step as the input to the next step.\n",
              "function _uploadFilesContinue(outputId) {\n",
              "  const outputElement = document.getElementById(outputId);\n",
              "  const steps = outputElement.steps;\n",
              "\n",
              "  const next = steps.next(outputElement.lastPromiseValue);\n",
              "  return Promise.resolve(next.value.promise).then((value) => {\n",
              "    // Cache the last promise value to make it available to the next\n",
              "    // step of the generator.\n",
              "    outputElement.lastPromiseValue = value;\n",
              "    return next.value.response;\n",
              "  });\n",
              "}\n",
              "\n",
              "/**\n",
              " * Generator function which is called between each async step of the upload\n",
              " * process.\n",
              " * @param {string} inputId Element ID of the input file picker element.\n",
              " * @param {string} outputId Element ID of the output display.\n",
              " * @return {!Iterable<!Object>} Iterable of next steps.\n",
              " */\n",
              "function* uploadFilesStep(inputId, outputId) {\n",
              "  const inputElement = document.getElementById(inputId);\n",
              "  inputElement.disabled = false;\n",
              "\n",
              "  const outputElement = document.getElementById(outputId);\n",
              "  outputElement.innerHTML = '';\n",
              "\n",
              "  const pickedPromise = new Promise((resolve) => {\n",
              "    inputElement.addEventListener('change', (e) => {\n",
              "      resolve(e.target.files);\n",
              "    });\n",
              "  });\n",
              "\n",
              "  const cancel = document.createElement('button');\n",
              "  inputElement.parentElement.appendChild(cancel);\n",
              "  cancel.textContent = 'Cancel upload';\n",
              "  const cancelPromise = new Promise((resolve) => {\n",
              "    cancel.onclick = () => {\n",
              "      resolve(null);\n",
              "    };\n",
              "  });\n",
              "\n",
              "  // Wait for the user to pick the files.\n",
              "  const files = yield {\n",
              "    promise: Promise.race([pickedPromise, cancelPromise]),\n",
              "    response: {\n",
              "      action: 'starting',\n",
              "    }\n",
              "  };\n",
              "\n",
              "  cancel.remove();\n",
              "\n",
              "  // Disable the input element since further picks are not allowed.\n",
              "  inputElement.disabled = true;\n",
              "\n",
              "  if (!files) {\n",
              "    return {\n",
              "      response: {\n",
              "        action: 'complete',\n",
              "      }\n",
              "    };\n",
              "  }\n",
              "\n",
              "  for (const file of files) {\n",
              "    const li = document.createElement('li');\n",
              "    li.append(span(file.name, {fontWeight: 'bold'}));\n",
              "    li.append(span(\n",
              "        `(${file.type || 'n/a'}) - ${file.size} bytes, ` +\n",
              "        `last modified: ${\n",
              "            file.lastModifiedDate ? file.lastModifiedDate.toLocaleDateString() :\n",
              "                                    'n/a'} - `));\n",
              "    const percent = span('0% done');\n",
              "    li.appendChild(percent);\n",
              "\n",
              "    outputElement.appendChild(li);\n",
              "\n",
              "    const fileDataPromise = new Promise((resolve) => {\n",
              "      const reader = new FileReader();\n",
              "      reader.onload = (e) => {\n",
              "        resolve(e.target.result);\n",
              "      };\n",
              "      reader.readAsArrayBuffer(file);\n",
              "    });\n",
              "    // Wait for the data to be ready.\n",
              "    let fileData = yield {\n",
              "      promise: fileDataPromise,\n",
              "      response: {\n",
              "        action: 'continue',\n",
              "      }\n",
              "    };\n",
              "\n",
              "    // Use a chunked sending to avoid message size limits. See b/62115660.\n",
              "    let position = 0;\n",
              "    do {\n",
              "      const length = Math.min(fileData.byteLength - position, MAX_PAYLOAD_SIZE);\n",
              "      const chunk = new Uint8Array(fileData, position, length);\n",
              "      position += length;\n",
              "\n",
              "      const base64 = btoa(String.fromCharCode.apply(null, chunk));\n",
              "      yield {\n",
              "        response: {\n",
              "          action: 'append',\n",
              "          file: file.name,\n",
              "          data: base64,\n",
              "        },\n",
              "      };\n",
              "\n",
              "      let percentDone = fileData.byteLength === 0 ?\n",
              "          100 :\n",
              "          Math.round((position / fileData.byteLength) * 100);\n",
              "      percent.textContent = `${percentDone}% done`;\n",
              "\n",
              "    } while (position < fileData.byteLength);\n",
              "  }\n",
              "\n",
              "  // All done.\n",
              "  yield {\n",
              "    response: {\n",
              "      action: 'complete',\n",
              "    }\n",
              "  };\n",
              "}\n",
              "\n",
              "scope.google = scope.google || {};\n",
              "scope.google.colab = scope.google.colab || {};\n",
              "scope.google.colab._files = {\n",
              "  _uploadFiles,\n",
              "  _uploadFilesContinue,\n",
              "};\n",
              "})(self);\n",
              "</script> "
            ]
          },
          "metadata": {}
        },
        {
          "output_type": "stream",
          "name": "stdout",
          "text": [
            "Saving customer_table.csv to customer_table.csv\n",
            "Saving delivery_status_table.csv to delivery_status_table.csv\n",
            "Saving orders_table.csv to orders_table.csv\n"
          ]
        }
      ]
    },
    {
      "cell_type": "markdown",
      "source": [
        "# Step 3: Load CSV Files into Spark DataFrames"
      ],
      "metadata": {
        "id": "9r3eQTzSR28s"
      }
    },
    {
      "cell_type": "code",
      "source": [
        "orders = spark.read.csv(\"orders_table.csv\", header=True, inferSchema=True)\n",
        "delivery_status = spark.read.csv(\"delivery_status_table.csv\", header=True, inferSchema=True)\n",
        "customers = spark.read.csv(\"customer_table.csv\", header=True, inferSchema=True)\n",
        "\n",
        "# Preview the data\n",
        "orders.show(3)\n",
        "delivery_status.show(3)\n",
        "customers.show(3)\n",
        "\n"
      ],
      "metadata": {
        "colab": {
          "base_uri": "https://localhost:8080/"
        },
        "id": "LChLKqX1SBgu",
        "outputId": "82446326-01e8-4388-eeb8-c2cbb9479ae3"
      },
      "execution_count": 11,
      "outputs": [
        {
          "output_type": "stream",
          "name": "stdout",
          "text": [
            "+--------+-----------+----------+-------------+---------+\n",
            "|order_id|customer_id|order_date|delivery_date|   status|\n",
            "+--------+-----------+----------+-------------+---------+\n",
            "|       1|          1|2024-07-01|   2024-07-03|delivered|\n",
            "|       2|          2|2024-07-05|   2024-07-08|delivered|\n",
            "|       3|          3|2024-07-10|   2024-07-12|  delayed|\n",
            "+--------+-----------+----------+-------------+---------+\n",
            "only showing top 3 rows\n",
            "\n",
            "+-----------+--------+--------------+-------------------+\n",
            "|delivery_id|order_id|current_status|       last_updated|\n",
            "+-----------+--------+--------------+-------------------+\n",
            "|          1|       1|     delivered|2024-07-03 10:00:00|\n",
            "|          2|       2|     delivered|2024-07-08 15:30:00|\n",
            "|          3|       3|    in transit|2024-07-20 11:45:00|\n",
            "+-----------+--------+--------------+-------------------+\n",
            "only showing top 3 rows\n",
            "\n",
            "+-----------+------------+-----------------+----------+------+\n",
            "|customer_id|        name|            email|     phone|region|\n",
            "+-----------+------------+-----------------+----------+------+\n",
            "|          1| rahul kumar|rahul@example.com|9876543210| north|\n",
            "|          2|anita sharma|anita@example.com|9123456780| south|\n",
            "|          3|   vijay rao|vijay@example.com|9988776655|  east|\n",
            "+-----------+------------+-----------------+----------+------+\n",
            "only showing top 3 rows\n",
            "\n"
          ]
        }
      ]
    },
    {
      "cell_type": "markdown",
      "source": [
        "# Step 4: Join Orders with Customers on customer_id"
      ],
      "metadata": {
        "id": "turOTQa8SSha"
      }
    },
    {
      "cell_type": "code",
      "source": [
        "orders_customers = orders.join(customers, on=\"customer_id\", how=\"left\")\n",
        "orders_customers.show(5)"
      ],
      "metadata": {
        "colab": {
          "base_uri": "https://localhost:8080/"
        },
        "id": "Ds5lr28oSeXk",
        "outputId": "5d92dd46-d1b4-4cc9-db31-1b9e1c8f3a8f"
      },
      "execution_count": 17,
      "outputs": [
        {
          "output_type": "stream",
          "name": "stdout",
          "text": [
            "+-----------+--------+----------+-------------+---------+----------+-------+------------+------------------+----------+------+\n",
            "|customer_id|order_id|order_date|delivery_date|   status|delay_days|delayed|        name|             email|     phone|region|\n",
            "+-----------+--------+----------+-------------+---------+----------+-------+------------+------------------+----------+------+\n",
            "|          1|       1|2024-07-01|   2024-07-03|delivered|       394|      1| rahul kumar| rahul@example.com|9876543210| north|\n",
            "|          2|       2|2024-07-05|   2024-07-08|delivered|       389|      1|anita sharma| anita@example.com|9123456780| south|\n",
            "|          3|       3|2024-07-10|   2024-07-12|  delayed|       385|      1|   vijay rao| vijay@example.com|9988776655|  east|\n",
            "|          4|       4|2024-07-12|   2024-07-15|  delayed|       382|      1|swathi menon|swathi@example.com|9090909090|  west|\n",
            "|          1|       5|2024-07-18|   2024-07-20|  delayed|       377|      1| rahul kumar| rahul@example.com|9876543210| north|\n",
            "+-----------+--------+----------+-------------+---------+----------+-------+------------+------------------+----------+------+\n",
            "\n"
          ]
        }
      ]
    },
    {
      "cell_type": "markdown",
      "source": [
        "# Step 5: Group by region and Count Delayed Orders"
      ],
      "metadata": {
        "id": "tu0i7APnSn5s"
      }
    },
    {
      "cell_type": "code",
      "source": [
        "from pyspark.sql.functions import datediff, current_date, when, sum as spark_sum\n",
        "\n",
        "# Recalculate delay_days and delayed in orders\n",
        "orders = orders.withColumn(\"delay_days\", datediff(current_date(), col(\"delivery_date\")))\n",
        "orders = orders.withColumn(\"delayed\", when(col(\"delay_days\") > 0, 1).otherwise(0))\n",
        "\n",
        "orders_customers = orders.join(customers, on=\"customer_id\", how=\"left\")\n",
        "\n",
        "# Group by region and count delayed\n",
        "region_summary = orders_customers.groupBy(\"region\") \\\n",
        "    .agg(spark_sum(\"delayed\").alias(\"total_delayed_orders\")) \\\n",
        "    .orderBy(col(\"total_delayed_orders\").desc())\n",
        "\n",
        "region_summary.show()\n"
      ],
      "metadata": {
        "colab": {
          "base_uri": "https://localhost:8080/"
        },
        "id": "dAMbqYtxSozv",
        "outputId": "1a16c044-cb68-4d17-b36c-ef24789b10b3"
      },
      "execution_count": 20,
      "outputs": [
        {
          "output_type": "stream",
          "name": "stdout",
          "text": [
            "+------+--------------------+\n",
            "|region|total_delayed_orders|\n",
            "+------+--------------------+\n",
            "| north|                   2|\n",
            "|  west|                   1|\n",
            "|  east|                   1|\n",
            "| south|                   1|\n",
            "+------+--------------------+\n",
            "\n"
          ]
        }
      ]
    },
    {
      "cell_type": "markdown",
      "source": [
        "# Step 6: Save the Output as CSV"
      ],
      "metadata": {
        "id": "3Z6wveXATFOA"
      }
    },
    {
      "cell_type": "code",
      "source": [
        "#  Save to CSV\n",
        "region_summary.write.mode(\"overwrite\").csv(\"output/delayed_orders_by_region\", header=True)\n",
        "\n",
        "# Merge parts into one file\n",
        "!cat output/delayed_orders_by_region/part-*.csv > delayed_orders_by_region.csv\n",
        "\n",
        "# 2. Download the Output file showing delayed orders by region\n",
        "from google.colab import files\n",
        "files.download(\"delayed_orders_by_region.csv\")"
      ],
      "metadata": {
        "colab": {
          "base_uri": "https://localhost:8080/",
          "height": 17
        },
        "id": "esqi0QnXTGBu",
        "outputId": "a6673ce5-9e76-4fc2-be05-49ef26cb69b1"
      },
      "execution_count": 22,
      "outputs": [
        {
          "output_type": "display_data",
          "data": {
            "text/plain": [
              "<IPython.core.display.Javascript object>"
            ],
            "application/javascript": [
              "\n",
              "    async function download(id, filename, size) {\n",
              "      if (!google.colab.kernel.accessAllowed) {\n",
              "        return;\n",
              "      }\n",
              "      const div = document.createElement('div');\n",
              "      const label = document.createElement('label');\n",
              "      label.textContent = `Downloading \"${filename}\": `;\n",
              "      div.appendChild(label);\n",
              "      const progress = document.createElement('progress');\n",
              "      progress.max = size;\n",
              "      div.appendChild(progress);\n",
              "      document.body.appendChild(div);\n",
              "\n",
              "      const buffers = [];\n",
              "      let downloaded = 0;\n",
              "\n",
              "      const channel = await google.colab.kernel.comms.open(id);\n",
              "      // Send a message to notify the kernel that we're ready.\n",
              "      channel.send({})\n",
              "\n",
              "      for await (const message of channel.messages) {\n",
              "        // Send a message to notify the kernel that we're ready.\n",
              "        channel.send({})\n",
              "        if (message.buffers) {\n",
              "          for (const buffer of message.buffers) {\n",
              "            buffers.push(buffer);\n",
              "            downloaded += buffer.byteLength;\n",
              "            progress.value = downloaded;\n",
              "          }\n",
              "        }\n",
              "      }\n",
              "      const blob = new Blob(buffers, {type: 'application/binary'});\n",
              "      const a = document.createElement('a');\n",
              "      a.href = window.URL.createObjectURL(blob);\n",
              "      a.download = filename;\n",
              "      div.appendChild(a);\n",
              "      a.click();\n",
              "      div.remove();\n",
              "    }\n",
              "  "
            ]
          },
          "metadata": {}
        },
        {
          "output_type": "display_data",
          "data": {
            "text/plain": [
              "<IPython.core.display.Javascript object>"
            ],
            "application/javascript": [
              "download(\"download_17d75e7d-8e9f-453d-963a-c00cd92f5996\", \"delayed_orders_by_region.csv\", 58)"
            ]
          },
          "metadata": {}
        }
      ]
    }
  ]
}