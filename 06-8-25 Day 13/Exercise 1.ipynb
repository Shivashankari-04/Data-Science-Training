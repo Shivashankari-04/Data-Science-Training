{
 "cells": [
  {
   "cell_type": "code",
   "execution_count": 0,
   "metadata": {
    "application/vnd.databricks.v1+cell": {
     "cellMetadata": {
      "byteLimit": 2048000,
      "rowLimit": 10000
     },
     "inputWidgets": {},
     "nuid": "3ce2c119-6141-4cca-b856-65822f2404c4",
     "showTitle": false,
     "tableResultSettingsMap": {},
     "title": ""
    }
   },
   "outputs": [
    {
     "output_type": "stream",
     "name": "stdout",
     "output_type": "stream",
     "text": [
      "+-----+------+----------+---------+---------+\n|EmpID|  Name|Department|UnitsSold|UnitPrice|\n+-----+------+----------+---------+---------+\n| E101|  Amit|     Sales|       10|     1200|\n| E102| Sneha| Marketing|        8|     1500|\n| E103|  Ravi|     Sales|       12|     1300|\n| E104|Anjali|        HR|        7|     1100|\n| E105|   Raj|     Sales|        5|     1000|\n+-----+------+----------+---------+---------+\n\n"
     ]
    }
   ],
   "source": [
    "data = [\n",
    "    (\"E101\", \"Amit\", \"Sales\", 10, 1200),\n",
    "    (\"E102\", \"Sneha\", \"Marketing\", 8, 1500),\n",
    "    (\"E103\", \"Ravi\", \"Sales\", 12, 1300),\n",
    "    (\"E104\", \"Anjali\", \"HR\", 7, 1100),\n",
    "    (\"E105\", \"Raj\", \"Sales\", 5, 1000)\n",
    "]\n",
    "\n",
    "columns = [\"EmpID\", \"Name\", \"Department\", \"UnitsSold\", \"UnitPrice\"]\n",
    "\n",
    "df = spark.createDataFrame(data, columns)\n",
    "df.show()\n"
   ]
  },
  {
   "cell_type": "markdown",
   "metadata": {
    "application/vnd.databricks.v1+cell": {
     "cellMetadata": {},
     "inputWidgets": {},
     "nuid": "0f1ba8d2-e451-4937-8865-6e7c9fa3fdf7",
     "showTitle": false,
     "tableResultSettingsMap": {},
     "title": ""
    }
   },
   "source": [
    "1. Show the total number of employees"
   ]
  },
  {
   "cell_type": "code",
   "execution_count": 0,
   "metadata": {
    "application/vnd.databricks.v1+cell": {
     "cellMetadata": {
      "byteLimit": 2048000,
      "rowLimit": 10000
     },
     "inputWidgets": {},
     "nuid": "20a7c4a2-d2cf-4cd3-b201-103acaeaf02f",
     "showTitle": false,
     "tableResultSettingsMap": {},
     "title": ""
    }
   },
   "outputs": [
    {
     "output_type": "stream",
     "name": "stdout",
     "output_type": "stream",
     "text": [
      "Total number of employees: 5\n"
     ]
    }
   ],
   "source": [
    "print(\"Total number of employees:\", df.count())"
   ]
  },
  {
   "cell_type": "markdown",
   "metadata": {
    "application/vnd.databricks.v1+cell": {
     "cellMetadata": {},
     "inputWidgets": {},
     "nuid": "80039d7e-a941-4d0f-90f0-96482062641f",
     "showTitle": false,
     "tableResultSettingsMap": {},
     "title": ""
    }
   },
   "source": [
    "2. Add a new column TotalSales (UnitsSold * UnitPrice)"
   ]
  },
  {
   "cell_type": "code",
   "execution_count": 0,
   "metadata": {
    "application/vnd.databricks.v1+cell": {
     "cellMetadata": {
      "byteLimit": 2048000,
      "rowLimit": 10000
     },
     "inputWidgets": {},
     "nuid": "30401325-14de-4836-9be8-ecf03da6db5e",
     "showTitle": false,
     "tableResultSettingsMap": {},
     "title": ""
    }
   },
   "outputs": [
    {
     "output_type": "stream",
     "name": "stdout",
     "output_type": "stream",
     "text": [
      "+-----+------+----------+---------+---------+----------+\n|EmpID|  Name|Department|UnitsSold|UnitPrice|TotalSales|\n+-----+------+----------+---------+---------+----------+\n| E101|  Amit|     Sales|       10|     1200|     12000|\n| E102| Sneha| Marketing|        8|     1500|     12000|\n| E103|  Ravi|     Sales|       12|     1300|     15600|\n| E104|Anjali|        HR|        7|     1100|      7700|\n| E105|   Raj|     Sales|        5|     1000|      5000|\n+-----+------+----------+---------+---------+----------+\n\n"
     ]
    }
   ],
   "source": [
    "from pyspark.sql.functions import col\n",
    "df = df.withColumn(\"TotalSales\", col(\"UnitsSold\") * col(\"UnitPrice\"))\n",
    "df.show()"
   ]
  },
  {
   "cell_type": "markdown",
   "metadata": {
    "application/vnd.databricks.v1+cell": {
     "cellMetadata": {},
     "inputWidgets": {},
     "nuid": "3e0ca945-7fcc-470e-ae58-f664258a646b",
     "showTitle": false,
     "tableResultSettingsMap": {},
     "title": ""
    }
   },
   "source": [
    "3. Show only Sales department employees with TotalSales > 12000"
   ]
  },
  {
   "cell_type": "code",
   "execution_count": 0,
   "metadata": {
    "application/vnd.databricks.v1+cell": {
     "cellMetadata": {
      "byteLimit": 2048000,
      "rowLimit": 10000
     },
     "inputWidgets": {},
     "nuid": "68bf669a-1f74-471f-b241-59dc5c86fbb2",
     "showTitle": false,
     "tableResultSettingsMap": {},
     "title": ""
    }
   },
   "outputs": [
    {
     "output_type": "stream",
     "name": "stdout",
     "output_type": "stream",
     "text": [
      "+-----+----+----------+---------+---------+----------+\n|EmpID|Name|Department|UnitsSold|UnitPrice|TotalSales|\n+-----+----+----------+---------+---------+----------+\n| E103|Ravi|     Sales|       12|     1300|     15600|\n+-----+----+----------+---------+---------+----------+\n\n"
     ]
    }
   ],
   "source": [
    "df.filter((col(\"Department\") == \"Sales\") & (col(\"TotalSales\") > 12000)).show()"
   ]
  },
  {
   "cell_type": "markdown",
   "metadata": {
    "application/vnd.databricks.v1+cell": {
     "cellMetadata": {},
     "inputWidgets": {},
     "nuid": "b4281cb4-8f54-4033-b352-65027b312a18",
     "showTitle": false,
     "tableResultSettingsMap": {},
     "title": ""
    }
   },
   "source": [
    "4. Find the employees with highest total sales"
   ]
  },
  {
   "cell_type": "code",
   "execution_count": 0,
   "metadata": {
    "application/vnd.databricks.v1+cell": {
     "cellMetadata": {
      "byteLimit": 2048000,
      "rowLimit": 10000
     },
     "inputWidgets": {},
     "nuid": "10579092-271a-4854-b447-0cf1be00c89e",
     "showTitle": false,
     "tableResultSettingsMap": {},
     "title": ""
    }
   },
   "outputs": [
    {
     "output_type": "stream",
     "name": "stdout",
     "output_type": "stream",
     "text": [
      "+-----+----+----------+---------+---------+----------+\n|EmpID|Name|Department|UnitsSold|UnitPrice|TotalSales|\n+-----+----+----------+---------+---------+----------+\n| E103|Ravi|     Sales|       12|     1300|     15600|\n+-----+----+----------+---------+---------+----------+\n\n"
     ]
    }
   ],
   "source": [
    "df.orderBy(col(\"TotalSales\").desc()).limit(1).show()"
   ]
  },
  {
   "cell_type": "markdown",
   "metadata": {
    "application/vnd.databricks.v1+cell": {
     "cellMetadata": {},
     "inputWidgets": {},
     "nuid": "8775b59a-71df-48f9-a98e-97cc06b22718",
     "showTitle": false,
     "tableResultSettingsMap": {},
     "title": ""
    }
   },
   "source": [
    "5. Sort employees by TotalSales in descending order"
   ]
  },
  {
   "cell_type": "code",
   "execution_count": 0,
   "metadata": {
    "application/vnd.databricks.v1+cell": {
     "cellMetadata": {
      "byteLimit": 2048000,
      "rowLimit": 10000
     },
     "inputWidgets": {},
     "nuid": "7d5167b8-33cf-435e-864b-54465050093d",
     "showTitle": false,
     "tableResultSettingsMap": {},
     "title": ""
    }
   },
   "outputs": [
    {
     "output_type": "stream",
     "name": "stdout",
     "output_type": "stream",
     "text": [
      "+-----+------+----------+---------+---------+----------+\n|EmpID|  Name|Department|UnitsSold|UnitPrice|TotalSales|\n+-----+------+----------+---------+---------+----------+\n| E103|  Ravi|     Sales|       12|     1300|     15600|\n| E101|  Amit|     Sales|       10|     1200|     12000|\n| E102| Sneha| Marketing|        8|     1500|     12000|\n| E104|Anjali|        HR|        7|     1100|      7700|\n| E105|   Raj|     Sales|        5|     1000|      5000|\n+-----+------+----------+---------+---------+----------+\n\n"
     ]
    }
   ],
   "source": [
    "df.orderBy(col(\"TotalSales\").desc()).show()"
   ]
  }
 ],
 "metadata": {
  "application/vnd.databricks.v1+notebook": {
   "computePreferences": null,
   "dashboards": [],
   "environmentMetadata": {
    "base_environment": "",
    "environment_version": "2"
   },
   "inputWidgetPreferences": null,
   "language": "python",
   "notebookMetadata": {
    "pythonIndentUnit": 4
   },
   "notebookName": "Exercise 1",
   "widgets": {}
  },
  "language_info": {
   "name": "python"
  }
 },
 "nbformat": 4,
 "nbformat_minor": 0
}