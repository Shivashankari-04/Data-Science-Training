{
  "nbformat": 4,
  "nbformat_minor": 0,
  "metadata": {
    "colab": {
      "provenance": []
    },
    "kernelspec": {
      "name": "python3",
      "display_name": "Python 3"
    },
    "language_info": {
      "name": "python"
    }
  },
  "cells": [
    {
      "cell_type": "markdown",
      "source": [
        "# Assignment: Movie Ratings & Revenue Analysis"
      ],
      "metadata": {
        "id": "AlOP9emPuufn"
      }
    },
    {
      "cell_type": "markdown",
      "source": [
        "Step 1: Create the CSV – movies.csv"
      ],
      "metadata": {
        "id": "idcW6zWeuu1u"
      }
    },
    {
      "cell_type": "code",
      "source": [
        "data = \"\"\"MovieID,Title,Genre,ReleaseDate,Rating,Revenue,Budget\n",
        "1,Inception,Sci-Fi,2010-07-16,8.8,825532764,160000000\n",
        "2,The Dark Knight,Action,2008-07-18,9.0,1004558444,185000000\n",
        "3,Titanic,Romance,1997-12-19,7.8,2187463944,200000000\n",
        "4,Interstellar,Sci-Fi,2014-11-07,8.6,677471339,165000000\n",
        "5,Joker,Drama,2019-10-04,8.4,1074251311,55000000\n",
        "6,The Notebook,Romance,2004-06-25,7.9,,29000000\n",
        "7,Avengers: Endgame,Action,2019-04-26,8.4,2797800564,356000000\"\"\"\n",
        "\n",
        "with open(\"movies.csv\", \"w\") as f:\n",
        "    f.write(data)\n"
      ],
      "metadata": {
        "id": "kxuky9Jou24E"
      },
      "execution_count": 1,
      "outputs": []
    },
    {
      "cell_type": "markdown",
      "source": [
        "# PART 1: Pandas Operations"
      ],
      "metadata": {
        "id": "BOxVLI1rvjuY"
      }
    },
    {
      "cell_type": "markdown",
      "source": [
        "1. Load CSV into Pandas\n"
      ],
      "metadata": {
        "id": "36H2Hi-avlh2"
      }
    },
    {
      "cell_type": "code",
      "source": [
        "import pandas as pd\n",
        "df = pd.read_csv(\"movies.csv\")"
      ],
      "metadata": {
        "id": "DDMhSc49vnzZ"
      },
      "execution_count": 2,
      "outputs": []
    },
    {
      "cell_type": "markdown",
      "source": [
        "2. Convert ReleaseDate to datetime"
      ],
      "metadata": {
        "id": "saIFGegRvxKx"
      }
    },
    {
      "cell_type": "code",
      "source": [
        "df[\"ReleaseDate\"] = pd.to_datetime(df[\"ReleaseDate\"])"
      ],
      "metadata": {
        "id": "aJ6HMZxvvwg4"
      },
      "execution_count": 3,
      "outputs": []
    },
    {
      "cell_type": "markdown",
      "source": [
        "3. Create Profit = Revenue - Budget"
      ],
      "metadata": {
        "id": "nWTaaCusv7EB"
      }
    },
    {
      "cell_type": "code",
      "source": [
        "df[\"Profit\"] = df[\"Revenue\"] - df[\"Budget\"]"
      ],
      "metadata": {
        "id": "QsMjmOG1v9DH"
      },
      "execution_count": 4,
      "outputs": []
    },
    {
      "cell_type": "markdown",
      "source": [
        "4. Add column Era:"
      ],
      "metadata": {
        "id": "StyvLEm8wEuY"
      }
    },
    {
      "cell_type": "code",
      "source": [
        "def get_era(date):\n",
        "  year = date.year\n",
        "  if year<2000:\n",
        "    return \"Classic\"\n",
        "  elif year<=2010:\n",
        "    return \"Mid\"\n",
        "  else:\n",
        "    return \"Modern\"\n",
        "\n",
        "df[\"Era\"]= df[\"ReleaseDate\"].apply(get_era)"
      ],
      "metadata": {
        "id": "kkLlDzjAwGRO"
      },
      "execution_count": 5,
      "outputs": []
    },
    {
      "cell_type": "markdown",
      "source": [
        " 5. Handle nulls in Revenue by filling with average revenue."
      ],
      "metadata": {
        "id": "q7qISfOowjEe"
      }
    },
    {
      "cell_type": "code",
      "source": [
        "df[\"Revenue\"] = df[\"Revenue\"].fillna(df[\"Revenue\"].mean())\n",
        "print(df[\"Revenue\"])"
      ],
      "metadata": {
        "colab": {
          "base_uri": "https://localhost:8080/"
        },
        "id": "-t5Mf0ZpwlbO",
        "outputId": "bcbf7bd7-08f7-41cc-a538-b540c51346c8"
      },
      "execution_count": 7,
      "outputs": [
        {
          "output_type": "stream",
          "name": "stdout",
          "text": [
            "0    8.255328e+08\n",
            "1    1.004558e+09\n",
            "2    2.187464e+09\n",
            "3    6.774713e+08\n",
            "4    1.074251e+09\n",
            "5    1.427846e+09\n",
            "6    2.797801e+09\n",
            "Name: Revenue, dtype: float64\n"
          ]
        }
      ]
    },
    {
      "cell_type": "markdown",
      "source": [
        "6. Sort by Rating descending"
      ],
      "metadata": {
        "id": "acKIuYkuw5U-"
      }
    },
    {
      "cell_type": "code",
      "source": [
        "df_sorted= df.sort_values(by=\"Rating\", ascending=False)\n",
        "print(df_sorted[[\"Title\",\"Rating\"]])"
      ],
      "metadata": {
        "colab": {
          "base_uri": "https://localhost:8080/"
        },
        "id": "UPxisUUmw709",
        "outputId": "ebec2522-88ad-47d9-9018-9d3722f8a620"
      },
      "execution_count": 9,
      "outputs": [
        {
          "output_type": "stream",
          "name": "stdout",
          "text": [
            "               Title  Rating\n",
            "1    The Dark Knight     9.0\n",
            "0          Inception     8.8\n",
            "3       Interstellar     8.6\n",
            "6  Avengers: Endgame     8.4\n",
            "4              Joker     8.4\n",
            "5       The Notebook     7.9\n",
            "2            Titanic     7.8\n"
          ]
        }
      ]
    },
    {
      "cell_type": "markdown",
      "source": [
        "7. Group by Genre: avg Rating & total Revenue"
      ],
      "metadata": {
        "id": "oBcJiddBxLvC"
      }
    },
    {
      "cell_type": "code",
      "source": [
        "grouped = df.groupby(\"Genre\").agg({\"Rating\": \"mean\", \"Revenue\": \"sum\"})\n",
        "print(grouped)"
      ],
      "metadata": {
        "colab": {
          "base_uri": "https://localhost:8080/"
        },
        "id": "T6qd8rc7xOxm",
        "outputId": "0863301a-50e8-493a-c04f-0ffbbf4b29a4"
      },
      "execution_count": 13,
      "outputs": [
        {
          "output_type": "stream",
          "name": "stdout",
          "text": [
            "         Rating       Revenue\n",
            "Genre                        \n",
            "Action     8.70  3.802359e+09\n",
            "Drama      8.40  1.074251e+09\n",
            "Romance    7.85  3.615310e+09\n",
            "Sci-Fi     8.70  1.503004e+09\n"
          ]
        }
      ]
    },
    {
      "cell_type": "markdown",
      "source": [
        "8. Filter movies with Rating ≥ 8.5 and Profit > 500M\n",
        "\n"
      ],
      "metadata": {
        "id": "usFQRWfux1ea"
      }
    },
    {
      "cell_type": "code",
      "source": [
        "filtered_df = df[(df[\"Rating\"]>=8.5) & (df[\"Profit\"]>500_000_000)]\n",
        "print(filtered_df)"
      ],
      "metadata": {
        "colab": {
          "base_uri": "https://localhost:8080/"
        },
        "id": "wRJcCEgJx34k",
        "outputId": "f26c2f92-7baf-45ed-f8c2-b00f7c74c478"
      },
      "execution_count": 16,
      "outputs": [
        {
          "output_type": "stream",
          "name": "stdout",
          "text": [
            "   MovieID            Title   Genre ReleaseDate  Rating       Revenue  \\\n",
            "0        1        Inception  Sci-Fi  2010-07-16     8.8  8.255328e+08   \n",
            "1        2  The Dark Knight  Action  2008-07-18     9.0  1.004558e+09   \n",
            "3        4     Interstellar  Sci-Fi  2014-11-07     8.6  6.774713e+08   \n",
            "\n",
            "      Budget       Profit     Era  \n",
            "0  160000000  665532764.0     Mid  \n",
            "1  185000000  819558444.0     Mid  \n",
            "3  165000000  512471339.0  Modern  \n"
          ]
        }
      ]
    },
    {
      "cell_type": "markdown",
      "source": [
        "9. Bar Chart: Movie Title vs Profit"
      ],
      "metadata": {
        "id": "7mVvO4-3yijI"
      }
    },
    {
      "cell_type": "code",
      "source": [
        "import matplotlib.pyplot as plt\n",
        "df.plot(x=\"Title\", y=\"Profit\", kind=\"bar\", color=\"skyblue\", figsize=(10,5))\n",
        "plt.title(\"Movie Profit\")\n",
        "plt.xlabel(\"Title\")\n",
        "plt.ylabel(\"Profit\")\n",
        "plt.xticks(rotation=45)\n",
        "plt.tight_layout()\n",
        "plt.show()\n"
      ],
      "metadata": {
        "colab": {
          "base_uri": "https://localhost:8080/",
          "height": 338
        },
        "id": "Mn37z1FkykDq",
        "outputId": "d518adcf-19cd-43b7-896c-50746c2234f0"
      },
      "execution_count": 19,
      "outputs": [
        {
          "output_type": "display_data",
          "data": {
            "text/plain": [
              "<Figure size 1000x500 with 1 Axes>"
            ],
            "image/png": "[encoded data removed]"
          },
          "metadata": {}
        }
      ]
    },
    {
      "cell_type": "markdown",
      "source": [
        "# PART 2: PySpark Operations"
      ],
      "metadata": {
        "id": "ZE6S8HLjz0Mx"
      }
    },
    {
      "cell_type": "code",
      "source": [
        "# Download Spark from the correct URL\n",
        "!wget https://archive.apache.org/dist/spark/spark-3.5.0/spark-3.5.0-bin-hadoop3.tgz\n",
        "\n"
      ],
      "metadata": {
        "colab": {
          "base_uri": "https://localhost:8080/"
        },
        "id": "k5NvPINjz1OS",
        "outputId": "53c61a31-4a65-4934-a996-a81bffdaa30c"
      },
      "execution_count": 20,
      "outputs": [
        {
          "output_type": "stream",
          "name": "stdout",
          "text": [
            "--2025-07-31 09:27:58--  https://archive.apache.org/dist/spark/spark-3.5.0/spark-3.5.0-bin-hadoop3.tgz\n",
            "Resolving archive.apache.org (archive.apache.org)... 65.108.204.189, 2a01:4f9:1a:a084::2\n",
            "Connecting to archive.apache.org (archive.apache.org)|65.108.204.189|:443... connected.\n",
            "HTTP request sent, awaiting response... 200 OK\n",
            "Length: 400395283 (382M) [application/x-gzip]\n",
            "Saving to: ‘spark-3.5.0-bin-hadoop3.tgz’\n",
            "\n",
            "spark-3.5.0-bin-had 100%[===================>] 381.85M  1.38MB/s    in 7m 39s  \n",
            "\n",
            "2025-07-31 09:35:38 (852 KB/s) - ‘spark-3.5.0-bin-hadoop3.tgz’ saved [400395283/400395283]\n",
            "\n"
          ]
        }
      ]
    },
    {
      "cell_type": "code",
      "source": [
        "# Extract Spark\n",
        "!tar -xzf spark-3.5.0-bin-hadoop3.tgz"
      ],
      "metadata": {
        "id": "wbHR_8DB19xR"
      },
      "execution_count": 21,
      "outputs": []
    },
    {
      "cell_type": "code",
      "source": [
        "!apt-get install openjdk-11-jdk -y\n",
        "!pip install -q findspark"
      ],
      "metadata": {
        "colab": {
          "base_uri": "https://localhost:8080/"
        },
        "id": "zidat-wv2A0Y",
        "outputId": "ec9f77dd-ca5f-42f3-9c65-ff1ff738ebbd"
      },
      "execution_count": 22,
      "outputs": [
        {
          "output_type": "stream",
          "name": "stdout",
          "text": [
            "Reading package lists... Done\n",
            "Building dependency tree... Done\n",
            "Reading state information... Done\n",
            "The following additional packages will be installed:\n",
            "  fonts-dejavu-core fonts-dejavu-extra libatk-wrapper-java\n",
            "  libatk-wrapper-java-jni libxt-dev libxtst6 libxxf86dga1 openjdk-11-jre\n",
            "  x11-utils\n",
            "Suggested packages:\n",
            "  libxt-doc openjdk-11-demo openjdk-11-source visualvm mesa-utils\n",
            "The following NEW packages will be installed:\n",
            "  fonts-dejavu-core fonts-dejavu-extra libatk-wrapper-java\n",
            "  libatk-wrapper-java-jni libxt-dev libxtst6 libxxf86dga1 openjdk-11-jdk\n",
            "  openjdk-11-jre x11-utils\n",
            "0 upgraded, 10 newly installed, 0 to remove and 35 not upgraded.\n",
            "Need to get 5,367 kB of archives.\n",
            "After this operation, 15.2 MB of additional disk space will be used.\n",
            "Get:1 http://archive.ubuntu.com/ubuntu jammy/main amd64 fonts-dejavu-core all 2.37-2build1 [1,041 kB]\n",
            "Get:2 http://archive.ubuntu.com/ubuntu jammy/main amd64 fonts-dejavu-extra all 2.37-2build1 [2,041 kB]\n",
            "Get:3 http://archive.ubuntu.com/ubuntu jammy/main amd64 libxtst6 amd64 2:1.2.3-1build4 [13.4 kB]\n",
            "Get:4 http://archive.ubuntu.com/ubuntu jammy/main amd64 libxxf86dga1 amd64 2:1.1.5-0ubuntu3 [12.6 kB]\n",
            "Get:5 http://archive.ubuntu.com/ubuntu jammy/main amd64 x11-utils amd64 7.7+5build2 [206 kB]\n",
            "Get:6 http://archive.ubuntu.com/ubuntu jammy/main amd64 libatk-wrapper-java all 0.38.0-5build1 [53.1 kB]\n",
            "Get:7 http://archive.ubuntu.com/ubuntu jammy/main amd64 libatk-wrapper-java-jni amd64 0.38.0-5build1 [49.0 kB]\n",
            "Get:8 http://archive.ubuntu.com/ubuntu jammy/main amd64 libxt-dev amd64 1:1.2.1-1 [396 kB]\n",
            "Get:9 http://archive.ubuntu.com/ubuntu jammy-updates/main amd64 openjdk-11-jre amd64 11.0.28+6-1ubuntu1~22.04.1 [214 kB]\n",
            "Get:10 http://archive.ubuntu.com/ubuntu jammy-updates/main amd64 openjdk-11-jdk amd64 11.0.28+6-1ubuntu1~22.04.1 [1,342 kB]\n",
            "Fetched 5,367 kB in 0s (16.4 MB/s)\n",
            "Selecting previously unselected package fonts-dejavu-core.\n",
            "(Reading database ... 126284 files and directories currently installed.)\n",
            "Preparing to unpack .../0-fonts-dejavu-core_2.37-2build1_all.deb ...\n",
            "Unpacking fonts-dejavu-core (2.37-2build1) ...\n",
            "Selecting previously unselected package fonts-dejavu-extra.\n",
            "Preparing to unpack .../1-fonts-dejavu-extra_2.37-2build1_all.deb ...\n",
            "Unpacking fonts-dejavu-extra (2.37-2build1) ...\n",
            "Selecting previously unselected package libxtst6:amd64.\n",
            "Preparing to unpack .../2-libxtst6_2%3a1.2.3-1build4_amd64.deb ...\n",
            "Unpacking libxtst6:amd64 (2:1.2.3-1build4) ...\n",
            "Selecting previously unselected package libxxf86dga1:amd64.\n",
            "Preparing to unpack .../3-libxxf86dga1_2%3a1.1.5-0ubuntu3_amd64.deb ...\n",
            "Unpacking libxxf86dga1:amd64 (2:1.1.5-0ubuntu3) ...\n",
            "Selecting previously unselected package x11-utils.\n",
            "Preparing to unpack .../4-x11-utils_7.7+5build2_amd64.deb ...\n",
            "Unpacking x11-utils (7.7+5build2) ...\n",
            "Selecting previously unselected package libatk-wrapper-java.\n",
            "Preparing to unpack .../5-libatk-wrapper-java_0.38.0-5build1_all.deb ...\n",
            "Unpacking libatk-wrapper-java (0.38.0-5build1) ...\n",
            "Selecting previously unselected package libatk-wrapper-java-jni:amd64.\n",
            "Preparing to unpack .../6-libatk-wrapper-java-jni_0.38.0-5build1_amd64.deb ...\n",
            "Unpacking libatk-wrapper-java-jni:amd64 (0.38.0-5build1) ...\n",
            "Selecting previously unselected package libxt-dev:amd64.\n",
            "Preparing to unpack .../7-libxt-dev_1%3a1.2.1-1_amd64.deb ...\n",
            "Unpacking libxt-dev:amd64 (1:1.2.1-1) ...\n",
            "Selecting previously unselected package openjdk-11-jre:amd64.\n",
            "Preparing to unpack .../8-openjdk-11-jre_11.0.28+6-1ubuntu1~22.04.1_amd64.deb ...\n",
            "Unpacking openjdk-11-jre:amd64 (11.0.28+6-1ubuntu1~22.04.1) ...\n",
            "Selecting previously unselected package openjdk-11-jdk:amd64.\n",
            "Preparing to unpack .../9-openjdk-11-jdk_11.0.28+6-1ubuntu1~22.04.1_amd64.deb ...\n",
            "Unpacking openjdk-11-jdk:amd64 (11.0.28+6-1ubuntu1~22.04.1) ...\n",
            "Setting up libxtst6:amd64 (2:1.2.3-1build4) ...\n",
            "Setting up libxxf86dga1:amd64 (2:1.1.5-0ubuntu3) ...\n",
            "Setting up openjdk-11-jre:amd64 (11.0.28+6-1ubuntu1~22.04.1) ...\n",
            "Setting up libxt-dev:amd64 (1:1.2.1-1) ...\n",
            "Setting up fonts-dejavu-core (2.37-2build1) ...\n",
            "Setting up fonts-dejavu-extra (2.37-2build1) ...\n",
            "Setting up x11-utils (7.7+5build2) ...\n",
            "Setting up openjdk-11-jdk:amd64 (11.0.28+6-1ubuntu1~22.04.1) ...\n",
            "update-alternatives: using /usr/lib/jvm/java-11-openjdk-amd64/bin/jconsole to provide /usr/bin/jconsole (jconsole) in auto mode\n",
            "Setting up libatk-wrapper-java (0.38.0-5build1) ...\n",
            "Setting up libatk-wrapper-java-jni:amd64 (0.38.0-5build1) ...\n",
            "Processing triggers for fontconfig (2.13.1-4.2ubuntu5) ...\n",
            "Processing triggers for hicolor-icon-theme (0.17-2) ...\n",
            "Processing triggers for libc-bin (2.35-0ubuntu3.8) ...\n",
            "/sbin/ldconfig.real: /usr/local/lib/libtbbbind_2_0.so.3 is not a symbolic link\n",
            "\n",
            "/sbin/ldconfig.real: /usr/local/lib/libtbbmalloc.so.2 is not a symbolic link\n",
            "\n",
            "/sbin/ldconfig.real: /usr/local/lib/libumf.so.0 is not a symbolic link\n",
            "\n",
            "/sbin/ldconfig.real: /usr/local/lib/libtbb.so.12 is not a symbolic link\n",
            "\n",
            "/sbin/ldconfig.real: /usr/local/lib/libtcm.so.1 is not a symbolic link\n",
            "\n",
            "/sbin/ldconfig.real: /usr/local/lib/libur_adapter_opencl.so.0 is not a symbolic link\n",
            "\n",
            "/sbin/ldconfig.real: /usr/local/lib/libur_adapter_level_zero_v2.so.0 is not a symbolic link\n",
            "\n",
            "/sbin/ldconfig.real: /usr/local/lib/libtcm_debug.so.1 is not a symbolic link\n",
            "\n",
            "/sbin/ldconfig.real: /usr/local/lib/libtbbbind.so.3 is not a symbolic link\n",
            "\n",
            "/sbin/ldconfig.real: /usr/local/lib/libhwloc.so.15 is not a symbolic link\n",
            "\n",
            "/sbin/ldconfig.real: /usr/local/lib/libtbbbind_2_5.so.3 is not a symbolic link\n",
            "\n",
            "/sbin/ldconfig.real: /usr/local/lib/libur_loader.so.0 is not a symbolic link\n",
            "\n",
            "/sbin/ldconfig.real: /usr/local/lib/libur_adapter_level_zero.so.0 is not a symbolic link\n",
            "\n",
            "/sbin/ldconfig.real: /usr/local/lib/libtbbmalloc_proxy.so.2 is not a symbolic link\n",
            "\n",
            "Processing triggers for man-db (2.10.2-1) ...\n",
            "Processing triggers for mailcap (3.70+nmu1ubuntu1) ...\n"
          ]
        }
      ]
    },
    {
      "cell_type": "code",
      "source": [
        "#Set Environment Variables and Initialize Spark\n",
        "import os\n",
        "os.environ[\"JAVA_HOME\"] = \"/usr/lib/jvm/java-11-openjdk-amd64\"\n",
        "os.environ[\"SPARK_HOME\"] = \"/content/spark-3.5.0-bin-hadoop3\"\n",
        "\n",
        "import findspark\n",
        "findspark.init()\n",
        "\n",
        "from pyspark.sql import SparkSession\n",
        "\n",
        "spark = SparkSession.builder.appName(\"MovieRatingAnalysis\").getOrCreate()"
      ],
      "metadata": {
        "id": "Sd75F0J_2Ei3"
      },
      "execution_count": 24,
      "outputs": []
    },
    {
      "cell_type": "markdown",
      "source": [
        "1. Read the CSV with PySpark"
      ],
      "metadata": {
        "id": "ka0tNOza2JvN"
      }
    },
    {
      "cell_type": "code",
      "source": [
        "df = spark.read.csv(\"movies.csv\", header=True, inferSchema=True)\n",
        "df.printSchema()\n",
        "df.show()"
      ],
      "metadata": {
        "colab": {
          "base_uri": "https://localhost:8080/"
        },
        "id": "C0bfD7X92a75",
        "outputId": "23adfba6-cc08-4f5e-a1cf-34cc6d74fe8c"
      },
      "execution_count": 25,
      "outputs": [
        {
          "output_type": "stream",
          "name": "stdout",
          "text": [
            "root\n",
            " |-- MovieID: integer (nullable = true)\n",
            " |-- Title: string (nullable = true)\n",
            " |-- Genre: string (nullable = true)\n",
            " |-- ReleaseDate: date (nullable = true)\n",
            " |-- Rating: double (nullable = true)\n",
            " |-- Revenue: long (nullable = true)\n",
            " |-- Budget: integer (nullable = true)\n",
            "\n",
            "+-------+-----------------+-------+-----------+------+----------+---------+\n",
            "|MovieID|            Title|  Genre|ReleaseDate|Rating|   Revenue|   Budget|\n",
            "+-------+-----------------+-------+-----------+------+----------+---------+\n",
            "|      1|        Inception| Sci-Fi| 2010-07-16|   8.8| 825532764|160000000|\n",
            "|      2|  The Dark Knight| Action| 2008-07-18|   9.0|1004558444|185000000|\n",
            "|      3|          Titanic|Romance| 1997-12-19|   7.8|2187463944|200000000|\n",
            "|      4|     Interstellar| Sci-Fi| 2014-11-07|   8.6| 677471339|165000000|\n",
            "|      5|            Joker|  Drama| 2019-10-04|   8.4|1074251311| 55000000|\n",
            "|      6|     The Notebook|Romance| 2004-06-25|   7.9|      NULL| 29000000|\n",
            "|      7|Avengers: Endgame| Action| 2019-04-26|   8.4|2797800564|356000000|\n",
            "+-------+-----------------+-------+-----------+------+----------+---------+\n",
            "\n"
          ]
        }
      ]
    },
    {
      "cell_type": "markdown",
      "source": [
        "2. Create Profit column (Revenue - Budget)"
      ],
      "metadata": {
        "id": "mA8Jtwfb2v6n"
      }
    },
    {
      "cell_type": "code",
      "source": [
        "from pyspark.sql.functions import col\n",
        "df = df.withColumn(\"Profit\", col(\"Revenue\") - col(\"Budget\"))\n",
        "df.select(\"Title\",\"Revenue\", \"Budget\", \"Profit\").show()"
      ],
      "metadata": {
        "colab": {
          "base_uri": "https://localhost:8080/"
        },
        "id": "LoUHayzr2xpK",
        "outputId": "6125d847-e3d7-4a7f-ec35-b6aaf90a2ef9"
      },
      "execution_count": 26,
      "outputs": [
        {
          "output_type": "stream",
          "name": "stdout",
          "text": [
            "+-----------------+----------+---------+----------+\n",
            "|            Title|   Revenue|   Budget|    Profit|\n",
            "+-----------------+----------+---------+----------+\n",
            "|        Inception| 825532764|160000000| 665532764|\n",
            "|  The Dark Knight|1004558444|185000000| 819558444|\n",
            "|          Titanic|2187463944|200000000|1987463944|\n",
            "|     Interstellar| 677471339|165000000| 512471339|\n",
            "|            Joker|1074251311| 55000000|1019251311|\n",
            "|     The Notebook|      NULL| 29000000|      NULL|\n",
            "|Avengers: Endgame|2797800564|356000000|2441800564|\n",
            "+-----------------+----------+---------+----------+\n",
            "\n"
          ]
        }
      ]
    },
    {
      "cell_type": "markdown",
      "source": [
        "3. Filter where Genre = 'Sci-Fi' and Profit > 500000000"
      ],
      "metadata": {
        "id": "pwMtjDyg3J9M"
      }
    },
    {
      "cell_type": "code",
      "source": [
        "df.filter((col(\"Genre\") == \"Sci-Fi\") & (col(\"Profit\") > 500_000_000)).show()\n"
      ],
      "metadata": {
        "colab": {
          "base_uri": "https://localhost:8080/"
        },
        "id": "abiho6J13L2r",
        "outputId": "ea0a2240-d407-455f-b9cd-04f14bf42f99"
      },
      "execution_count": 27,
      "outputs": [
        {
          "output_type": "stream",
          "name": "stdout",
          "text": [
            "+-------+------------+------+-----------+------+---------+---------+---------+\n",
            "|MovieID|       Title| Genre|ReleaseDate|Rating|  Revenue|   Budget|   Profit|\n",
            "+-------+------------+------+-----------+------+---------+---------+---------+\n",
            "|      1|   Inception|Sci-Fi| 2010-07-16|   8.8|825532764|160000000|665532764|\n",
            "|      4|Interstellar|Sci-Fi| 2014-11-07|   8.6|677471339|165000000|512471339|\n",
            "+-------+------------+------+-----------+------+---------+---------+---------+\n",
            "\n"
          ]
        }
      ]
    },
    {
      "cell_type": "markdown",
      "source": [
        " 4. Group by Genre → avg(Rating), sum(Profit)"
      ],
      "metadata": {
        "id": "5Z-fB_0V3a16"
      }
    },
    {
      "cell_type": "code",
      "source": [
        "df.groupby(\"Genre\").agg({\"Rating\": \"avg\", \"Profit\": \"sum\"}).show()"
      ],
      "metadata": {
        "colab": {
          "base_uri": "https://localhost:8080/"
        },
        "id": "7qjPB7lu3c3E",
        "outputId": "1031ee15-38ac-4de7-8b91-05d8301c5866"
      },
      "execution_count": 28,
      "outputs": [
        {
          "output_type": "stream",
          "name": "stdout",
          "text": [
            "+-------+-----------+-----------+\n",
            "|  Genre|avg(Rating)|sum(Profit)|\n",
            "+-------+-----------+-----------+\n",
            "|Romance|       7.85| 1987463944|\n",
            "|  Drama|        8.4| 1019251311|\n",
            "| Action|        8.7| 3261359008|\n",
            "| Sci-Fi|        8.7| 1178004103|\n",
            "+-------+-----------+-----------+\n",
            "\n"
          ]
        }
      ]
    },
    {
      "cell_type": "markdown",
      "source": [
        " 5. Classify Rating as\n",
        " 9 → Blockbuster\n",
        " 8–9 → Hit\n",
        " below 8 → Average\n"
      ],
      "metadata": {
        "id": "kdRW0u8V3saF"
      }
    },
    {
      "cell_type": "code",
      "source": [
        "from pyspark.sql.functions import when\n",
        "\n",
        "df = df.withColumn(\"RatingCategory\",\n",
        "    when(col(\"Rating\") == 9.0, \"Blockbuster\")\n",
        "    .when((col(\"Rating\") >= 8.0) & (col(\"Rating\") < 9.0), \"Hit\")\n",
        "    .otherwise(\"Average\")\n",
        ")\n",
        "\n",
        "df.select(\"Title\", \"Rating\", \"RatingCategory\").show()"
      ],
      "metadata": {
        "colab": {
          "base_uri": "https://localhost:8080/"
        },
        "id": "gwkrNQIP4BA3",
        "outputId": "5cdce0fe-5320-41e4-a70b-158a9d1cb209"
      },
      "execution_count": 38,
      "outputs": [
        {
          "output_type": "stream",
          "name": "stdout",
          "text": [
            "+-----------------+------+--------------+\n",
            "|            Title|Rating|RatingCategory|\n",
            "+-----------------+------+--------------+\n",
            "|        Inception|   8.8|           Hit|\n",
            "|  The Dark Knight|   9.0|   Blockbuster|\n",
            "|          Titanic|   7.8|       Average|\n",
            "|     Interstellar|   8.6|           Hit|\n",
            "|            Joker|   8.4|           Hit|\n",
            "|     The Notebook|   7.9|       Average|\n",
            "|Avengers: Endgame|   8.4|           Hit|\n",
            "+-----------------+------+--------------+\n",
            "\n"
          ]
        }
      ]
    },
    {
      "cell_type": "markdown",
      "source": [
        "6. Drop the Budget column\n",
        "\n"
      ],
      "metadata": {
        "id": "iSeEg81e4DCj"
      }
    },
    {
      "cell_type": "code",
      "source": [
        "df.drop(\"Budget\")"
      ],
      "metadata": {
        "colab": {
          "base_uri": "https://localhost:8080/"
        },
        "id": "Q2o-dExm4GI5",
        "outputId": "a0e5d7f8-9c87-44e9-c054-de2ecb31105b"
      },
      "execution_count": 37,
      "outputs": [
        {
          "output_type": "execute_result",
          "data": {
            "text/plain": [
              "DataFrame[MovieID: int, Title: string, Genre: string, ReleaseDate: date, Rating: double, Revenue: bigint, Profit: bigint, PRofitRank: int, Year: int, Month: int]"
            ]
          },
          "metadata": {},
          "execution_count": 37
        }
      ]
    },
    {
      "cell_type": "markdown",
      "source": [
        "7. Fill nulls in Revenue with average"
      ],
      "metadata": {
        "id": "JkanAbXJ4GqR"
      }
    },
    {
      "cell_type": "code",
      "source": [
        "avg_revenue = df.selectExpr(\"avg(Revenue)\").first()[0]\n",
        "df = df.na.fill({\"Revenue\":avg_revenue})"
      ],
      "metadata": {
        "id": "upBvAZtT4I_0"
      },
      "execution_count": 40,
      "outputs": []
    },
    {
      "cell_type": "markdown",
      "source": [
        " 8. Convert ReleaseDate to date type, extract year and month"
      ],
      "metadata": {
        "id": "ekt-ybko4Jcz"
      }
    },
    {
      "cell_type": "code",
      "source": [
        "from pyspark.sql.functions import to_date, year, month\n",
        "\n",
        "df = df.withColumn(\"ReleaseDate\", to_date(col(\"ReleaseDate\"), \"yyyy-mm-dd\"))\n",
        "df = df.withColumn(\"Year\", year(col(\"ReleaseDate\")))\n",
        "df = df.withColumn(\"Month\",month(col(\"ReleaseDate\")))\n",
        "df.select(\"Title\", \"ReleaseDate\", \"Year\", \"Month\").show()"
      ],
      "metadata": {
        "colab": {
          "base_uri": "https://localhost:8080/"
        },
        "id": "0YTe7G3G4KHf",
        "outputId": "0b452d08-4392-4e6f-893b-a69ecb593dbe"
      },
      "execution_count": 41,
      "outputs": [
        {
          "output_type": "stream",
          "name": "stdout",
          "text": [
            "+-----------------+-----------+----+-----+\n",
            "|            Title|ReleaseDate|Year|Month|\n",
            "+-----------------+-----------+----+-----+\n",
            "|        Inception| 2010-07-16|2010|    7|\n",
            "|  The Dark Knight| 2008-07-18|2008|    7|\n",
            "|          Titanic| 1997-12-19|1997|   12|\n",
            "|     Interstellar| 2014-11-07|2014|   11|\n",
            "|            Joker| 2019-10-04|2019|   10|\n",
            "|     The Notebook| 2004-06-25|2004|    6|\n",
            "|Avengers: Endgame| 2019-04-26|2019|    4|\n",
            "+-----------------+-----------+----+-----+\n",
            "\n"
          ]
        }
      ]
    },
    {
      "cell_type": "markdown",
      "source": [
        "9. Use Window Function: Rank movies within each genre by Profit"
      ],
      "metadata": {
        "id": "BBwboalN4NE0"
      }
    },
    {
      "cell_type": "code",
      "source": [
        "from pyspark.sql.window import Window\n",
        "from pyspark.sql.functions import rank\n",
        "\n",
        "windowSpec = Window.partitionBy(\"Genre\").orderBy(col(\"Profit\").desc())\n",
        "\n",
        "df = df.withColumn(\"PRofitRank\", rank().over(windowSpec))\n",
        "df.select(\"Title\", \"Genre\", \"Profit\", \"ProfitRank\").show()"
      ],
      "metadata": {
        "colab": {
          "base_uri": "https://localhost:8080/"
        },
        "id": "1yxl0Jae4N28",
        "outputId": "849f19f0-778f-4e1d-9652-33501276a25e"
      },
      "execution_count": 42,
      "outputs": [
        {
          "output_type": "stream",
          "name": "stdout",
          "text": [
            "+-----------------+-------+----------+----------+\n",
            "|            Title|  Genre|    Profit|ProfitRank|\n",
            "+-----------------+-------+----------+----------+\n",
            "|Avengers: Endgame| Action|2441800564|         1|\n",
            "|  The Dark Knight| Action| 819558444|         2|\n",
            "|            Joker|  Drama|1019251311|         1|\n",
            "|          Titanic|Romance|1987463944|         1|\n",
            "|     The Notebook|Romance|      NULL|         2|\n",
            "|        Inception| Sci-Fi| 665532764|         1|\n",
            "|     Interstellar| Sci-Fi| 512471339|         2|\n",
            "+-----------------+-------+----------+----------+\n",
            "\n"
          ]
        }
      ]
    },
    {
      "cell_type": "markdown",
      "source": [
        "PART 3: JSON + UNION Example"
      ],
      "metadata": {
        "id": "zJK01Zuk6RVp"
      }
    },
    {
      "cell_type": "markdown",
      "source": [
        "Data provided"
      ],
      "metadata": {
        "id": "kO2vUsYc6cLT"
      }
    },
    {
      "cell_type": "code",
      "source": [
        "[\n",
        "  {\n",
        "    \"MovieID\": 8,\n",
        "    \"Title\": \"Barbie\",\n",
        "    \"Genre\": \"Drama\",\n",
        "    \"Rating\": 7.5,\n",
        "    \"Revenue\": 1456000000,\n",
        "    \"Budget\": 145000000\n",
        "  },\n",
        "  {\n",
        "    \"MovieID\": 9,\n",
        "    \"Title\": \"Oppenheimer\",\n",
        "    \"Genre\": \"Drama\",\n",
        "    \"Rating\": 8.6,\n",
        "    \"Revenue\": 950000000,\n",
        "    \"Budget\": 100000000\n",
        "  }\n",
        "]\n"
      ],
      "metadata": {
        "id": "ourV9cDx6bE3"
      },
      "execution_count": null,
      "outputs": []
    },
    {
      "cell_type": "markdown",
      "source": [
        " Step 1: Saving data as movies_bonus.json\n"
      ],
      "metadata": {
        "id": "jL3pWjHK6qdk"
      }
    },
    {
      "cell_type": "code",
      "source": [
        "json_data = \"\"\"\n",
        "[\n",
        "  {\n",
        "    \"MovieID\": 8,\n",
        "    \"Title\": \"Barbie\",\n",
        "    \"Genre\": \"Drama\",\n",
        "    \"Rating\": 7.5,\n",
        "    \"Revenue\": 1456000000,\n",
        "    \"Budget\": 145000000\n",
        "  },\n",
        "  {\n",
        "    \"MovieID\": 9,\n",
        "    \"Title\": \"Oppenheimer\",\n",
        "    \"Genre\": \"Drama\",\n",
        "    \"Rating\": 8.6,\n",
        "    \"Revenue\": 950000000,\n",
        "    \"Budget\": 100000000\n",
        "  }\n",
        "]\n",
        "\"\"\"\n",
        "\n",
        "with open(\"movies_bonus.json\", \"w\") as f:\n",
        "    f.write(json_data)\n"
      ],
      "metadata": {
        "id": "CYXLSHje6yCL"
      },
      "execution_count": 43,
      "outputs": []
    },
    {
      "cell_type": "markdown",
      "source": [
        " 1. Read this JSON using PySpark"
      ],
      "metadata": {
        "id": "SqVq4wnT60z9"
      }
    },
    {
      "cell_type": "code",
      "source": [
        "df_json = spark.read.json(\"movies_bonus.json\", multiLine=True)\n",
        "df_json.show()\n"
      ],
      "metadata": {
        "colab": {
          "base_uri": "https://localhost:8080/"
        },
        "id": "VOU-rzN461mq",
        "outputId": "6ce583f2-36fc-460c-9d00-92f25090611e"
      },
      "execution_count": 44,
      "outputs": [
        {
          "output_type": "stream",
          "name": "stdout",
          "text": [
            "+---------+-----+-------+------+----------+-----------+\n",
            "|   Budget|Genre|MovieID|Rating|   Revenue|      Title|\n",
            "+---------+-----+-------+------+----------+-----------+\n",
            "|145000000|Drama|      8|   7.5|1456000000|     Barbie|\n",
            "|100000000|Drama|      9|   8.6| 950000000|Oppenheimer|\n",
            "+---------+-----+-------+------+----------+-----------+\n",
            "\n"
          ]
        }
      ]
    },
    {
      "cell_type": "markdown",
      "source": [
        "2. Union it with original movies DataFrame"
      ],
      "metadata": {
        "id": "_aKGUHx362Cy"
      }
    },
    {
      "cell_type": "code",
      "source": [
        "# Re- reading csv as budget is dropped\n",
        "from pyspark.sql.functions import col\n",
        "\n",
        "original_df = spark.read.csv(\"movies.csv\", header=True, inferSchema=True)\n",
        "original_df = original_df.withColumn(\"Profit\", col(\"Revenue\") - col(\"Budget\"))\n",
        "\n"
      ],
      "metadata": {
        "id": "DMTAtYL2682i"
      },
      "execution_count": 60,
      "outputs": []
    },
    {
      "cell_type": "code",
      "source": [
        "df_json = spark.read.json(\"movies_bonus.json\", multiLine=True)\n",
        "df_json = df_json.withColumn(\"Profit\", col(\"Revenue\") - col(\"Budget\"))\n"
      ],
      "metadata": {
        "id": "Lmp8XXG98lJy"
      },
      "execution_count": 61,
      "outputs": []
    },
    {
      "cell_type": "code",
      "source": [
        "from pyspark.sql.functions import lit\n",
        "\n",
        "df_json = df_json.withColumn(\"ReleaseDate\", lit(None).cast(\"string\"))\n"
      ],
      "metadata": {
        "id": "lpIailSl8niZ"
      },
      "execution_count": 62,
      "outputs": []
    },
    {
      "cell_type": "code",
      "source": [
        "df_json = df_json.select(original_df.columns)\n"
      ],
      "metadata": {
        "id": "5_n77KFT69Z8"
      },
      "execution_count": 63,
      "outputs": []
    },
    {
      "cell_type": "code",
      "source": [
        "union_df = original_df.unionByName(df_json)\n",
        "union_df.show()"
      ],
      "metadata": {
        "colab": {
          "base_uri": "https://localhost:8080/"
        },
        "id": "V8EwjRGBJUiY",
        "outputId": "a1743a02-a68e-4523-a712-a64f1eff8f55"
      },
      "execution_count": 64,
      "outputs": [
        {
          "output_type": "stream",
          "name": "stdout",
          "text": [
            "+-------+-----------------+-------+-----------+------+----------+---------+----------+\n",
            "|MovieID|            Title|  Genre|ReleaseDate|Rating|   Revenue|   Budget|    Profit|\n",
            "+-------+-----------------+-------+-----------+------+----------+---------+----------+\n",
            "|      1|        Inception| Sci-Fi| 2010-07-16|   8.8| 825532764|160000000| 665532764|\n",
            "|      2|  The Dark Knight| Action| 2008-07-18|   9.0|1004558444|185000000| 819558444|\n",
            "|      3|          Titanic|Romance| 1997-12-19|   7.8|2187463944|200000000|1987463944|\n",
            "|      4|     Interstellar| Sci-Fi| 2014-11-07|   8.6| 677471339|165000000| 512471339|\n",
            "|      5|            Joker|  Drama| 2019-10-04|   8.4|1074251311| 55000000|1019251311|\n",
            "|      6|     The Notebook|Romance| 2004-06-25|   7.9|      NULL| 29000000|      NULL|\n",
            "|      7|Avengers: Endgame| Action| 2019-04-26|   8.4|2797800564|356000000|2441800564|\n",
            "|      8|           Barbie|  Drama|       NULL|   7.5|1456000000|145000000|1311000000|\n",
            "|      9|      Oppenheimer|  Drama|       NULL|   8.6| 950000000|100000000| 850000000|\n",
            "+-------+-----------------+-------+-----------+------+----------+---------+----------+\n",
            "\n"
          ]
        }
      ]
    },
    {
      "cell_type": "markdown",
      "source": [
        "3. Show top 5 highest grossing movies"
      ],
      "metadata": {
        "id": "w4koJBLb6_DZ"
      }
    },
    {
      "cell_type": "code",
      "source": [
        "union_df.orderBy(col(\"Revenue\").desc()).select(\"Title\", \"Revenue\").show(5)\n"
      ],
      "metadata": {
        "colab": {
          "base_uri": "https://localhost:8080/"
        },
        "id": "lGtY5fry7AB5",
        "outputId": "88ba609e-9028-4efd-f9df-21090caf43cb"
      },
      "execution_count": 50,
      "outputs": [
        {
          "output_type": "stream",
          "name": "stdout",
          "text": [
            "+-----------------+----------+\n",
            "|            Title|   Revenue|\n",
            "+-----------------+----------+\n",
            "|Avengers: Endgame|2797800564|\n",
            "|          Titanic|2187463944|\n",
            "|           Barbie|1456000000|\n",
            "|            Joker|1074251311|\n",
            "|  The Dark Knight|1004558444|\n",
            "+-----------------+----------+\n",
            "only showing top 5 rows\n",
            "\n"
          ]
        }
      ]
    },
    {
      "cell_type": "markdown",
      "source": [
        "4. Save final merged DataFrame as CSV"
      ],
      "metadata": {
        "id": "HpAGhTLx7BUd"
      }
    },
    {
      "cell_type": "code",
      "source": [
        "union_df.write.csv(\"merged_movies.csv\", header=True, mode=\"overwrite\")\n"
      ],
      "metadata": {
        "id": "Zs6Jy49j7DZU"
      },
      "execution_count": 51,
      "outputs": []
    },
    {
      "cell_type": "markdown",
      "source": [
        "# BONUS Task\n"
      ],
      "metadata": {
        "id": "ij-_GKx37D-f"
      }
    },
    {
      "cell_type": "markdown",
      "source": [
        "Create a column ReturnOnInvestment = Profit / Budget"
      ],
      "metadata": {
        "id": "vQFxH8jJ7Fun"
      }
    },
    {
      "cell_type": "code",
      "source": [
        "from pyspark.sql.functions import round\n",
        "\n",
        "union_df = union_df.withColumn(\"ROI\", round(col(\"Profit\") / col(\"Budget\"), 2))\n"
      ],
      "metadata": {
        "id": "ZsupFvlE7HKf"
      },
      "execution_count": 52,
      "outputs": []
    },
    {
      "cell_type": "markdown",
      "source": [
        "Show top ROI movies (Budget ≥ 50M)"
      ],
      "metadata": {
        "id": "Lf9vrw7c7Hiy"
      }
    },
    {
      "cell_type": "code",
      "source": [
        "union_df.filter(col(\"Budget\") >= 50000000).orderBy(col(\"ROI\").desc()).select(\"Title\", \"Budget\", \"Profit\", \"ROI\").show()\n"
      ],
      "metadata": {
        "colab": {
          "base_uri": "https://localhost:8080/"
        },
        "id": "9mHZvWCI7KO9",
        "outputId": "9ff22416-800f-4084-f351-ea9e89c28925"
      },
      "execution_count": 53,
      "outputs": [
        {
          "output_type": "stream",
          "name": "stdout",
          "text": [
            "+-----------------+---------+----------+-----+\n",
            "|            Title|   Budget|    Profit|  ROI|\n",
            "+-----------------+---------+----------+-----+\n",
            "|            Joker| 55000000|1019251311|18.53|\n",
            "|          Titanic|200000000|1987463944| 9.94|\n",
            "|           Barbie|145000000|1311000000| 9.04|\n",
            "|      Oppenheimer|100000000| 850000000|  8.5|\n",
            "|Avengers: Endgame|356000000|2441800564| 6.86|\n",
            "|  The Dark Knight|185000000| 819558444| 4.43|\n",
            "|        Inception|160000000| 665532764| 4.16|\n",
            "|     Interstellar|165000000| 512471339| 3.11|\n",
            "+-----------------+---------+----------+-----+\n",
            "\n"
          ]
        }
      ]
    },
    {
      "cell_type": "markdown",
      "source": [
        "Plot Genre-wise ROI using Pandas"
      ],
      "metadata": {
        "id": "zC5vngLY7Krd"
      }
    },
    {
      "cell_type": "code",
      "source": [
        "# Convert to Pandas\n",
        "pdf = union_df.select(\"Genre\", \"ROI\").toPandas()\n",
        "\n",
        "\n",
        "import matplotlib.pyplot as plt\n",
        "\n",
        "roi_plot = pdf.groupby(\"Genre\")[\"ROI\"].mean().sort_values()\n",
        "roi_plot.plot(kind=\"bar\", color=\"orange\", title=\"Average ROI by Genre\")\n",
        "plt.ylabel(\"ROI\")\n",
        "plt.tight_layout()\n",
        "plt.show()"
      ],
      "metadata": {
        "colab": {
          "base_uri": "https://localhost:8080/",
          "height": 487
        },
        "id": "5bgo_Od77LNN",
        "outputId": "218f8e66-33e1-4981-a495-94d76bc9d116"
      },
      "execution_count": 54,
      "outputs": [
        {
          "output_type": "display_data",
          "data": {
            "text/plain": [
              "<Figure size 640x480 with 1 Axes>"
            ],
            "image/png": "[encoded data removed]"
          },
          "metadata": {}
        }
      ]
    },
    {
      "cell_type": "markdown",
      "source": [],
      "metadata": {
        "id": "iMfpc_ow7LgP"
      }
    }
  ]
}