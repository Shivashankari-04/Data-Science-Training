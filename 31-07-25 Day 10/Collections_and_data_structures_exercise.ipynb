{
  "nbformat": 4,
  "nbformat_minor": 0,
  "metadata": {
    "colab": {
      "provenance": []
    },
    "kernelspec": {
      "name": "python3",
      "display_name": "Python 3"
    },
    "language_info": {
      "name": "python"
    }
  },
  "cells": [
    {
      "cell_type": "markdown",
      "source": [
        "Python Data Structures – Intermediate Exercises\n",
        "Notebook"
      ],
      "metadata": {
        "id": "-WVNy4wMKjqA"
      }
    },
    {
      "cell_type": "markdown",
      "source": [
        "Section 1: Nested Lists & Access"
      ],
      "metadata": {
        "id": "M0SIpRAKKoNl"
      }
    },
    {
      "cell_type": "code",
      "execution_count": 1,
      "metadata": {
        "id": "cVqVTZoCKcLm"
      },
      "outputs": [],
      "source": [
        "students = [\n",
        "    [\"Ravi\", [85, 72, 90]],\n",
        "    [\"Sneha\", [95, 88, 92]],\n",
        "    [\"Kabir\", [65, 70, 60]],\n",
        "    [\"Anita\", [75, 80, 78]]\n",
        "]"
      ]
    },
    {
      "cell_type": "markdown",
      "source": [
        "1. Ravi's second mark"
      ],
      "metadata": {
        "id": "auQJwbacLJBu"
      }
    },
    {
      "cell_type": "code",
      "source": [
        "print(\"Ravi's second mark:\", students[0][1][1])\n"
      ],
      "metadata": {
        "colab": {
          "base_uri": "https://localhost:8080/"
        },
        "id": "NwO_vVN9Kzpg",
        "outputId": "61a03b34-c5d8-4bb4-899b-ac1ab2c39956"
      },
      "execution_count": 2,
      "outputs": [
        {
          "output_type": "stream",
          "name": "stdout",
          "text": [
            "Ravi's second mark: 72\n"
          ]
        }
      ]
    },
    {
      "cell_type": "markdown",
      "source": [
        "2. Average mark for each student"
      ],
      "metadata": {
        "id": "74i1P7HiLhI9"
      }
    },
    {
      "cell_type": "code",
      "source": [
        "for student in students:\n",
        "  avg = sum(student[1]) / len(student[1])\n",
        "  print(f\"{student[0]}'s average: {avg}\")\n"
      ],
      "metadata": {
        "colab": {
          "base_uri": "https://localhost:8080/"
        },
        "id": "wqGdzXQcLjQw",
        "outputId": "433be5b4-92a0-42b1-8562-ebc6fe6ef89a"
      },
      "execution_count": 4,
      "outputs": [
        {
          "output_type": "stream",
          "name": "stdout",
          "text": [
            "Ravi's average: 82.33333333333333\n",
            "Sneha's average: 91.66666666666667\n",
            "Kabir's average: 65.0\n",
            "Anita's average: 77.66666666666667\n"
          ]
        }
      ]
    },
    {
      "cell_type": "markdown",
      "source": [
        "3. Students who scored above 80 in all subjects"
      ],
      "metadata": {
        "id": "6yTHu8s-L-NF"
      }
    },
    {
      "cell_type": "code",
      "source": [
        "for name, marks in students:\n",
        "  if all(mark>80 for mark in marks):\n",
        "    print(name, \"scored above 80 in all subjects\")"
      ],
      "metadata": {
        "colab": {
          "base_uri": "https://localhost:8080/"
        },
        "id": "FiakFA-TMAhp",
        "outputId": "1d84afb8-90c1-43d6-d6b4-232b5b27faab"
      },
      "execution_count": 5,
      "outputs": [
        {
          "output_type": "stream",
          "name": "stdout",
          "text": [
            "Sneha scored above 80 in all subjects\n"
          ]
        }
      ]
    },
    {
      "cell_type": "markdown",
      "source": [
        "4. New list of [name, average]"
      ],
      "metadata": {
        "id": "nl_Qtm5NMPlk"
      }
    },
    {
      "cell_type": "code",
      "source": [
        "averages=[[name, sum(marks)/len(marks)] for name , marks in students]\n",
        "print(\"List of name and average:\", averages)"
      ],
      "metadata": {
        "colab": {
          "base_uri": "https://localhost:8080/"
        },
        "id": "MrTA9WO2MR6V",
        "outputId": "9c80fd12-29a4-4a99-d990-40d4b200b56b"
      },
      "execution_count": 6,
      "outputs": [
        {
          "output_type": "stream",
          "name": "stdout",
          "text": [
            "List of name and average: [['Ravi', 82.33333333333333], ['Sneha', 91.66666666666667], ['Kabir', 65.0], ['Anita', 77.66666666666667]]\n"
          ]
        }
      ]
    },
    {
      "cell_type": "markdown",
      "source": [
        "# Section 2: Dictionary of Lists"
      ],
      "metadata": {
        "id": "vd0zv3OvMfpe"
      }
    },
    {
      "cell_type": "code",
      "source": [
        "data = {\n",
        "    \"products\": [\"Mobile\", \"Laptop\", \"Tablet\", \"Camera\"],\n",
        "    \"prices\": [12000, 55000, 18000, 25000],\n",
        "    \"ratings\": [4.5, 4.7, 4.0, 4.2]\n",
        "}"
      ],
      "metadata": {
        "id": "IVPuoUz3MlW9"
      },
      "execution_count": 7,
      "outputs": []
    },
    {
      "cell_type": "markdown",
      "source": [
        "1. List of product dictionaries"
      ],
      "metadata": {
        "id": "ZFQUfqXWMmgZ"
      }
    },
    {
      "cell_type": "code",
      "source": [
        "products = []\n",
        "for name, price, rating in zip(data[\"products\"], data[\"prices\"], data[\"ratings\"]):\n",
        "  products.append({\"name\": name, \"price\": price, \"rating\": rating})\n",
        "print(\"List of product dictionaries:\", products)"
      ],
      "metadata": {
        "colab": {
          "base_uri": "https://localhost:8080/"
        },
        "id": "fXpXl9heMnD2",
        "outputId": "ca8154e8-1026-4d62-c1b9-b7a380e907b8"
      },
      "execution_count": 9,
      "outputs": [
        {
          "output_type": "stream",
          "name": "stdout",
          "text": [
            "List of product dictionaries: [{'name': 'Mobile', 'price': 12000, 'rating': 4.5}, {'name': 'Laptop', 'price': 55000, 'rating': 4.7}, {'name': 'Tablet', 'price': 18000, 'rating': 4.0}, {'name': 'Camera', 'price': 25000, 'rating': 4.2}]\n"
          ]
        }
      ]
    },
    {
      "cell_type": "markdown",
      "source": [
        "2. Filter price > 20000 and rating ≥ 4.5"
      ],
      "metadata": {
        "id": "YfsElDxuNpBP"
      }
    },
    {
      "cell_type": "code",
      "source": [
        "filtered = [p for p in products if p[\"price\"] > 20000 and p[\"rating\"] >= 4.5]\n",
        "print(\"Filtered products:\", filtered)"
      ],
      "metadata": {
        "colab": {
          "base_uri": "https://localhost:8080/"
        },
        "id": "FbuLFMRaNtsB",
        "outputId": "2e0e18ae-0070-4c78-b230-a54df5d33ef7"
      },
      "execution_count": 11,
      "outputs": [
        {
          "output_type": "stream",
          "name": "stdout",
          "text": [
            "Filtered products: [{'name': 'Laptop', 'price': 55000, 'rating': 4.7}]\n"
          ]
        }
      ]
    },
    {
      "cell_type": "markdown",
      "source": [
        "3. Sort by rating (descending)"
      ],
      "metadata": {
        "id": "1SlQFaGDN14W"
      }
    },
    {
      "cell_type": "code",
      "source": [
        "sorted_products = sorted(products, key=lambda x: x[\"rating\"], reverse=True)\n",
        "print(\"Sorted by rating:\", sorted_products)"
      ],
      "metadata": {
        "colab": {
          "base_uri": "https://localhost:8080/"
        },
        "id": "7vJ7szoIN4EE",
        "outputId": "07339cec-99c4-4724-a367-8e4c1510106b"
      },
      "execution_count": 12,
      "outputs": [
        {
          "output_type": "stream",
          "name": "stdout",
          "text": [
            "Sorted by rating: [{'name': 'Laptop', 'price': 55000, 'rating': 4.7}, {'name': 'Mobile', 'price': 12000, 'rating': 4.5}, {'name': 'Camera', 'price': 25000, 'rating': 4.2}, {'name': 'Tablet', 'price': 18000, 'rating': 4.0}]\n"
          ]
        }
      ]
    },
    {
      "cell_type": "markdown",
      "source": [
        "# Section 3: Frequency Dictionary + Set Operations"
      ],
      "metadata": {
        "id": "ykJbS69lN7M3"
      }
    },
    {
      "cell_type": "code",
      "source": [
        "text = \"ai is the future and ai will change everything in the ai world\""
      ],
      "metadata": {
        "id": "qeUp_7qiOAfb"
      },
      "execution_count": 13,
      "outputs": []
    },
    {
      "cell_type": "markdown",
      "source": [
        "1. Count frequency of each word using a dictionary\n"
      ],
      "metadata": {
        "id": "t3lcXiDYODju"
      }
    },
    {
      "cell_type": "code",
      "source": [
        "words = text.split()\n",
        "freq = {}\n",
        "for word in words:\n",
        "    freq[word] = freq.get(word, 0) + 1\n",
        "print(\"Word frequencies:\", freq)"
      ],
      "metadata": {
        "colab": {
          "base_uri": "https://localhost:8080/"
        },
        "id": "icXKnPIjOF7h",
        "outputId": "9564535b-e0b5-4267-afc9-a371415237ea"
      },
      "execution_count": 14,
      "outputs": [
        {
          "output_type": "stream",
          "name": "stdout",
          "text": [
            "Word frequencies: {'ai': 3, 'is': 1, 'the': 2, 'future': 1, 'and': 1, 'will': 1, 'change': 1, 'everything': 1, 'in': 1, 'world': 1}\n"
          ]
        }
      ]
    },
    {
      "cell_type": "markdown",
      "source": [
        "2. Print only the words that appear more than once\n",
        "\n"
      ],
      "metadata": {
        "id": "YXVEUvb8OK2X"
      }
    },
    {
      "cell_type": "code",
      "source": [
        "repeated = [word for word, count in freq.items() if count > 1]\n",
        "print(\"Words appearing more than once:\", repeated)"
      ],
      "metadata": {
        "colab": {
          "base_uri": "https://localhost:8080/"
        },
        "id": "pVWDNPxNONS2",
        "outputId": "d0af90be-614c-40c3-e6f0-c10e3ee197bc"
      },
      "execution_count": 15,
      "outputs": [
        {
          "output_type": "stream",
          "name": "stdout",
          "text": [
            "Words appearing more than once: ['ai', 'the']\n"
          ]
        }
      ]
    },
    {
      "cell_type": "markdown",
      "source": [
        "3. Convert words into a set and print sorted unique words"
      ],
      "metadata": {
        "id": "ltO9_xrCONmt"
      }
    },
    {
      "cell_type": "code",
      "source": [
        "unique_words = sorted(set(words))\n",
        "print(\"Sorted unique words:\", unique_words)"
      ],
      "metadata": {
        "colab": {
          "base_uri": "https://localhost:8080/"
        },
        "id": "T7SfJXo0OONW",
        "outputId": "7637d99d-ad10-4a2e-b4ca-d872a155193d"
      },
      "execution_count": 16,
      "outputs": [
        {
          "output_type": "stream",
          "name": "stdout",
          "text": [
            "Sorted unique words: ['ai', 'and', 'change', 'everything', 'future', 'in', 'is', 'the', 'will', 'world']\n"
          ]
        }
      ]
    },
    {
      "cell_type": "markdown",
      "source": [
        "4. Common words between sets"
      ],
      "metadata": {
        "id": "hZqZvmOzOOn0"
      }
    },
    {
      "cell_type": "code",
      "source": [
        "set1 = set(words)\n",
        "set2 = {\"ai\", \"ml\", \"data\", \"future\"}\n",
        "common = set1 & set2\n",
        "print(\"Common words:\", common)"
      ],
      "metadata": {
        "colab": {
          "base_uri": "https://localhost:8080/"
        },
        "id": "vJOhxlWHOQmE",
        "outputId": "8980b10a-b503-4b6e-df95-b2b4821ddee1"
      },
      "execution_count": 17,
      "outputs": [
        {
          "output_type": "stream",
          "name": "stdout",
          "text": [
            "Common words: {'ai', 'future'}\n"
          ]
        }
      ]
    },
    {
      "cell_type": "markdown",
      "source": [
        "# Section 4: Dictionary Comprehension + Conditional Logic"
      ],
      "metadata": {
        "id": "2UikYc86OQ_j"
      }
    },
    {
      "cell_type": "code",
      "source": [
        "sales = {\n",
        "    'Amit': 70000,\n",
        "    'Sneha': 45000,\n",
        "    'Ravi': 30000,\n",
        "    'Anita': 90000,\n",
        "    'Kabir': 20000\n",
        "}"
      ],
      "metadata": {
        "id": "80vJ1JPBOTua"
      },
      "execution_count": 18,
      "outputs": []
    },
    {
      "cell_type": "markdown",
      "source": [
        "1. Add 10% bonus"
      ],
      "metadata": {
        "id": "TCUCwgqzOUHR"
      }
    },
    {
      "cell_type": "code",
      "source": [
        "bonus_sales = {k: v * 1.10 for k, v in sales.items()}\n",
        "print(\"Sales with bonus:\", bonus_sales)"
      ],
      "metadata": {
        "colab": {
          "base_uri": "https://localhost:8080/"
        },
        "id": "aBq7GodDOW7W",
        "outputId": "7a3b40e6-29e9-41e1-ca7d-6d8bb1fdcfdc"
      },
      "execution_count": 19,
      "outputs": [
        {
          "output_type": "stream",
          "name": "stdout",
          "text": [
            "Sales with bonus: {'Amit': 77000.0, 'Sneha': 49500.00000000001, 'Ravi': 33000.0, 'Anita': 99000.00000000001, 'Kabir': 22000.0}\n"
          ]
        }
      ]
    },
    {
      "cell_type": "markdown",
      "source": [
        "2. Filter sales > 50,000"
      ],
      "metadata": {
        "id": "G6XnigX5OXYA"
      }
    },
    {
      "cell_type": "code",
      "source": [
        "high_sales = {k: v for k, v in sales.items() if v > 50000}\n",
        "print(\"Sales > 50000:\", high_sales)"
      ],
      "metadata": {
        "colab": {
          "base_uri": "https://localhost:8080/"
        },
        "id": "Q2OWGsdqOZmX",
        "outputId": "225afcb5-7520-439b-ad93-2bbdae7597d0"
      },
      "execution_count": 20,
      "outputs": [
        {
          "output_type": "stream",
          "name": "stdout",
          "text": [
            "Sales > 50000: {'Amit': 70000, 'Anita': 90000}\n"
          ]
        }
      ]
    },
    {
      "cell_type": "markdown",
      "source": [
        "3. Label each person as 'High' , 'Medium' , or 'Low'"
      ],
      "metadata": {
        "id": "RUQTYZLcOZ6D"
      }
    },
    {
      "cell_type": "code",
      "source": [
        "labeled = {}\n",
        "for person, sale in sales.items():\n",
        "    if sale >= 75000:\n",
        "        labeled[person] = \"High\"\n",
        "    elif sale >= 40000:\n",
        "        labeled[person] = \"Medium\"\n",
        "    else:\n",
        "        labeled[person] = \"Low\"\n",
        "print(\"Labeled sales levels:\", labeled)"
      ],
      "metadata": {
        "colab": {
          "base_uri": "https://localhost:8080/"
        },
        "id": "zfGHvfQ7Pm7H",
        "outputId": "2bab078d-37a2-4dd2-b7b4-5556e093f60d"
      },
      "execution_count": 21,
      "outputs": [
        {
          "output_type": "stream",
          "name": "stdout",
          "text": [
            "Labeled sales levels: {'Amit': 'Medium', 'Sneha': 'Medium', 'Ravi': 'Low', 'Anita': 'High', 'Kabir': 'Low'}\n"
          ]
        }
      ]
    },
    {
      "cell_type": "markdown",
      "source": [
        "# Section 5: Tuples, Sets, and Zipping"
      ],
      "metadata": {
        "id": "cDfU09TEObmx"
      }
    },
    {
      "cell_type": "code",
      "source": [
        "names = (\"Ravi\", \"Sneha\", \"Kabir\")\n",
        "marks = (88, 92, 76)\n"
      ],
      "metadata": {
        "id": "1SZkmqioOfE7"
      },
      "execution_count": 22,
      "outputs": []
    },
    {
      "cell_type": "markdown",
      "source": [
        "1. Convert both tuples to a dictionary using zip()"
      ],
      "metadata": {
        "id": "eESBSk4aOfaz"
      }
    },
    {
      "cell_type": "code",
      "source": [
        "student_marks = dict(zip(names, marks))\n",
        "print(\"Zipped dictionary:\", student_marks)\n"
      ],
      "metadata": {
        "colab": {
          "base_uri": "https://localhost:8080/"
        },
        "id": "Bqmvji4bOhn_",
        "outputId": "c4e8f4ab-31d6-4a37-e0b4-3800443f19ca"
      },
      "execution_count": 23,
      "outputs": [
        {
          "output_type": "stream",
          "name": "stdout",
          "text": [
            "Zipped dictionary: {'Ravi': 88, 'Sneha': 92, 'Kabir': 76}\n"
          ]
        }
      ]
    },
    {
      "cell_type": "markdown",
      "source": [
        "2.  Find Min and Max marks"
      ],
      "metadata": {
        "id": "myuffiKtOh6m"
      }
    },
    {
      "cell_type": "code",
      "source": [
        "print(\"Min mark:\", min(marks))\n",
        "print(\"Max mark:\", max(marks))"
      ],
      "metadata": {
        "colab": {
          "base_uri": "https://localhost:8080/"
        },
        "id": "Nhox2GYBOjrC",
        "outputId": "ab859ac2-4ee5-451c-c1fe-a6fc8ca11c37"
      },
      "execution_count": 24,
      "outputs": [
        {
          "output_type": "stream",
          "name": "stdout",
          "text": [
            "Min mark: 76\n",
            "Max mark: 92\n"
          ]
        }
      ]
    },
    {
      "cell_type": "markdown",
      "source": [
        "3. Create a set from marks and add a new value"
      ],
      "metadata": {
        "id": "sG4JWZ5DOj_J"
      }
    },
    {
      "cell_type": "code",
      "source": [
        "marks_set = set(marks)\n",
        "marks_set.add(85)\n",
        "print(\"Updated marks set:\", marks_set)"
      ],
      "metadata": {
        "colab": {
          "base_uri": "https://localhost:8080/"
        },
        "id": "wke5QJMYOl9L",
        "outputId": "3048de37-7efb-4690-8b0c-40b06c76c5ad"
      },
      "execution_count": 25,
      "outputs": [
        {
          "output_type": "stream",
          "name": "stdout",
          "text": [
            "Updated marks set: {88, 92, 85, 76}\n"
          ]
        }
      ]
    },
    {
      "cell_type": "markdown",
      "source": [
        "4. Merge two sets and show only unique elements"
      ],
      "metadata": {
        "id": "ouo1wMpyOmSu"
      }
    },
    {
      "cell_type": "code",
      "source": [
        "other_set = {90, 92, 80}\n",
        "merged = marks_set.union(other_set)\n",
        "print(\"Merged unique set:\", merged)"
      ],
      "metadata": {
        "colab": {
          "base_uri": "https://localhost:8080/"
        },
        "id": "ZeWSiXjeOoCS",
        "outputId": "b86aa73c-8af8-46da-cebd-289c86ecd58c"
      },
      "execution_count": 26,
      "outputs": [
        {
          "output_type": "stream",
          "name": "stdout",
          "text": [
            "Merged unique set: {80, 85, 88, 90, 92, 76}\n"
          ]
        }
      ]
    },
    {
      "cell_type": "markdown",
      "source": [
        "# Bonus Challenge"
      ],
      "metadata": {
        "id": "-a7yMnIfOsha"
      }
    },
    {
      "cell_type": "code",
      "source": [
        "employees = {\n",
        "    \"E101\": {\"name\": \"Ravi\", \"dept\": \"Sales\", \"salary\": 50000},\n",
        "    \"E102\": {\"name\": \"Sneha\", \"dept\": \"Engineering\", \"salary\": 80000},\n",
        "    \"E103\": {\"name\": \"Kabir\", \"dept\": \"HR\", \"salary\": 45000}\n",
        "}"
      ],
      "metadata": {
        "id": "2E8SWmqNOvbu"
      },
      "execution_count": 27,
      "outputs": []
    },
    {
      "cell_type": "markdown",
      "source": [
        "1. Add new employee"
      ],
      "metadata": {
        "id": "CtcMzcwHOvuM"
      }
    },
    {
      "cell_type": "code",
      "source": [
        "employees[\"E104\"] = {\"name\": \"Anita\", \"dept\": \"Engineering\", \"salary\": 95000}"
      ],
      "metadata": {
        "id": "vAUiEfX8Oywz"
      },
      "execution_count": 28,
      "outputs": []
    },
    {
      "cell_type": "markdown",
      "source": [
        "2. Increase salary for Engineering by 10%"
      ],
      "metadata": {
        "id": "yOgyTTJVOzCz"
      }
    },
    {
      "cell_type": "code",
      "source": [
        "for emp in employees.values():\n",
        "    if emp[\"dept\"] == \"Engineering\":\n",
        "        emp[\"salary\"] *= 1.10"
      ],
      "metadata": {
        "id": "E71RaaCmO0-z"
      },
      "execution_count": 29,
      "outputs": []
    },
    {
      "cell_type": "markdown",
      "source": [
        "3. Dept with highest average salary"
      ],
      "metadata": {
        "id": "GfkAsznfO1hg"
      }
    },
    {
      "cell_type": "code",
      "source": [
        "from collections import defaultdict\n",
        "\n",
        "dept_salaries = defaultdict(list)\n",
        "for emp in employees.values():\n",
        "    dept_salaries[emp[\"dept\"]].append(emp[\"salary\"])\n",
        "\n",
        "avg_salaries = {dept: sum(sals)/len(sals) for dept, sals in dept_salaries.items()}\n",
        "highest = max(avg_salaries, key=avg_salaries.get)\n",
        "print(\"Department with highest avg salary:\", highest)"
      ],
      "metadata": {
        "colab": {
          "base_uri": "https://localhost:8080/"
        },
        "id": "Tcec0hh7O37a",
        "outputId": "2d68aa9e-5f32-4fab-ac26-fa1a7e2bbadc"
      },
      "execution_count": 30,
      "outputs": [
        {
          "output_type": "stream",
          "name": "stdout",
          "text": [
            "Department with highest avg salary: Engineering\n"
          ]
        }
      ]
    }
  ]
}