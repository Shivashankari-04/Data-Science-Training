{
  "nbformat": 4,
  "nbformat_minor": 0,
  "metadata": {
    "colab": {
      "provenance": []
    },
    "kernelspec": {
      "name": "python3",
      "display_name": "Python 3"
    },
    "language_info": {
      "name": "python"
    }
  },
  "cells": [
    {
      "cell_type": "code",
      "execution_count": 1,
      "metadata": {
        "colab": {
          "base_uri": "https://localhost:8080/"
        },
        "id": "LLc7D8X3pYNd",
        "outputId": "569077ea-f565-4864-ac4d-355351948ae6"
      },
      "outputs": [
        {
          "output_type": "stream",
          "name": "stdout",
          "text": [
            "Collecting pyspark==3.5.1\n",
            "  Downloading pyspark-3.5.1.tar.gz (317.0 MB)\n",
            "\u001b[2K     \u001b[90m━━━━━━━━━━━━━━━━━━━━━━━━━━━━━━━━━━━━━━━\u001b[0m \u001b[32m317.0/317.0 MB\u001b[0m \u001b[31m4.6 MB/s\u001b[0m eta \u001b[36m0:00:00\u001b[0m\n",
            "\u001b[?25h  Preparing metadata (setup.py) ... \u001b[?25l\u001b[?25hdone\n",
            "Collecting delta-spark==3.1.0\n",
            "  Using cached delta_spark-3.1.0-py3-none-any.whl.metadata (1.9 kB)\n",
            "Requirement already satisfied: py4j==0.10.9.7 in /usr/local/lib/python3.11/dist-packages (from pyspark==3.5.1) (0.10.9.7)\n",
            "Requirement already satisfied: importlib-metadata>=1.0.0 in /usr/local/lib/python3.11/dist-packages (from delta-spark==3.1.0) (8.7.0)\n",
            "Requirement already satisfied: zipp>=3.20 in /usr/local/lib/python3.11/dist-packages (from importlib-metadata>=1.0.0->delta-spark==3.1.0) (3.23.0)\n",
            "Using cached delta_spark-3.1.0-py3-none-any.whl (21 kB)\n",
            "Building wheels for collected packages: pyspark\n",
            "  Building wheel for pyspark (setup.py) ... \u001b[?25l\u001b[?25hdone\n",
            "  Created wheel for pyspark: filename=pyspark-3.5.1-py2.py3-none-any.whl size=317488493 sha256=927df0dccad06bcbe5beab064995b9e0f7828f1702bc81ad677f8674c8baf4c0\n",
            "  Stored in directory: /root/.cache/pip/wheels/95/13/41/f7f135ee114175605fb4f0a89e7389f3742aa6c1e1a5bcb657\n",
            "Successfully built pyspark\n",
            "Installing collected packages: pyspark, delta-spark\n",
            "  Attempting uninstall: pyspark\n",
            "    Found existing installation: pyspark 3.5.0\n",
            "    Uninstalling pyspark-3.5.0:\n",
            "      Successfully uninstalled pyspark-3.5.0\n",
            "  Attempting uninstall: delta-spark\n",
            "    Found existing installation: delta-spark 3.2.0\n",
            "    Uninstalling delta-spark-3.2.0:\n",
            "      Successfully uninstalled delta-spark-3.2.0\n",
            "Successfully installed delta-spark-3.1.0 pyspark-3.5.1\n"
          ]
        }
      ],
      "source": [
        "# Install dependencies (only needed in Google Colab)\n",
        "# In Azure Databricks, skip this cell\n",
        "!pip install pyspark==3.5.1 delta-spark==3.1.0\n",
        "from pyspark.sql import SparkSession\n",
        "from delta import configure_spark_with_delta_pip"
      ]
    },
    {
      "cell_type": "code",
      "source": [
        "# using DELTA in colab\n",
        "!pip install delta-spark==3.2.0 -q\n",
        "import pyspark\n",
        "from delta import *\n",
        "from pyspark.sql.functions import *\n",
        "\n",
        "# Create a SparkSession with Delta Lake extensions\n",
        "# The '.config(...)' lines are crucial for enabling Delta Lake's features\n",
        "builder = pyspark.sql.SparkSession.builder.appName(\"DeltaRideHailing\") \\\n",
        "    .config(\"spark.sql.extensions\", \"io.delta.sql.DeltaSparkSessionExtension\") \\\n",
        "    .config(\"spark.sql.catalog.spark_catalog\", \"org.apache.spark.sql.delta.catalog.DeltaCatalog\")\n",
        "\n",
        "# Get or create the SparkSession\n",
        "spark = configure_spark_with_delta_pip(builder).getOrCreate()\n",
        "\n",
        "print(\"Spark and Delta Lake are ready!\")\n"
      ],
      "metadata": {
        "colab": {
          "base_uri": "https://localhost:8080/"
        },
        "id": "rKRO3sDmp4YL",
        "outputId": "699bf33c-bbb7-4f8e-d394-2c97549fc5db"
      },
      "execution_count": 2,
      "outputs": [
        {
          "output_type": "stream",
          "name": "stdout",
          "text": [
            "Spark and Delta Lake are ready!\n"
          ]
        }
      ]
    },
    {
      "cell_type": "markdown",
      "source": [
        "# Dataset: Ride-Hailing Trips + Drivers"
      ],
      "metadata": {
        "id": "R1bNSakgqL9D"
      }
    },
    {
      "cell_type": "code",
      "source": [
        "from pyspark.sql import types as T\n",
        "from datetime import datetime\n",
        "\n",
        "# Trip schema\n",
        "trip_schema = T.StructType([\n",
        "    T.StructField(\"trip_id\",      T.IntegerType()),\n",
        "    T.StructField(\"rider_id\",     T.StringType()),\n",
        "    T.StructField(\"driver_id\",    T.StringType()),\n",
        "    T.StructField(\"city\",         T.StringType()),\n",
        "    T.StructField(\"distance_km\",  T.DoubleType()),\n",
        "    T.StructField(\"fare\",         T.DoubleType()),\n",
        "    T.StructField(\"tip\",          T.DoubleType()),\n",
        "    T.StructField(\"ts\",           T.TimestampType())\n",
        "])\n",
        "\n",
        "# Driver schema\n",
        "driver_schema = T.StructType([\n",
        "    T.StructField(\"driver_id\",   T.StringType()),\n",
        "    T.StructField(\"driver_name\", T.StringType()),\n",
        "    T.StructField(\"rating\",      T.DoubleType()),\n",
        "    T.StructField(\"vehicle\",     T.StringType())\n",
        "])\n",
        "\n",
        "# Trip data (using Python datetime for timestamps)\n",
        "trips_rows = [\n",
        "    (1001,\"R001\",\"D010\",\"Bengaluru\", 12.4, 320.0, 20.0, datetime(2025, 8, 8, 8, 5, 0)),\n",
        "    (1002,\"R002\",\"D011\",\"Hyderabad\",  6.2, 150.0, 10.0, datetime(2025, 8, 8, 8, 15, 0)),\n",
        "    (1003,\"R003\",\"D012\",\"Pune\",       3.5,  90.0,  0.0, datetime(2025, 8, 8, 8, 20, 0)),\n",
        "    (1004,\"R001\",\"D010\",\"Bengaluru\", 18.9, 480.0, 25.0, datetime(2025, 8, 8, 8, 45, 0)),\n",
        "    (1005,\"R004\",\"D013\",\"Chennai\",   10.0, 260.0, 15.0, datetime(2025, 8, 8, 9, 5, 0)),\n",
        "    (1006,\"R005\",\"D012\",\"Pune\",       2.2,  70.0,  0.0, datetime(2025, 8, 8, 9, 10, 0)),\n",
        "]\n",
        "\n",
        "# Driver data\n",
        "drivers_rows = [\n",
        "    (\"D010\",\"Anil\",   4.8,\"WagonR\"),\n",
        "    (\"D011\",\"Sana\",   4.6,\"i20\"),\n",
        "    (\"D012\",\"Rakesh\", 4.4,\"Swift\"),\n",
        "    (\"D013\",\"Meera\",  4.9,\"Ciaz\")\n",
        "]\n",
        "\n",
        "# Create DataFrames\n",
        "trips_df   = spark.createDataFrame(trips_rows, schema=trip_schema)\n",
        "drivers_df = spark.createDataFrame(drivers_rows, schema=driver_schema)\n",
        "\n",
        "# Save to Delta paths\n",
        "BASE = \"/content/delta/ride_hailing\"\n",
        "TRIPS_PATH   = f\"{BASE}/trips\"\n",
        "DRIVERS_PATH = f\"{BASE}/drivers\"\n",
        "\n",
        "trips_df.write.format(\"delta\").mode(\"overwrite\").save(TRIPS_PATH)\n",
        "drivers_df.write.format(\"delta\").mode(\"overwrite\").save(DRIVERS_PATH)\n",
        "\n",
        "print(\"Data seeded successfully.\")\n",
        "print(\"Trips path  ->\", TRIPS_PATH)\n",
        "print(\"Drivers path->\", DRIVERS_PATH)\n"
      ],
      "metadata": {
        "colab": {
          "base_uri": "https://localhost:8080/"
        },
        "id": "EfMPQRaOriHX",
        "outputId": "2b738d93-66e4-4606-bb5a-37a3492fff89"
      },
      "execution_count": 3,
      "outputs": [
        {
          "output_type": "stream",
          "name": "stdout",
          "text": [
            "Data seeded successfully.\n",
            "Trips path  -> /content/delta/ride_hailing/trips\n",
            "Drivers path-> /content/delta/ride_hailing/drivers\n"
          ]
        }
      ]
    },
    {
      "cell_type": "markdown",
      "source": [
        "# Exercises"
      ],
      "metadata": {
        "id": "EClbnKwkFNbH"
      }
    },
    {
      "cell_type": "markdown",
      "source": [
        "\n",
        "# 1) Managed vs Unmanaged Tables"
      ],
      "metadata": {
        "id": "W-JGQNvesbXp"
      }
    },
    {
      "cell_type": "markdown",
      "source": [
        " Create a managed Delta table trips_managed by AS SELECT from the Delta path.\n",
        ""
      ],
      "metadata": {
        "id": "PM5tEbsKsgpT"
      }
    },
    {
      "cell_type": "code",
      "source": [
        "spark.sql(f\"\"\"\n",
        "    CREATE TABLE trips_managed\n",
        "    USING DELTA\n",
        "    AS SELECT * FROM delta.`{TRIPS_PATH}`\n",
        "\"\"\")\n",
        "print(\"Managed table 'trips_managed' created successfully.\")\n"
      ],
      "metadata": {
        "colab": {
          "base_uri": "https://localhost:8080/"
        },
        "id": "ux1bmGKqslv1",
        "outputId": "9e53200b-a4f1-4997-8c48-478c3347a5a6"
      },
      "execution_count": 4,
      "outputs": [
        {
          "output_type": "stream",
          "name": "stdout",
          "text": [
            "Managed table 'trips_managed' created successfully.\n"
          ]
        }
      ]
    },
    {
      "cell_type": "markdown",
      "source": [
        "Create an external (unmanaged) table drivers_ext that points to DRIVERS_PATH."
      ],
      "metadata": {
        "id": "2G5jzBe-smD7"
      }
    },
    {
      "cell_type": "code",
      "source": [
        "spark.sql(f\"\"\"\n",
        "    CREATE TABLE drivers_unmanaged\n",
        "    USING DELTA\n",
        "    LOCATION '{DRIVERS_PATH}'\n",
        "\"\"\")\n",
        "print(\"Unmanaged table 'drivers_unmanaged' created successfully.\")"
      ],
      "metadata": {
        "colab": {
          "base_uri": "https://localhost:8080/"
        },
        "id": "k_LJxpQHsofG",
        "outputId": "1bccd501-76e9-4787-9b8c-4481259828d2"
      },
      "execution_count": 5,
      "outputs": [
        {
          "output_type": "stream",
          "name": "stdout",
          "text": [
            "Unmanaged table 'drivers_unmanaged' created successfully.\n"
          ]
        }
      ]
    },
    {
      "cell_type": "markdown",
      "source": [
        "Verify locations with DESCRIBE DETAIL and explain the difference in your own\n",
        " words."
      ],
      "metadata": {
        "id": "rgtcM4j0soyh"
      }
    },
    {
      "cell_type": "code",
      "source": [
        "print(\"Managed table details:\")\n",
        "spark.sql(\"DESCRIBE DETAIL trips_managed\").show(truncate=False)\n",
        "\n",
        "print(\"Unmanaged table details:\")\n",
        "spark.sql(\"DESCRIBE DETAIL drivers_unmanaged\").show(truncate=False)"
      ],
      "metadata": {
        "colab": {
          "base_uri": "https://localhost:8080/"
        },
        "id": "RQSDDc1gspjR",
        "outputId": "b86eb179-c4dd-47ac-f94b-90e5d22a313d"
      },
      "execution_count": 6,
      "outputs": [
        {
          "output_type": "stream",
          "name": "stdout",
          "text": [
            "Managed table details:\n",
            "+------+------------------------------------+-----------------------------------+-----------+-------------------------------------------+-----------------------+-----------------------+----------------+-----------------+--------+-----------+----------+----------------+----------------+------------------------+\n",
            "|format|id                                  |name                               |description|location                                   |createdAt              |lastModified           |partitionColumns|clusteringColumns|numFiles|sizeInBytes|properties|minReaderVersion|minWriterVersion|tableFeatures           |\n",
            "+------+------------------------------------+-----------------------------------+-----------+-------------------------------------------+-----------------------+-----------------------+----------------+-----------------+--------+-----------+----------+----------------+----------------+------------------------+\n",
            "|delta |5e1765da-8fba-4eb5-86f2-03fe5f9f2f57|spark_catalog.default.trips_managed|NULL       |file:/content/spark-warehouse/trips_managed|2025-08-14 08:30:12.209|2025-08-14 08:30:27.424|[]              |[]               |2       |4536       |{}        |1               |2               |[appendOnly, invariants]|\n",
            "+------+------------------------------------+-----------------------------------+-----------+-------------------------------------------+-----------------------+-----------------------+----------------+-----------------+--------+-----------+----------+----------------+----------------+------------------------+\n",
            "\n",
            "Unmanaged table details:\n",
            "+------+------------------------------------+---------------------------------------+-----------+----------------------------------------+-----------------------+-----------------------+----------------+-----------------+--------+-----------+----------+----------------+----------------+------------------------+\n",
            "|format|id                                  |name                                   |description|location                                |createdAt              |lastModified           |partitionColumns|clusteringColumns|numFiles|sizeInBytes|properties|minReaderVersion|minWriterVersion|tableFeatures           |\n",
            "+------+------------------------------------+---------------------------------------+-----------+----------------------------------------+-----------------------+-----------------------+----------------+-----------------+--------+-----------+----------+----------------+----------------+------------------------+\n",
            "|delta |722cfe54-ed3c-4d26-ada6-7f7eeb0bc97f|spark_catalog.default.drivers_unmanaged|NULL       |file:/content/delta/ride_hailing/drivers|2025-08-14 08:27:04.738|2025-08-14 08:27:06.407|[]              |[]               |2       |2481       |{}        |1               |2               |[appendOnly, invariants]|\n",
            "+------+------------------------------------+---------------------------------------+-----------+----------------------------------------+-----------------------+-----------------------+----------------+-----------------+--------+-----------+----------+----------------+----------------+------------------------+\n",
            "\n"
          ]
        }
      ]
    },
    {
      "cell_type": "markdown",
      "source": [
        "# 2) Read & Explore"
      ],
      "metadata": {
        "id": "cqf5BtXXsqLc"
      }
    },
    {
      "cell_type": "markdown",
      "source": [
        " Read both tables, print schemas, and show 10 rows.\n"
      ],
      "metadata": {
        "id": "MXqblRoQssXi"
      }
    },
    {
      "cell_type": "code",
      "source": [
        "# Read the managed and unmanaged tables\n",
        "trips_df_q2 = spark.sql(\"SELECT * FROM trips_managed\")\n",
        "drivers_df_q2 = spark.sql(\"SELECT * FROM drivers_unmanaged\")\n",
        "\n",
        "# Show schemas and first 10 rows\n",
        "print(\"Trips table schema:\")\n",
        "trips_df_q2.printSchema()\n",
        "print(\"First 10 trips:\")\n",
        "trips_df_q2.show(10)\n",
        "\n",
        "print(\"Drivers table schema:\")\n",
        "drivers_df_q2.printSchema()\n",
        "print(\"First 10 drivers:\")\n",
        "drivers_df_q2.show(10)\n"
      ],
      "metadata": {
        "colab": {
          "base_uri": "https://localhost:8080/"
        },
        "id": "Oq-JJN9YswxV",
        "outputId": "29aaabd5-de47-4580-d782-8e781382f52b"
      },
      "execution_count": 7,
      "outputs": [
        {
          "output_type": "stream",
          "name": "stdout",
          "text": [
            "Trips table schema:\n",
            "root\n",
            " |-- trip_id: integer (nullable = true)\n",
            " |-- rider_id: string (nullable = true)\n",
            " |-- driver_id: string (nullable = true)\n",
            " |-- city: string (nullable = true)\n",
            " |-- distance_km: double (nullable = true)\n",
            " |-- fare: double (nullable = true)\n",
            " |-- tip: double (nullable = true)\n",
            " |-- ts: timestamp (nullable = true)\n",
            "\n",
            "First 10 trips:\n",
            "+-------+--------+---------+---------+-----------+-----+----+-------------------+\n",
            "|trip_id|rider_id|driver_id|     city|distance_km| fare| tip|                 ts|\n",
            "+-------+--------+---------+---------+-----------+-----+----+-------------------+\n",
            "|   1001|    R001|     D010|Bengaluru|       12.4|320.0|20.0|2025-08-08 08:05:00|\n",
            "|   1002|    R002|     D011|Hyderabad|        6.2|150.0|10.0|2025-08-08 08:15:00|\n",
            "|   1003|    R003|     D012|     Pune|        3.5| 90.0| 0.0|2025-08-08 08:20:00|\n",
            "|   1004|    R001|     D010|Bengaluru|       18.9|480.0|25.0|2025-08-08 08:45:00|\n",
            "|   1005|    R004|     D013|  Chennai|       10.0|260.0|15.0|2025-08-08 09:05:00|\n",
            "|   1006|    R005|     D012|     Pune|        2.2| 70.0| 0.0|2025-08-08 09:10:00|\n",
            "+-------+--------+---------+---------+-----------+-----+----+-------------------+\n",
            "\n",
            "Drivers table schema:\n",
            "root\n",
            " |-- driver_id: string (nullable = true)\n",
            " |-- driver_name: string (nullable = true)\n",
            " |-- rating: double (nullable = true)\n",
            " |-- vehicle: string (nullable = true)\n",
            "\n",
            "First 10 drivers:\n",
            "+---------+-----------+------+-------+\n",
            "|driver_id|driver_name|rating|vehicle|\n",
            "+---------+-----------+------+-------+\n",
            "|     D012|     Rakesh|   4.4|  Swift|\n",
            "|     D013|      Meera|   4.9|   Ciaz|\n",
            "|     D010|       Anil|   4.8| WagonR|\n",
            "|     D011|       Sana|   4.6|    i20|\n",
            "+---------+-----------+------+-------+\n",
            "\n"
          ]
        }
      ]
    },
    {
      "cell_type": "markdown",
      "source": [
        " Compute a derived column total_amount = fare + tip and show top 5 trips by\n",
        " total_amount."
      ],
      "metadata": {
        "id": "YmMz0M_gsxGA"
      }
    },
    {
      "cell_type": "code",
      "source": [
        "from pyspark.sql import functions as F\n",
        "\n",
        "trips_with_total = trips_df_q2.withColumn(\"total_amount\", F.col(\"fare\") + F.col(\"tip\"))\n",
        "\n",
        "trips_with_total.orderBy(F.desc(\"total_amount\")).show(5)\n"
      ],
      "metadata": {
        "colab": {
          "base_uri": "https://localhost:8080/"
        },
        "id": "5jWZ8UXKs_FU",
        "outputId": "c4f3d3b7-fbf9-4b7a-eaf5-f6d9be157ee1"
      },
      "execution_count": 8,
      "outputs": [
        {
          "output_type": "stream",
          "name": "stdout",
          "text": [
            "+-------+--------+---------+---------+-----------+-----+----+-------------------+------------+\n",
            "|trip_id|rider_id|driver_id|     city|distance_km| fare| tip|                 ts|total_amount|\n",
            "+-------+--------+---------+---------+-----------+-----+----+-------------------+------------+\n",
            "|   1004|    R001|     D010|Bengaluru|       18.9|480.0|25.0|2025-08-08 08:45:00|       505.0|\n",
            "|   1001|    R001|     D010|Bengaluru|       12.4|320.0|20.0|2025-08-08 08:05:00|       340.0|\n",
            "|   1005|    R004|     D013|  Chennai|       10.0|260.0|15.0|2025-08-08 09:05:00|       275.0|\n",
            "|   1002|    R002|     D011|Hyderabad|        6.2|150.0|10.0|2025-08-08 08:15:00|       160.0|\n",
            "|   1003|    R003|     D012|     Pune|        3.5| 90.0| 0.0|2025-08-08 08:20:00|        90.0|\n",
            "+-------+--------+---------+---------+-----------+-----+----+-------------------+------------+\n",
            "only showing top 5 rows\n",
            "\n"
          ]
        }
      ]
    },
    {
      "cell_type": "markdown",
      "source": [
        "# 3) Update (Business Rule)"
      ],
      "metadata": {
        "id": "y_sSH9dhs_hM"
      }
    },
    {
      "cell_type": "markdown",
      "source": [
        "Increase tip by 5 for trips in Bengaluru where distance_km > 15.\n",
        "\n",
        "Show before/after for affected rows only."
      ],
      "metadata": {
        "id": "D9kkTfzDtBDA"
      }
    },
    {
      "cell_type": "code",
      "source": [
        "from delta.tables import DeltaTable\n",
        "\n",
        "# Load Delta table\n",
        "trips_table_t3 = DeltaTable.forPath(spark, TRIPS_PATH)\n",
        "\n",
        "# Show trips in Bengaluru with distance > 15 km before update\n",
        "print(\"Before update:\")\n",
        "trips_table_t3.toDF().filter(\"city = 'Bengaluru' AND distance_km > 15\").show()"
      ],
      "metadata": {
        "colab": {
          "base_uri": "https://localhost:8080/"
        },
        "id": "K49HRSA4tApu",
        "outputId": "50fbc772-a753-4b5c-9700-3a9c35109565"
      },
      "execution_count": 9,
      "outputs": [
        {
          "output_type": "stream",
          "name": "stdout",
          "text": [
            "Before update:\n",
            "+-------+--------+---------+---------+-----------+-----+----+-------------------+\n",
            "|trip_id|rider_id|driver_id|     city|distance_km| fare| tip|                 ts|\n",
            "+-------+--------+---------+---------+-----------+-----+----+-------------------+\n",
            "|   1004|    R001|     D010|Bengaluru|       18.9|480.0|25.0|2025-08-08 08:45:00|\n",
            "+-------+--------+---------+---------+-----------+-----+----+-------------------+\n",
            "\n"
          ]
        }
      ]
    },
    {
      "cell_type": "code",
      "source": [
        "# Increase tip by 5 for Bengaluru trips with distance > 15 km\n",
        "trips_table_t3.update(\n",
        "    condition=\"city = 'Bengaluru' AND distance_km > 15\",\n",
        "    set={\"tip\": \"tip + 5\"}\n",
        ")\n",
        "# Show affected rows after update\n",
        "print(\"After update:\")\n",
        "trips_table_t3.toDF().filter(\"city = 'Bengaluru' AND distance_km > 15\").show()\n"
      ],
      "metadata": {
        "colab": {
          "base_uri": "https://localhost:8080/"
        },
        "id": "yKpK4eDztEn1",
        "outputId": "d39d34a2-057f-4280-9b6d-a87d38c7e7e3"
      },
      "execution_count": 11,
      "outputs": [
        {
          "output_type": "stream",
          "name": "stdout",
          "text": [
            "After update:\n",
            "+-------+--------+---------+---------+-----------+-----+----+-------------------+\n",
            "|trip_id|rider_id|driver_id|     city|distance_km| fare| tip|                 ts|\n",
            "+-------+--------+---------+---------+-----------+-----+----+-------------------+\n",
            "|   1004|    R001|     D010|Bengaluru|       18.9|480.0|35.0|2025-08-08 08:45:00|\n",
            "+-------+--------+---------+---------+-----------+-----+----+-------------------+\n",
            "\n"
          ]
        }
      ]
    },
    {
      "cell_type": "markdown",
      "source": [
        "# 4) Delete (Data Quality)"
      ],
      "metadata": {
        "id": "zFUGvSbTtIcx"
      }
    },
    {
      "cell_type": "markdown",
      "source": [
        "Delete trips where fare <= 0 or distance_km <= 0 (simulate bad ingest)"
      ],
      "metadata": {
        "id": "pcUeSMtytJ0o"
      }
    },
    {
      "cell_type": "code",
      "source": [
        "trips_table_t4 = DeltaTable.forPath(spark, TRIPS_PATH)\n",
        "trips_table_t4.delete(\"fare <= 0 OR distance_km <= 0\")\n",
        "print(\"Delete completed.\")"
      ],
      "metadata": {
        "colab": {
          "base_uri": "https://localhost:8080/"
        },
        "id": "4BjT2-WgtIHN",
        "outputId": "555424bf-9cb0-4b95-afb6-2368b6abfa16"
      },
      "execution_count": 12,
      "outputs": [
        {
          "output_type": "stream",
          "name": "stdout",
          "text": [
            "Delete completed.\n"
          ]
        }
      ]
    },
    {
      "cell_type": "code",
      "source": [],
      "metadata": {
        "id": "W1fApK_Fu8Gz"
      },
      "execution_count": null,
      "outputs": []
    },
    {
      "cell_type": "markdown",
      "source": [
        "Show remaining row count."
      ],
      "metadata": {
        "id": "Gw0NPoU7tMWj"
      }
    },
    {
      "cell_type": "code",
      "source": [
        "remaining_count = trips_table_t4.toDF().count()\n",
        "print(f\"Remaining rows after deletion: {remaining_count}\")"
      ],
      "metadata": {
        "colab": {
          "base_uri": "https://localhost:8080/"
        },
        "id": "hycNspOrtOjm",
        "outputId": "d916e4b8-04d6-4abb-d932-e1c8ab61e48d"
      },
      "execution_count": 13,
      "outputs": [
        {
          "output_type": "stream",
          "name": "stdout",
          "text": [
            "Remaining rows after deletion: 6\n"
          ]
        }
      ]
    },
    {
      "cell_type": "markdown",
      "source": [
        "# 5) Merge (Upsert New Batch)\n",
        "\n",
        " Create a new inline batch with:\n",
        "\n",
        " one existing trip_id (e.g., 1004) but a corrected fare or tip, and\n",
        "\n",
        " one new trip (e.g., 1007). Perform a MERGE (match on\n",
        "existing and insert the new.\n",
        "\n",
        " Show rows for\n",
        "trip_id IN (1004,1007) to confirm."
      ],
      "metadata": {
        "id": "G72HtEMxtQY-"
      }
    },
    {
      "cell_type": "code",
      "source": [
        "from datetime import datetime\n",
        "from delta.tables import DeltaTable\n",
        "\n",
        "new_batch_rows = [\n",
        "    (1004, \"R001\", \"D010\", \"Bengaluru\", 18.9, 500.0, 30.0, datetime(2025, 8, 8, 8, 45, 0)),\n",
        "    (1007, \"R006\", \"D011\", \"Hyderabad\", 7.0, 180.0, 12.0, datetime(2025, 8, 8, 10, 0, 0))\n",
        "]\n",
        "new_batch_df = spark.createDataFrame(new_batch_rows, schema=trip_schema)\n",
        "\n",
        "# Perform MERGE into trips table\n",
        "trips_table_t5 = DeltaTable.forPath(spark, TRIPS_PATH)\n",
        "trips_table_t5.alias(\"t\").merge(\n",
        "    new_batch_df.alias(\"n\"),\n",
        "    \"t.trip_id = n.trip_id\"\n",
        ").whenMatchedUpdateAll() \\\n",
        " .whenNotMatchedInsertAll() \\\n",
        " .execute()\n",
        "\n",
        "# Show rows for trip_id 1004 and 1007\n",
        "trips_table_t5.toDF().filter(\"trip_id IN (1004, 1007)\").show()\n"
      ],
      "metadata": {
        "colab": {
          "base_uri": "https://localhost:8080/"
        },
        "id": "FSpa75eIu81N",
        "outputId": "9b5aa2bb-d9a0-40e7-e1d6-ddc25084cf5c"
      },
      "execution_count": 14,
      "outputs": [
        {
          "output_type": "stream",
          "name": "stdout",
          "text": [
            "+-------+--------+---------+---------+-----------+-----+----+-------------------+\n",
            "|trip_id|rider_id|driver_id|     city|distance_km| fare| tip|                 ts|\n",
            "+-------+--------+---------+---------+-----------+-----+----+-------------------+\n",
            "|   1004|    R001|     D010|Bengaluru|       18.9|500.0|30.0|2025-08-08 08:45:00|\n",
            "|   1007|    R006|     D011|Hyderabad|        7.0|180.0|12.0|2025-08-08 10:00:00|\n",
            "+-------+--------+---------+---------+-----------+-----+----+-------------------+\n",
            "\n"
          ]
        }
      ]
    },
    {
      "cell_type": "markdown",
      "source": [
        "# 6) Gold View (Join & KPIs)"
      ],
      "metadata": {
        "id": "4cvfAp-mu_cI"
      }
    },
    {
      "cell_type": "markdown",
      "source": [
        "Join trips with drivers on\n",
        " driver_id ."
      ],
      "metadata": {
        "id": "1mX5t7NCvNnG"
      }
    },
    {
      "cell_type": "code",
      "source": [
        "\n",
        "trips_latest_df = spark.read.format(\"delta\").load(TRIPS_PATH)\n",
        "drivers_latest_df = spark.read.format(\"delta\").load(DRIVERS_PATH)\n",
        "\n",
        "joined_df = trips_latest_df.join(drivers_latest_df, \"driver_id\")\n",
        "\n",
        "print(\"Joined trips and drivers on driver_id:\")\n",
        "joined_df.show()"
      ],
      "metadata": {
        "colab": {
          "base_uri": "https://localhost:8080/"
        },
        "id": "OsB2w-CTvB8a",
        "outputId": "d40cc232-e351-4682-f1ed-f863f10d09f2"
      },
      "execution_count": 15,
      "outputs": [
        {
          "output_type": "stream",
          "name": "stdout",
          "text": [
            "Joined trips and drivers on driver_id:\n",
            "+---------+-------+--------+---------+-----------+-----+----+-------------------+-----------+------+-------+\n",
            "|driver_id|trip_id|rider_id|     city|distance_km| fare| tip|                 ts|driver_name|rating|vehicle|\n",
            "+---------+-------+--------+---------+-----------+-----+----+-------------------+-----------+------+-------+\n",
            "|     D010|   1004|    R001|Bengaluru|       18.9|500.0|30.0|2025-08-08 08:45:00|       Anil|   4.8| WagonR|\n",
            "|     D013|   1005|    R004|  Chennai|       10.0|260.0|15.0|2025-08-08 09:05:00|      Meera|   4.9|   Ciaz|\n",
            "|     D012|   1006|    R005|     Pune|        2.2| 70.0| 0.0|2025-08-08 09:10:00|     Rakesh|   4.4|  Swift|\n",
            "|     D011|   1007|    R006|Hyderabad|        7.0|180.0|12.0|2025-08-08 10:00:00|       Sana|   4.6|    i20|\n",
            "|     D010|   1001|    R001|Bengaluru|       12.4|320.0|20.0|2025-08-08 08:05:00|       Anil|   4.8| WagonR|\n",
            "|     D011|   1002|    R002|Hyderabad|        6.2|150.0|10.0|2025-08-08 08:15:00|       Sana|   4.6|    i20|\n",
            "|     D012|   1003|    R003|     Pune|        3.5| 90.0| 0.0|2025-08-08 08:20:00|     Rakesh|   4.4|  Swift|\n",
            "+---------+-------+--------+---------+-----------+-----+----+-------------------+-----------+------+-------+\n",
            "\n"
          ]
        }
      ]
    },
    {
      "cell_type": "markdown",
      "source": [
        "Create a gold view with columns:  trip_id, city, driver_name, rating\n",
        "distance_km, total_amount, ts .\n",
        ""
      ],
      "metadata": {
        "id": "j2qf4AyvvTXH"
      }
    },
    {
      "cell_type": "code",
      "source": [
        "from pyspark.sql import functions as F\n",
        "\n",
        "gold_df = joined_df.withColumn(\"total_amount\", F.col(\"fare\") + F.col(\"tip\")) \\\n",
        "    .select(\n",
        "        \"trip_id\",\n",
        "        \"city\",\n",
        "        \"driver_name\",\n",
        "        \"rating\",\n",
        "        \"distance_km\",\n",
        "        \"total_amount\",\n",
        "        \"ts\"\n",
        "    )\n",
        "\n",
        "print(\"Gold view created with selected columns:\")\n",
        "gold_df.show()\n"
      ],
      "metadata": {
        "colab": {
          "base_uri": "https://localhost:8080/"
        },
        "id": "NoQBkQodvg70",
        "outputId": "c44458a4-e8f9-4935-e0af-5b0fe2757626"
      },
      "execution_count": 16,
      "outputs": [
        {
          "output_type": "stream",
          "name": "stdout",
          "text": [
            "Gold view created with selected columns:\n",
            "+-------+---------+-----------+------+-----------+------------+-------------------+\n",
            "|trip_id|     city|driver_name|rating|distance_km|total_amount|                 ts|\n",
            "+-------+---------+-----------+------+-----------+------------+-------------------+\n",
            "|   1004|Bengaluru|       Anil|   4.8|       18.9|       530.0|2025-08-08 08:45:00|\n",
            "|   1005|  Chennai|      Meera|   4.9|       10.0|       275.0|2025-08-08 09:05:00|\n",
            "|   1006|     Pune|     Rakesh|   4.4|        2.2|        70.0|2025-08-08 09:10:00|\n",
            "|   1007|Hyderabad|       Sana|   4.6|        7.0|       192.0|2025-08-08 10:00:00|\n",
            "|   1001|Bengaluru|       Anil|   4.8|       12.4|       340.0|2025-08-08 08:05:00|\n",
            "|   1002|Hyderabad|       Sana|   4.6|        6.2|       160.0|2025-08-08 08:15:00|\n",
            "|   1003|     Pune|     Rakesh|   4.4|        3.5|        90.0|2025-08-08 08:20:00|\n",
            "+-------+---------+-----------+------+-----------+------------+-------------------+\n",
            "\n"
          ]
        }
      ]
    },
    {
      "cell_type": "markdown",
      "source": [
        "From this gold view:\n",
        "\n",
        " Compute city-wise total revenue and average driver rating.\n",
        "\n"
      ],
      "metadata": {
        "id": "l5bPBi2uvhZk"
      }
    },
    {
      "cell_type": "code",
      "source": [
        "from pyspark.sql import functions as F\n",
        "\n",
        "city_kpis = gold_df.groupBy(\"city\").agg(\n",
        "    F.round(F.sum(\"total_amount\"), 2).alias(\"city_revenue\"),\n",
        "    F.round(F.avg(\"rating\"), 2).alias(\"avg_rating\")\n",
        ")\n",
        "\n",
        "print(\"City-wise total revenue and average driver rating:\")\n",
        "city_kpis.show()\n"
      ],
      "metadata": {
        "colab": {
          "base_uri": "https://localhost:8080/"
        },
        "id": "AXq4B_g0voaN",
        "outputId": "005c4059-e087-4a7f-9014-020533cf3f86"
      },
      "execution_count": 17,
      "outputs": [
        {
          "output_type": "stream",
          "name": "stdout",
          "text": [
            "City-wise total revenue and average driver rating:\n",
            "+---------+------------+----------+\n",
            "|     city|city_revenue|avg_rating|\n",
            "+---------+------------+----------+\n",
            "|  Chennai|       275.0|       4.9|\n",
            "|     Pune|       160.0|       4.4|\n",
            "|Bengaluru|       870.0|       4.8|\n",
            "|Hyderabad|       352.0|       4.6|\n",
            "+---------+------------+----------+\n",
            "\n"
          ]
        }
      ]
    },
    {
      "cell_type": "markdown",
      "source": [
        "\n",
        " Compute driver-wise total trips and top 3 drivers by revenue.\n",
        ""
      ],
      "metadata": {
        "id": "FO6Wu9ZMwgmE"
      }
    },
    {
      "cell_type": "code",
      "source": [
        "from pyspark.sql import functions as F\n",
        "\n",
        "driver_kpis = gold_df.groupBy(\"driver_name\").agg(\n",
        "    F.count(\"*\").alias(\"total_trips\"),\n",
        "    F.round(F.sum(\"total_amount\"), 2).alias(\"total_revenue\")\n",
        ")\n",
        "\n",
        "print(\"Top 3 drivers by total revenue:\")\n",
        "driver_kpis.orderBy(F.desc(\"total_revenue\")).show(3)\n"
      ],
      "metadata": {
        "colab": {
          "base_uri": "https://localhost:8080/"
        },
        "id": "ZwT4n-HCwhV5",
        "outputId": "1e351ad6-7b35-4e5e-fc5b-ba1a1fc2d321"
      },
      "execution_count": 18,
      "outputs": [
        {
          "output_type": "stream",
          "name": "stdout",
          "text": [
            "Top 3 drivers by total revenue:\n",
            "+-----------+-----------+-------------+\n",
            "|driver_name|total_trips|total_revenue|\n",
            "+-----------+-----------+-------------+\n",
            "|       Anil|          2|        870.0|\n",
            "|       Sana|          2|        352.0|\n",
            "|      Meera|          1|        275.0|\n",
            "+-----------+-----------+-------------+\n",
            "only showing top 3 rows\n",
            "\n"
          ]
        }
      ]
    },
    {
      "cell_type": "markdown",
      "source": [
        "# 7) Time Travel & History"
      ],
      "metadata": {
        "id": "LrbWEy8rwknR"
      }
    },
    {
      "cell_type": "markdown",
      "source": [
        " Show DESCRIBE HISTORY for the trips table (the one you updated/merged)."
      ],
      "metadata": {
        "id": "yzO5_fYkwtNB"
      }
    },
    {
      "cell_type": "code",
      "source": [
        "spark.sql(f\"DESCRIBE HISTORY delta.`{TRIPS_PATH}`\").show(truncate=False)"
      ],
      "metadata": {
        "colab": {
          "base_uri": "https://localhost:8080/"
        },
        "id": "pqUKZ3lvwqup",
        "outputId": "d792b51b-6e4a-4c4f-deb7-04f7302833cd"
      },
      "execution_count": 19,
      "outputs": [
        {
          "output_type": "stream",
          "name": "stdout",
          "text": [
            "+-------+-----------------------+------+--------+---------+---------------------------------------------------------------------------------------------------------------------------------------------------------------------------------------+----+--------+---------+-----------+--------------+-------------+--------------------------------------------------------------------------------------------------------------------------------------------------------------------------------------------------------------------------------------------------------------------------------------------------------------------------------------------------------------------------------------------------------------------------------------------------------------------------------------------------------------------------------------------------------------------------------------------------------------------------------------------------------+------------+-----------------------------------+\n",
            "|version|timestamp              |userId|userName|operation|operationParameters                                                                                                                                                                    |job |notebook|clusterId|readVersion|isolationLevel|isBlindAppend|operationMetrics                                                                                                                                                                                                                                                                                                                                                                                                                                                                                                                                                                                                                                        |userMetadata|engineInfo                         |\n",
            "+-------+-----------------------+------+--------+---------+---------------------------------------------------------------------------------------------------------------------------------------------------------------------------------------+----+--------+---------+-----------+--------------+-------------+--------------------------------------------------------------------------------------------------------------------------------------------------------------------------------------------------------------------------------------------------------------------------------------------------------------------------------------------------------------------------------------------------------------------------------------------------------------------------------------------------------------------------------------------------------------------------------------------------------------------------------------------------------+------------+-----------------------------------+\n",
            "|3      |2025-08-14 08:39:20.431|NULL  |NULL    |MERGE    |{predicate -> [\"(trip_id#7033 = trip_id#7017)\"], matchedPredicates -> [{\"actionType\":\"update\"}], notMatchedPredicates -> [{\"actionType\":\"insert\"}], notMatchedBySourcePredicates -> []}|NULL|NULL    |NULL     |2          |Serializable  |false        |{numTargetRowsCopied -> 2, numTargetRowsDeleted -> 0, numTargetFilesAdded -> 1, numTargetBytesAdded -> 2321, numTargetBytesRemoved -> 2270, numTargetDeletionVectorsAdded -> 0, numTargetRowsMatchedUpdated -> 1, executionTimeMs -> 6984, numTargetRowsInserted -> 1, numTargetRowsMatchedDeleted -> 0, numTargetDeletionVectorsUpdated -> 0, scanTimeMs -> 4168, numTargetRowsUpdated -> 1, numOutputRows -> 4, numTargetDeletionVectorsRemoved -> 0, numTargetRowsNotMatchedBySourceUpdated -> 0, numTargetChangeFilesAdded -> 0, numSourceRows -> 2, numTargetFilesRemoved -> 1, numTargetRowsNotMatchedBySourceDeleted -> 0, rewriteTimeMs -> 1834}|NULL        |Apache-Spark/3.5.1 Delta-Lake/3.2.0|\n",
            "|2      |2025-08-14 08:35:13.519|NULL  |NULL    |UPDATE   |{predicate -> [\"((city#4059 = Bengaluru) AND (distance_km#4060 > 15.0))\"]}                                                                                                             |NULL|NULL    |NULL     |1          |Serializable  |false        |{numRemovedFiles -> 1, numRemovedBytes -> 2268, numCopiedRows -> 2, numDeletionVectorsAdded -> 0, numDeletionVectorsRemoved -> 0, numAddedChangeFiles -> 0, executionTimeMs -> 9928, numDeletionVectorsUpdated -> 0, scanTimeMs -> 9388, numAddedFiles -> 1, numUpdatedRows -> 1, numAddedBytes -> 2270, rewriteTimeMs -> 539}                                                                                                                                                                                                                                                                                                                          |NULL        |Apache-Spark/3.5.1 Delta-Lake/3.2.0|\n",
            "|1      |2025-08-14 08:33:22.151|NULL  |NULL    |UPDATE   |{predicate -> [\"((city#4059 = Bengaluru) AND (distance_km#4060 > 15.0))\"]}                                                                                                             |NULL|NULL    |NULL     |0          |Serializable  |false        |{numRemovedFiles -> 1, numRemovedBytes -> 2268, numCopiedRows -> 2, numDeletionVectorsAdded -> 0, numDeletionVectorsRemoved -> 0, numAddedChangeFiles -> 0, executionTimeMs -> 3362, numDeletionVectorsUpdated -> 0, scanTimeMs -> 2698, numAddedFiles -> 1, numUpdatedRows -> 1, numAddedBytes -> 2268, rewriteTimeMs -> 660}                                                                                                                                                                                                                                                                                                                          |NULL        |Apache-Spark/3.5.1 Delta-Lake/3.2.0|\n",
            "|0      |2025-08-14 08:27:03.023|NULL  |NULL    |WRITE    |{mode -> Overwrite, partitionBy -> []}                                                                                                                                                 |NULL|NULL    |NULL     |NULL       |Serializable  |false        |{numFiles -> 2, numOutputRows -> 6, numOutputBytes -> 4536}                                                                                                                                                                                                                                                                                                                                                                                                                                                                                                                                                                                             |NULL        |Apache-Spark/3.5.1 Delta-Lake/3.2.0|\n",
            "+-------+-----------------------+------+--------+---------+---------------------------------------------------------------------------------------------------------------------------------------------------------------------------------------+----+--------+---------+-----------+--------------+-------------+--------------------------------------------------------------------------------------------------------------------------------------------------------------------------------------------------------------------------------------------------------------------------------------------------------------------------------------------------------------------------------------------------------------------------------------------------------------------------------------------------------------------------------------------------------------------------------------------------------------------------------------------------------+------------+-----------------------------------+\n",
            "\n"
          ]
        }
      ]
    },
    {
      "cell_type": "markdown",
      "source": [
        " Read the table as of version 0, and compare counts and a few rows with the\n",
        " latest version"
      ],
      "metadata": {
        "id": "wTNCfwSLwrPN"
      }
    },
    {
      "cell_type": "code",
      "source": [
        "trips_v0 = spark.read.format(\"delta\").option(\"versionAsOf\", 0).load(TRIPS_PATH)\n",
        "print(\"Trips table - Version 0:\")\n",
        "trips_v0.show()\n",
        "\n",
        "trips_latest = spark.read.format(\"delta\").load(TRIPS_PATH)\n",
        "print(\"Trips table - Latest Version:\")\n",
        "trips_latest.show()\n",
        "\n",
        "# Compare record counts\n",
        "print(f\"Version 0 count: {trips_v0.count()}, Latest version count: {trips_latest.count()}\")\n"
      ],
      "metadata": {
        "colab": {
          "base_uri": "https://localhost:8080/"
        },
        "id": "3xNgmVPXwvvO",
        "outputId": "761e7d4b-dd40-4f02-fead-d195c221f5a7"
      },
      "execution_count": 20,
      "outputs": [
        {
          "output_type": "stream",
          "name": "stdout",
          "text": [
            "Trips table - Version 0:\n",
            "+-------+--------+---------+---------+-----------+-----+----+-------------------+\n",
            "|trip_id|rider_id|driver_id|     city|distance_km| fare| tip|                 ts|\n",
            "+-------+--------+---------+---------+-----------+-----+----+-------------------+\n",
            "|   1004|    R001|     D010|Bengaluru|       18.9|480.0|25.0|2025-08-08 08:45:00|\n",
            "|   1005|    R004|     D013|  Chennai|       10.0|260.0|15.0|2025-08-08 09:05:00|\n",
            "|   1006|    R005|     D012|     Pune|        2.2| 70.0| 0.0|2025-08-08 09:10:00|\n",
            "|   1001|    R001|     D010|Bengaluru|       12.4|320.0|20.0|2025-08-08 08:05:00|\n",
            "|   1002|    R002|     D011|Hyderabad|        6.2|150.0|10.0|2025-08-08 08:15:00|\n",
            "|   1003|    R003|     D012|     Pune|        3.5| 90.0| 0.0|2025-08-08 08:20:00|\n",
            "+-------+--------+---------+---------+-----------+-----+----+-------------------+\n",
            "\n",
            "Trips table - Latest Version:\n",
            "+-------+--------+---------+---------+-----------+-----+----+-------------------+\n",
            "|trip_id|rider_id|driver_id|     city|distance_km| fare| tip|                 ts|\n",
            "+-------+--------+---------+---------+-----------+-----+----+-------------------+\n",
            "|   1004|    R001|     D010|Bengaluru|       18.9|500.0|30.0|2025-08-08 08:45:00|\n",
            "|   1005|    R004|     D013|  Chennai|       10.0|260.0|15.0|2025-08-08 09:05:00|\n",
            "|   1006|    R005|     D012|     Pune|        2.2| 70.0| 0.0|2025-08-08 09:10:00|\n",
            "|   1007|    R006|     D011|Hyderabad|        7.0|180.0|12.0|2025-08-08 10:00:00|\n",
            "|   1001|    R001|     D010|Bengaluru|       12.4|320.0|20.0|2025-08-08 08:05:00|\n",
            "|   1002|    R002|     D011|Hyderabad|        6.2|150.0|10.0|2025-08-08 08:15:00|\n",
            "|   1003|    R003|     D012|     Pune|        3.5| 90.0| 0.0|2025-08-08 08:20:00|\n",
            "+-------+--------+---------+---------+-----------+-----+----+-------------------+\n",
            "\n",
            "Version 0 count: 6, Latest version count: 7\n"
          ]
        }
      ]
    },
    {
      "cell_type": "markdown",
      "source": [
        "# 8) Partitioned Rewrite (Performance)"
      ],
      "metadata": {
        "id": "cGNGSmkNwwIR"
      }
    },
    {
      "cell_type": "markdown",
      "source": [
        " Rewrite the trips table partitioned by\n",
        "city into a new Delta path."
      ],
      "metadata": {
        "id": "YSRQ5ncUw1bT"
      }
    },
    {
      "cell_type": "code",
      "source": [
        "PARTITIONED_TRIPS_PATH = f\"{BASE}/trips_partitioned\"\n",
        "\n",
        "spark.read.format(\"delta\").load(TRIPS_PATH) \\\n",
        "    .write.format(\"delta\") \\\n",
        "    .mode(\"overwrite\") \\\n",
        "    .partitionBy(\"city\") \\\n",
        "    .save(PARTITIONED_TRIPS_PATH)\n",
        "\n",
        "print(f\"Partitioned trips table saved at: {PARTITIONED_TRIPS_PATH}\")\n"
      ],
      "metadata": {
        "colab": {
          "base_uri": "https://localhost:8080/"
        },
        "id": "KA7ygBEiw0yP",
        "outputId": "b14b40d3-3c58-47c6-94bf-6b9e8a30f1a3"
      },
      "execution_count": 21,
      "outputs": [
        {
          "output_type": "stream",
          "name": "stdout",
          "text": [
            "Partitioned trips table saved at: /content/delta/ride_hailing/trips_partitioned\n"
          ]
        }
      ]
    },
    {
      "cell_type": "markdown",
      "source": [
        "Compare file layout (optional: list files) and run a simple filter\n",
        " city='Bengaluru' to observe read behavior/time."
      ],
      "metadata": {
        "id": "yJnYhNBnw2YP"
      }
    },
    {
      "cell_type": "code",
      "source": [
        "partitioned_df = spark.read.format(\"delta\").load(PARTITIONED_TRIPS_PATH) \\\n",
        "    .filter(\"city = 'Bengaluru'\")\n",
        "\n",
        "print(\"Trips in Bengaluru from partitioned table:\")\n",
        "partitioned_df.show()\n"
      ],
      "metadata": {
        "colab": {
          "base_uri": "https://localhost:8080/"
        },
        "id": "mQqY80pWw4pO",
        "outputId": "ee35da38-3c2c-439e-c863-2bdbd0d3d3dd"
      },
      "execution_count": 22,
      "outputs": [
        {
          "output_type": "stream",
          "name": "stdout",
          "text": [
            "Trips in Bengaluru from partitioned table:\n",
            "+-------+--------+---------+---------+-----------+-----+----+-------------------+\n",
            "|trip_id|rider_id|driver_id|     city|distance_km| fare| tip|                 ts|\n",
            "+-------+--------+---------+---------+-----------+-----+----+-------------------+\n",
            "|   1001|    R001|     D010|Bengaluru|       12.4|320.0|20.0|2025-08-08 08:05:00|\n",
            "|   1004|    R001|     D010|Bengaluru|       18.9|500.0|30.0|2025-08-08 08:45:00|\n",
            "+-------+--------+---------+---------+-----------+-----+----+-------------------+\n",
            "\n"
          ]
        }
      ]
    },
    {
      "cell_type": "markdown",
      "source": [
        "# 9) Incremental Load Simulation"
      ],
      "metadata": {
        "id": "S1lC7iQew6eb"
      }
    },
    {
      "cell_type": "markdown",
      "source": [
        " Create a small incremental batch (e.g., trip_ids 1008–1009) with a new city\n",
        " (e.g., Mumbai)."
      ],
      "metadata": {
        "id": "iptgqJTiw72N"
      }
    },
    {
      "cell_type": "code",
      "source": [
        "from datetime import datetime\n",
        "\n",
        "incremental_rows = [\n",
        "    (1008, \"R007\", \"D012\", \"Mumbai\", 8.5, 300.0, 20.0, datetime(2025, 8, 8, 11, 0, 0)),\n",
        "    (1009, \"R008\", \"D013\", \"Mumbai\", 5.2, 200.0, 15.0, datetime(2025, 8, 8, 11, 15, 0))\n",
        "]\n",
        "incremental_df = spark.createDataFrame(incremental_rows, schema=trip_schema)\n",
        "\n"
      ],
      "metadata": {
        "id": "BIEFsS-Ww9vU"
      },
      "execution_count": 24,
      "outputs": []
    },
    {
      "cell_type": "markdown",
      "source": [
        " Append to the trips table."
      ],
      "metadata": {
        "id": "cERePNiQw-JQ"
      }
    },
    {
      "cell_type": "code",
      "source": [
        "incremental_df.write.format(\"delta\").mode(\"append\").save(TRIPS_PATH)\n",
        "\n",
        "print(\"Incremental batch appended.\")"
      ],
      "metadata": {
        "colab": {
          "base_uri": "https://localhost:8080/"
        },
        "id": "ZevAzAlUxAP-",
        "outputId": "5fbb75b1-21ba-4f52-b9e8-6fd5928546d5"
      },
      "execution_count": 25,
      "outputs": [
        {
          "output_type": "stream",
          "name": "stdout",
          "text": [
            "Incremental batch appended.\n"
          ]
        }
      ]
    },
    {
      "cell_type": "markdown",
      "source": [
        " Re-run the city-wise revenue aggregation and note the change."
      ],
      "metadata": {
        "id": "HYu9jsy-xAhZ"
      }
    },
    {
      "cell_type": "code",
      "source": [
        "from pyspark.sql import functions as F\n",
        "\n",
        "trips_after_incremental = spark.read.format(\"delta\").load(TRIPS_PATH)\n",
        "\n",
        "# City-wise total revenue\n",
        "city_revenue_updated = trips_after_incremental.withColumn(\n",
        "    \"total_amount\", F.col(\"fare\") + F.col(\"tip\")\n",
        ").groupBy(\"city\").agg(\n",
        "    F.round(F.sum(\"total_amount\"), 2).alias(\"city_revenue\")\n",
        ")\n",
        "\n",
        "print(\"Updated city-wise revenue after incremental load:\")\n",
        "city_revenue_updated.show()\n"
      ],
      "metadata": {
        "colab": {
          "base_uri": "https://localhost:8080/"
        },
        "id": "ZK3AR-KKxDF-",
        "outputId": "cb4a9540-2a36-4e4b-9082-e7cb6e538c5f"
      },
      "execution_count": 26,
      "outputs": [
        {
          "output_type": "stream",
          "name": "stdout",
          "text": [
            "Updated city-wise revenue after incremental load:\n",
            "+---------+------------+\n",
            "|     city|city_revenue|\n",
            "+---------+------------+\n",
            "|  Chennai|       275.0|\n",
            "|   Mumbai|      1070.0|\n",
            "|     Pune|       160.0|\n",
            "|Bengaluru|       870.0|\n",
            "|Hyderabad|       352.0|\n",
            "+---------+------------+\n",
            "\n"
          ]
        }
      ]
    },
    {
      "cell_type": "markdown",
      "source": [
        "# 10) Simple Streaming (File Stream → Console)"
      ],
      "metadata": {
        "id": "g5OI5WtCxGc9"
      }
    },
    {
      "cell_type": "markdown",
      "source": [
        "Start a structured stream that reads Delta from TRIPS_PATH in readStream mode\n",
        "and writes to console (append).\n",
        ""
      ],
      "metadata": {
        "id": "WaQoCF2zxIDD"
      }
    },
    {
      "cell_type": "code",
      "source": [
        "\n",
        "streaming_df = spark.readStream.format(\"delta\").load(TRIPS_PATH)\n",
        "\n",
        "stream_query = streaming_df.writeStream \\\n",
        "    .format(\"console\") \\\n",
        "    .outputMode(\"append\") \\\n",
        "    .trigger(processingTime=\"5 seconds\") \\\n",
        "    .start()\n",
        "\n",
        "print(\"Streaming started... run the next cell to append new data.\")\n"
      ],
      "metadata": {
        "colab": {
          "base_uri": "https://localhost:8080/"
        },
        "id": "XpC9Nf7cxHpz",
        "outputId": "0d96c3cd-5170-407c-b3cd-0d5838199335"
      },
      "execution_count": 28,
      "outputs": [
        {
          "output_type": "stream",
          "name": "stdout",
          "text": [
            "Streaming started... run the next cell to append new data.\n"
          ]
        }
      ]
    },
    {
      "cell_type": "markdown",
      "source": [
        " While the stream runs, append another tiny batch (e.g., one more Mumbai trip)\n",
        " and observe the new row displayed."
      ],
      "metadata": {
        "id": "DfkhmtF1xRBP"
      }
    },
    {
      "cell_type": "code",
      "source": [
        "from datetime import datetime\n",
        "\n",
        "new_stream_batch = [\n",
        "    (1010, \"R009\", \"D011\", \"Mumbai\", 9.0, 350.0, 25.0, datetime(2025, 8, 8, 11, 30, 0))\n",
        "]\n",
        "new_stream_df = spark.createDataFrame(new_stream_batch, schema=trip_schema)\n",
        "\n",
        "# Append to trips table\n",
        "new_stream_df.write.format(\"delta\").mode(\"append\").save(TRIPS_PATH)\n",
        "\n",
        "print(\"New trip appended — check the stream output above.\")\n"
      ],
      "metadata": {
        "colab": {
          "base_uri": "https://localhost:8080/"
        },
        "id": "KXiY6FeQxQka",
        "outputId": "61fb9036-497f-43ed-f9f5-b81621527c3a"
      },
      "execution_count": 29,
      "outputs": [
        {
          "output_type": "stream",
          "name": "stdout",
          "text": [
            "New trip appended — check the stream output above.\n"
          ]
        }
      ]
    },
    {
      "cell_type": "markdown",
      "source": [
        "# 11) Visualization"
      ],
      "metadata": {
        "id": "smaHqHTAxT7P"
      }
    },
    {
      "cell_type": "markdown",
      "source": [
        "Convert the gold view results (city revenue) to Pandas and plot a bar chart of\n",
        " city vs total revenue."
      ],
      "metadata": {
        "id": "TGXdDY94xVOS"
      }
    },
    {
      "cell_type": "code",
      "source": [
        "import matplotlib.pyplot as plt\n",
        "from pyspark.sql import functions as F\n",
        "\n",
        "city_revenue_df = spark.read.format(\"delta\").load(TRIPS_PATH) \\\n",
        "    .withColumn(\"total_amount\", F.col(\"fare\") + F.col(\"tip\")) \\\n",
        "    .groupBy(\"city\").agg(F.round(F.sum(\"total_amount\"), 2).alias(\"city_revenue\"))\n",
        "\n",
        "city_revenue_pd = city_revenue_df.toPandas()\n",
        "\n",
        "plt.figure(figsize=(6,4))\n",
        "plt.bar(city_revenue_pd[\"city\"], city_revenue_pd[\"city_revenue\"], color='skyblue')\n",
        "plt.xlabel(\"City\")\n",
        "plt.ylabel(\"Total Revenue\")\n",
        "plt.title(\"City vs Total Revenue\")\n",
        "plt.show()\n"
      ],
      "metadata": {
        "colab": {
          "base_uri": "https://localhost:8080/",
          "height": 410
        },
        "id": "ryaKc3PhxX36",
        "outputId": "96570142-922e-4316-f16b-3c5f1b424744"
      },
      "execution_count": 30,
      "outputs": [
        {
          "output_type": "display_data",
          "data": {
            "text/plain": [
              "<Figure size 600x400 with 1 Axes>"
            ],
            "image/png": "[encoded data removed]"
          },
          "metadata": {}
        }
      ]
    },
    {
      "cell_type": "markdown",
      "source": [
        "Plot a line chart of hourly revenue: group by\n",
        " hour(ts) and sum\n",
        "total_amount .\n"
      ],
      "metadata": {
        "id": "BhXXZOotxbAh"
      }
    },
    {
      "cell_type": "code",
      "source": [
        "hourly_revenue_df = spark.read.format(\"delta\").load(TRIPS_PATH) \\\n",
        "    .withColumn(\"total_amount\", F.col(\"fare\") + F.col(\"tip\")) \\\n",
        "    .withColumn(\"hour\", F.hour(\"ts\")) \\\n",
        "    .groupBy(\"hour\").agg(F.round(F.sum(\"total_amount\"), 2).alias(\"hourly_revenue\")) \\\n",
        "    .orderBy(\"hour\")\n",
        "\n",
        "hourly_revenue_pd = hourly_revenue_df.toPandas()\n",
        "\n",
        "plt.figure(figsize=(6,4))\n",
        "plt.plot(hourly_revenue_pd[\"hour\"], hourly_revenue_pd[\"hourly_revenue\"], marker='o')\n",
        "plt.xlabel(\"Hour of Day\")\n",
        "plt.ylabel(\"Total Revenue\")\n",
        "plt.title(\"Hourly Revenue Trend\")\n",
        "plt.grid(True)\n",
        "plt.show()\n"
      ],
      "metadata": {
        "colab": {
          "base_uri": "https://localhost:8080/",
          "height": 410
        },
        "id": "FSX2pqXJxdlt",
        "outputId": "0101ec5d-184c-4b52-ae03-160df42193c3"
      },
      "execution_count": 31,
      "outputs": [
        {
          "output_type": "display_data",
          "data": {
            "text/plain": [
              "<Figure size 600x400 with 1 Axes>"
            ],
            "image/png": "[encoded data removed]"
          },
          "metadata": {}
        }
      ]
    },
    {
      "cell_type": "markdown",
      "source": [
        "# 12) Managed vs Unmanaged Cleanup"
      ],
      "metadata": {
        "id": "kUTDqawuxeB3"
      }
    },
    {
      "cell_type": "markdown",
      "source": [
        "DROP TABLE the managed and unmanaged tables; verify:\n",
        "\n",
        " Data for managed is removed with the table (when stored in the\n",
        " warehouse).\n",
        "\n",
        " Data for unmanaged stays at\n",
        "DRIVERS_PATH after drop."
      ],
      "metadata": {
        "id": "BBva1qaLxwGQ"
      }
    },
    {
      "cell_type": "code",
      "source": [
        "# Drop managed table\n",
        "spark.sql(\"DROP TABLE IF EXISTS trips_managed\")\n",
        "print(\"Dropped managed table: trips_managed\")\n",
        "\n",
        "# Drop unmanaged table\n",
        "spark.sql(\"DROP TABLE IF EXISTS drivers_unmanaged\")\n",
        "print(\"Dropped unmanaged table: drivers_unmanaged\")\n",
        "\n",
        "# Verify if managed table data is removed\n",
        "import os\n",
        "\n",
        "managed_path = \"/content/spark-warehouse/trips_managed\"\n",
        "print(\"Managed table data exists after drop? ->\", os.path.exists(managed_path))\n",
        "\n",
        "# Verify if unmanaged table data still exists\n",
        "unmanaged_exists = os.path.exists(DRIVERS_PATH)\n",
        "print(f\"Unmanaged table data exists at {DRIVERS_PATH}? ->\", unmanaged_exists)\n"
      ],
      "metadata": {
        "colab": {
          "base_uri": "https://localhost:8080/"
        },
        "id": "GLgM9_cCxyBJ",
        "outputId": "7d38f0d9-ad3a-4855-8566-0fc8066f4bb9"
      },
      "execution_count": 32,
      "outputs": [
        {
          "output_type": "stream",
          "name": "stdout",
          "text": [
            "Dropped managed table: trips_managed\n",
            "Dropped unmanaged table: drivers_unmanaged\n",
            "Managed table data exists after drop? -> False\n",
            "Unmanaged table data exists at /content/delta/ride_hailing/drivers? -> True\n"
          ]
        }
      ]
    },
    {
      "cell_type": "markdown",
      "source": [
        "# 13) Constraint/Quality Check (Optional)"
      ],
      "metadata": {
        "id": "djk5eCUaxyXu"
      }
    },
    {
      "cell_type": "markdown",
      "source": [
        " Add a check to reject rows where\n",
        "tip < 0 (enforce during write or simulate\n",
        " with a filter before save).\n",
        "\n",
        " Demonstrate an attempt to write bad data and show how you prevented it."
      ],
      "metadata": {
        "id": "ZGIDJCazx1nk"
      }
    },
    {
      "cell_type": "code",
      "source": [
        "from pyspark.sql.functions import col\n",
        "\n",
        "bad_data = spark.createDataFrame([\n",
        "    (1, \"CityA\", 10.0, -2.0, 20.0),  # tip < 0\n",
        "    (2, \"CityB\", 15.0, 3.0, 25.0)\n",
        "], [\"trip_id\", \"city\", \"fare\", \"tip\", \"total\"])\n",
        "\n",
        "# Show all data before filtering\n",
        "print(\"All data (including bad tip):\")\n",
        "bad_data.show()\n",
        "\n",
        "# Filter out rows with tip < 0\n",
        "df_clean = bad_data.filter(col(\"tip\") >= 0)\n",
        "\n",
        "print(\"After enforcing tip >= 0:\")\n",
        "df_clean.show()\n",
        "\n"
      ],
      "metadata": {
        "colab": {
          "base_uri": "https://localhost:8080/"
        },
        "id": "wxxUJJu5x3qn",
        "outputId": "3a12bfcf-f47d-4a52-9f9c-959975ab38e4"
      },
      "execution_count": 48,
      "outputs": [
        {
          "output_type": "stream",
          "name": "stdout",
          "text": [
            "All data (including bad tip):\n",
            "+-------+-----+----+----+-----+\n",
            "|trip_id| city|fare| tip|total|\n",
            "+-------+-----+----+----+-----+\n",
            "|      1|CityA|10.0|-2.0| 20.0|\n",
            "|      2|CityB|15.0| 3.0| 25.0|\n",
            "+-------+-----+----+----+-----+\n",
            "\n",
            "After enforcing tip >= 0:\n",
            "+-------+-----+----+---+-----+\n",
            "|trip_id| city|fare|tip|total|\n",
            "+-------+-----+----+---+-----+\n",
            "|      2|CityB|15.0|3.0| 25.0|\n",
            "+-------+-----+----+---+-----+\n",
            "\n"
          ]
        }
      ]
    },
    {
      "cell_type": "markdown",
      "source": [
        "# 14) Convert Parquet → Delta"
      ],
      "metadata": {
        "id": "a23vRvt7x8i7"
      }
    },
    {
      "cell_type": "markdown",
      "source": [
        " Save a small subset of trips as Parquet in a new folder and CONVERT TO DELTA.\n",
        "\n",
        " Show it can now accept MERGE and time travel."
      ],
      "metadata": {
        "id": "cA-MO64tx9ub"
      }
    },
    {
      "cell_type": "code",
      "source": [
        "PARQUET_PATH = f\"{BASE}/parquet_sample\"\n",
        "spark.read.format(\"delta\").load(TRIPS_PATH).limit(3).write.mode(\"overwrite\").parquet(PARQUET_PATH)\n",
        "spark.sql(f\"CONVERT TO DELTA parquet.`{PARQUET_PATH}`\")\n",
        "spark.read.format(\"delta\").load(PARQUET_PATH).show()\n"
      ],
      "metadata": {
        "colab": {
          "base_uri": "https://localhost:8080/"
        },
        "id": "9Fha1r0Sx9J3",
        "outputId": "d756db93-d548-47b7-b4f6-991a8e66289a"
      },
      "execution_count": 49,
      "outputs": [
        {
          "output_type": "stream",
          "name": "stdout",
          "text": [
            "+-------+--------+---------+------+-----------+-----+----+-------------------+\n",
            "|trip_id|rider_id|driver_id|  city|distance_km| fare| tip|                 ts|\n",
            "+-------+--------+---------+------+-----------+-----+----+-------------------+\n",
            "|   1008|    R007|     D012|Mumbai|        8.5|300.0|20.0|2025-08-08 11:00:00|\n",
            "|   1010|    R009|     D011|Mumbai|        9.0|350.0|25.0|2025-08-08 11:30:00|\n",
            "|   1008|    R007|     D012|Mumbai|        8.5|300.0|20.0|2025-08-08 11:00:00|\n",
            "+-------+--------+---------+------+-----------+-----+----+-------------------+\n",
            "\n"
          ]
        }
      ]
    },
    {
      "cell_type": "markdown",
      "source": [
        "# 15) Bonus KPI Dashboard (Notebook Display)"
      ],
      "metadata": {
        "id": "qAZ_fRTzyDkB"
      }
    },
    {
      "cell_type": "markdown",
      "source": [
        " Build a quick section showing:\n",
        "\n",
        " Total revenue\n",
        "\n"
      ],
      "metadata": {
        "id": "xbumwBQwyE-4"
      }
    },
    {
      "cell_type": "code",
      "source": [
        "import matplotlib.pyplot as plt\n",
        "import pandas as pd\n",
        "from pyspark.sql import functions as F\n",
        "\n",
        "# 1) Total Revenue\n",
        "total_revenue = gold_df.groupBy().sum(\"total_amount\").collect()[0][0]\n",
        "print(f\"Total Revenue: {total_revenue:.2f}\")\n"
      ],
      "metadata": {
        "colab": {
          "base_uri": "https://localhost:8080/"
        },
        "id": "uQxt3ocnyEmt",
        "outputId": "1b490d12-b5aa-4487-fa63-c89f8a26e12d"
      },
      "execution_count": 53,
      "outputs": [
        {
          "output_type": "stream",
          "name": "stdout",
          "text": [
            "Total Revenue: 3312.00\n"
          ]
        }
      ]
    },
    {
      "cell_type": "markdown",
      "source": [
        "Trips per city (bar)\n"
      ],
      "metadata": {
        "id": "KidbFK5QDZ_m"
      }
    },
    {
      "cell_type": "code",
      "source": [
        "city_trips = (\n",
        "    gold_df.groupBy(\"city\")\n",
        "           .count()\n",
        "           .orderBy(F.desc(\"count\"))\n",
        "           .toPandas()\n",
        ")\n",
        "plt.figure(figsize=(6,4))\n",
        "plt.bar(city_trips[\"city\"], city_trips[\"count\"], color=\"pink\")\n",
        "plt.title(\"Trips per City\")\n",
        "plt.xlabel(\"City\")\n",
        "plt.ylabel(\"Number of Trips\")\n",
        "plt.tight_layout()\n",
        "plt.show()"
      ],
      "metadata": {
        "colab": {
          "base_uri": "https://localhost:8080/",
          "height": 407
        },
        "id": "IMdIlzGODbvo",
        "outputId": "19ceed99-518f-49af-a6c6-c2bdf75fb224"
      },
      "execution_count": 54,
      "outputs": [
        {
          "output_type": "display_data",
          "data": {
            "text/plain": [
              "<Figure size 600x400 with 1 Axes>"
            ],
            "image/png": "[encoded data removed]"
          },
          "metadata": {}
        }
      ]
    },
    {
      "cell_type": "markdown",
      "source": [
        "Top drivers by revenue (bar)\n"
      ],
      "metadata": {
        "id": "RnjUdTtFDcCI"
      }
    },
    {
      "cell_type": "code",
      "source": [
        "driver_revenue = (\n",
        "    gold_df.groupBy(\"driver_name\")\n",
        "           .sum(\"total_amount\")\n",
        "           .withColumnRenamed(\"sum(total_amount)\", \"revenue\")\n",
        "           .orderBy(F.desc(\"revenue\"))\n",
        "           .limit(5)\n",
        "           .toPandas()\n",
        ")\n",
        "plt.figure(figsize=(6,4))\n",
        "plt.bar(driver_revenue[\"driver_name\"], driver_revenue[\"revenue\"], color=\"purple\")\n",
        "plt.title(\"Top Drivers by Revenue\")\n",
        "plt.xlabel(\"Driver\")\n",
        "plt.ylabel(\"Revenue\")\n",
        "plt.tight_layout()\n",
        "plt.show()"
      ],
      "metadata": {
        "colab": {
          "base_uri": "https://localhost:8080/",
          "height": 407
        },
        "id": "VFS-Fx8ADgvq",
        "outputId": "2985092f-8806-4079-a496-23f6c5d218ae"
      },
      "execution_count": 55,
      "outputs": [
        {
          "output_type": "display_data",
          "data": {
            "text/plain": [
              "<Figure size 600x400 with 1 Axes>"
            ],
            "image/png": "[encoded data removed]"
          },
          "metadata": {}
        }
      ]
    },
    {
      "cell_type": "markdown",
      "source": [
        "\n",
        " Revenue by hour (line)"
      ],
      "metadata": {
        "id": "omlpsU1SDhA4"
      }
    },
    {
      "cell_type": "code",
      "source": [
        "hourly_revenue = (\n",
        "    gold_df.withColumn(\"hour\", F.hour(\"ts\"))\n",
        "           .groupBy(\"hour\")\n",
        "           .sum(\"total_amount\")\n",
        "           .withColumnRenamed(\"sum(total_amount)\", \"revenue\")\n",
        "           .orderBy(\"hour\")\n",
        "           .toPandas()\n",
        ")\n",
        "plt.figure(figsize=(7,4))\n",
        "plt.plot(hourly_revenue[\"hour\"], hourly_revenue[\"revenue\"], marker=\"o\", linestyle=\"-\")\n",
        "plt.rcParams['axes.prop_cycle'] = plt.cycler(color=['teal'])\n",
        "plt.title(\"Revenue by Hour\")\n",
        "plt.xlabel(\"Hour of Day\")\n",
        "plt.ylabel(\"Revenue\")\n",
        "plt.grid(True)\n",
        "plt.tight_layout()\n",
        "plt.show()"
      ],
      "metadata": {
        "colab": {
          "base_uri": "https://localhost:8080/",
          "height": 381
        },
        "id": "ZCQeCc3BEXk1",
        "outputId": "a5829c9b-5856-409e-958b-dae221ec8dbd"
      },
      "execution_count": 56,
      "outputs": [
        {
          "output_type": "display_data",
          "data": {
            "text/plain": [
              "<Figure size 700x400 with 1 Axes>"
            ],
            "image/png": "[encoded data removed]"
          },
          "metadata": {}
        }
      ]
    }
  ]
}