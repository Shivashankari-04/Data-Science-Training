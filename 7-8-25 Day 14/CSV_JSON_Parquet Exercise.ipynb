{
 "cells": [
  {
   "cell_type": "markdown",
   "metadata": {
    "application/vnd.databricks.v1+cell": {
     "cellMetadata": {},
     "inputWidgets": {},
     "nuid": "f58271af-65e3-4235-ac8b-64b8a4e19c77",
     "showTitle": false,
     "tableResultSettingsMap": {},
     "title": ""
    }
   },
   "source": [
    "1. Read the above data from CSV into a DataFrame and print the schema."
   ]
  },
  {
   "cell_type": "code",
   "execution_count": 0,
   "metadata": {
    "application/vnd.databricks.v1+cell": {
     "cellMetadata": {
      "byteLimit": 2048000,
      "rowLimit": 10000
     },
     "inputWidgets": {},
     "nuid": "837a0ac5-4133-44ac-a763-5ce2e1611388",
     "showTitle": false,
     "tableResultSettingsMap": {},
     "title": ""
    }
   },
   "outputs": [
    {
     "output_type": "stream",
     "name": "stdout",
     "output_type": "stream",
     "text": [
      "root\n |-- product_id: integer (nullable = true)\n |-- product_name: string (nullable = true)\n |-- category: string (nullable = true)\n |-- price: integer (nullable = true)\n |-- quantity: integer (nullable = true)\n\n"
     ]
    }
   ],
   "source": [
    "# Read the CSV\n",
    "df_csv = spark.read.option(\"header\", True).option(\"inferSchema\", True).csv(\"/FileStore/tables/products.csv\")\n",
    "df_csv.printSchema()\n"
   ]
  },
  {
   "cell_type": "markdown",
   "metadata": {
    "application/vnd.databricks.v1+cell": {
     "cellMetadata": {},
     "inputWidgets": {},
     "nuid": "3f6adb5a-1069-418b-87c1-eb47695f1e9c",
     "showTitle": false,
     "tableResultSettingsMap": {},
     "title": ""
    }
   },
   "source": [
    "2. Read the same data from JSON and compare with the CSV schema. Any differences?"
   ]
  },
  {
   "cell_type": "code",
   "execution_count": 0,
   "metadata": {
    "application/vnd.databricks.v1+cell": {
     "cellMetadata": {
      "byteLimit": 2048000,
      "rowLimit": 10000
     },
     "inputWidgets": {},
     "nuid": "87ffc8ff-eb6c-4f7c-8924-fb5dd7ad77eb",
     "showTitle": false,
     "tableResultSettingsMap": {},
     "title": ""
    }
   },
   "outputs": [
    {
     "output_type": "stream",
     "name": "stdout",
     "output_type": "stream",
     "text": [
      "root\n |-- _corrupt_record: string (nullable = true)\n |-- category: string (nullable = true)\n |-- price: long (nullable = true)\n |-- product_id: long (nullable = true)\n |-- product_name: string (nullable = true)\n |-- quantity: long (nullable = true)\n\n"
     ]
    }
   ],
   "source": [
    "# Read the JSON\n",
    "df_json = spark.read.option(\"inferSchema\", True).json(\"/FileStore/tables/products.json\")\n",
    "df_json.printSchema()"
   ]
  },
  {
   "cell_type": "markdown",
   "metadata": {
    "application/vnd.databricks.v1+cell": {
     "cellMetadata": {},
     "inputWidgets": {},
     "nuid": "e0a007a1-943a-428a-8c4e-8032d8aa6b1e",
     "showTitle": false,
     "tableResultSettingsMap": {},
     "title": ""
    }
   },
   "source": [
    "3. Convert the CSV data into Parquet format and save to disk."
   ]
  },
  {
   "cell_type": "code",
   "execution_count": 0,
   "metadata": {
    "application/vnd.databricks.v1+cell": {
     "cellMetadata": {
      "byteLimit": 2048000,
      "rowLimit": 10000
     },
     "inputWidgets": {},
     "nuid": "c62a5cb6-21e4-4293-b192-e755a07ac163",
     "showTitle": false,
     "tableResultSettingsMap": {},
     "title": ""
    }
   },
   "outputs": [
    {
     "output_type": "stream",
     "name": "stdout",
     "output_type": "stream",
     "text": [
      "+----------+------------+-----------+-----+--------+\n|product_id|product_name|   category|price|quantity|\n+----------+------------+-----------+-----+--------+\n|       101|      Laptop|Electronics|55000|      10|\n|       102|  Smartphone|Electronics|30000|      25|\n|       103|       Chair|  Furniture| 2500|      50|\n|       104|        Book| Stationery|  400|     200|\n|       105|  Headphones|Electronics| 1500|     100|\n|       106|       Table|  Furniture| 3200|      40|\n|       107|         Pen| Stationery|   20|     500|\n|       108|     Monitor|Electronics|12000|      15|\n|       109|    Notebook| Stationery|   60|     300|\n|       110|        Sofa|  Furniture|45000|       5|\n+----------+------------+-----------+-----+--------+\n\nroot\n |-- product_id: integer (nullable = true)\n |-- product_name: string (nullable = true)\n |-- category: string (nullable = true)\n |-- price: integer (nullable = true)\n |-- quantity: integer (nullable = true)\n\n"
     ]
    }
   ],
   "source": [
    "df_csv.write.mode(\"overwrite\").parquet(\"dbfs:/FileStore/tables/products_parquet\")\n",
    "\n",
    "df_parquet = spark.read.parquet(\"dbfs:/FileStore/tables/products_parquet\")\n",
    "df_parquet.show()\n",
    "df_parquet.printSchema()"
   ]
  },
  {
   "cell_type": "markdown",
   "metadata": {
    "application/vnd.databricks.v1+cell": {
     "cellMetadata": {},
     "inputWidgets": {},
     "nuid": "db8cfff5-d372-40a4-ba86-7c11ff51462a",
     "showTitle": false,
     "tableResultSettingsMap": {},
     "title": ""
    }
   },
   "source": [
    "4. Measure the size of CSV vs JSON vs Parquet on disk. Which one is smallest?"
   ]
  },
  {
   "cell_type": "code",
   "execution_count": 0,
   "metadata": {
    "application/vnd.databricks.v1+cell": {
     "cellMetadata": {
      "byteLimit": 2048000,
      "rowLimit": 10000
     },
     "inputWidgets": {},
     "nuid": "0b9189fe-8d6f-40a0-827d-d0dafe437dc4",
     "showTitle": false,
     "tableResultSettingsMap": {},
     "title": ""
    }
   },
   "outputs": [
    {
     "output_type": "stream",
     "name": "stdout",
     "output_type": "stream",
     "text": [
      "CSV size: 364 bytes\nJSON size: 990 bytes\nParquet size: 1839 bytes\n"
     ]
    }
   ],
   "source": [
    "# Get sizes using dbutils (works in notebooks & jobs)\n",
    "csv_files = dbutils.fs.ls(\"dbfs:/FileStore/tables/products.csv\")\n",
    "json_files = dbutils.fs.ls(\"dbfs:/FileStore/tables/products.json\")\n",
    "parquet_files = dbutils.fs.ls(\"dbfs:/FileStore/tables/products_parquet\")\n",
    "\n",
    "csv_size = sum(f.size for f in csv_files)\n",
    "json_size = sum(f.size for f in json_files)\n",
    "parquet_size = sum(f.size for f in parquet_files)\n",
    "\n",
    "print(\"CSV size:\", csv_size, \"bytes\")\n",
    "print(\"JSON size:\", json_size, \"bytes\")\n",
    "print(\"Parquet size:\", parquet_size, \"bytes\")\n",
    "\n"
   ]
  },
  {
   "cell_type": "markdown",
   "metadata": {
    "application/vnd.databricks.v1+cell": {
     "cellMetadata": {},
     "inputWidgets": {},
     "nuid": "6281eae0-9c4d-499c-8100-4374ef39b98c",
     "showTitle": false,
     "tableResultSettingsMap": {},
     "title": ""
    }
   },
   "source": [
    "5. Add a column total_revenue = price * quantity for each record."
   ]
  },
  {
   "cell_type": "code",
   "execution_count": 0,
   "metadata": {
    "application/vnd.databricks.v1+cell": {
     "cellMetadata": {
      "byteLimit": 2048000,
      "rowLimit": 10000
     },
     "inputWidgets": {},
     "nuid": "f0351b68-7fb1-4501-b8bf-c5d05ba1e700",
     "showTitle": false,
     "tableResultSettingsMap": {},
     "title": ""
    }
   },
   "outputs": [
    {
     "output_type": "stream",
     "name": "stdout",
     "output_type": "stream",
     "text": [
      "+----------+------------+-----------+-----+--------+-------------+\n|product_id|product_name|   category|price|quantity|total_revenue|\n+----------+------------+-----------+-----+--------+-------------+\n|       101|      Laptop|Electronics|55000|      10|       550000|\n|       102|  Smartphone|Electronics|30000|      25|       750000|\n|       103|       Chair|  Furniture| 2500|      50|       125000|\n|       104|        Book| Stationery|  400|     200|        80000|\n|       105|  Headphones|Electronics| 1500|     100|       150000|\n|       106|       Table|  Furniture| 3200|      40|       128000|\n|       107|         Pen| Stationery|   20|     500|        10000|\n|       108|     Monitor|Electronics|12000|      15|       180000|\n|       109|    Notebook| Stationery|   60|     300|        18000|\n|       110|        Sofa|  Furniture|45000|       5|       225000|\n+----------+------------+-----------+-----+--------+-------------+\n\n"
     ]
    }
   ],
   "source": [
    "from pyspark.sql.functions import col\n",
    "df_with_revenue = df_csv.withColumn(\"total_revenue\", col(\"price\") * col(\"quantity\"))\n",
    "df_with_revenue.show()\n"
   ]
  },
  {
   "cell_type": "markdown",
   "metadata": {
    "application/vnd.databricks.v1+cell": {
     "cellMetadata": {},
     "inputWidgets": {},
     "nuid": "3094492f-286b-41b3-93d1-bc3ce7432491",
     "showTitle": false,
     "tableResultSettingsMap": {},
     "title": ""
    }
   },
   "source": [
    "6. Find the top 3 products with the highest total revenue."
   ]
  },
  {
   "cell_type": "code",
   "execution_count": 0,
   "metadata": {
    "application/vnd.databricks.v1+cell": {
     "cellMetadata": {
      "byteLimit": 2048000,
      "rowLimit": 10000
     },
     "inputWidgets": {},
     "nuid": "6eb27622-3e70-4051-aa94-0a80288c99a0",
     "showTitle": false,
     "tableResultSettingsMap": {},
     "title": ""
    }
   },
   "outputs": [
    {
     "output_type": "stream",
     "name": "stdout",
     "output_type": "stream",
     "text": [
      "+----------+------------+-----------+-----+--------+-------------+\n|product_id|product_name|   category|price|quantity|total_revenue|\n+----------+------------+-----------+-----+--------+-------------+\n|       102|  Smartphone|Electronics|30000|      25|       750000|\n|       101|      Laptop|Electronics|55000|      10|       550000|\n|       110|        Sofa|  Furniture|45000|       5|       225000|\n+----------+------------+-----------+-----+--------+-------------+\nonly showing top 3 rows\n"
     ]
    }
   ],
   "source": [
    "top3_df = df_with_revenue.orderBy(col(\"total_revenue\").desc())\n",
    "top3_df.show(3)"
   ]
  },
  {
   "cell_type": "markdown",
   "metadata": {
    "application/vnd.databricks.v1+cell": {
     "cellMetadata": {},
     "inputWidgets": {},
     "nuid": "d3a462fa-8b7d-4c89-a8f4-99107f4499b2",
     "showTitle": false,
     "tableResultSettingsMap": {},
     "title": ""
    }
   },
   "source": [
    "7. Filter and display only Furniture products with price > 3000."
   ]
  },
  {
   "cell_type": "code",
   "execution_count": 0,
   "metadata": {
    "application/vnd.databricks.v1+cell": {
     "cellMetadata": {
      "byteLimit": 2048000,
      "rowLimit": 10000
     },
     "inputWidgets": {},
     "nuid": "af28eec7-e6f9-48ee-9615-ffc44237ab6f",
     "showTitle": false,
     "tableResultSettingsMap": {},
     "title": ""
    }
   },
   "outputs": [
    {
     "output_type": "stream",
     "name": "stdout",
     "output_type": "stream",
     "text": [
      "+----------+------------+---------+-----+--------+-------------+\n|product_id|product_name| category|price|quantity|total_revenue|\n+----------+------------+---------+-----+--------+-------------+\n|       106|       Table|Furniture| 3200|      40|       128000|\n|       110|        Sofa|Furniture|45000|       5|       225000|\n+----------+------------+---------+-----+--------+-------------+\n\n"
     ]
    }
   ],
   "source": [
    "df_furniture = df_with_revenue.filter((col(\"category\") == \"Furniture\") &(col(\"price\") > 3000) )\n",
    "df_furniture.show()"
   ]
  },
  {
   "cell_type": "markdown",
   "metadata": {
    "application/vnd.databricks.v1+cell": {
     "cellMetadata": {},
     "inputWidgets": {},
     "nuid": "d5b9b54b-e045-4804-be7a-19aec576edc2",
     "showTitle": false,
     "tableResultSettingsMap": {},
     "title": ""
    }
   },
   "source": [
    "8. Create a new column price_band with values:\n",
    "'High' if price > 10000\n",
    "'Medium' if 3000 < price <= 10000\n",
    "'Low' if price ≤ 3000"
   ]
  },
  {
   "cell_type": "code",
   "execution_count": 0,
   "metadata": {
    "application/vnd.databricks.v1+cell": {
     "cellMetadata": {
      "byteLimit": 2048000,
      "rowLimit": 10000
     },
     "inputWidgets": {},
     "nuid": "2c3967b8-1784-49d9-83b0-1491cec12840",
     "showTitle": false,
     "tableResultSettingsMap": {},
     "title": ""
    }
   },
   "outputs": [
    {
     "output_type": "stream",
     "name": "stdout",
     "output_type": "stream",
     "text": [
      "+----------+------------+-----------+-----+--------+-------------+----------+\n|product_id|product_name|   category|price|quantity|total_revenue|price_band|\n+----------+------------+-----------+-----+--------+-------------+----------+\n|       101|      Laptop|Electronics|55000|      10|       550000|      High|\n|       102|  Smartphone|Electronics|30000|      25|       750000|      High|\n|       103|       Chair|  Furniture| 2500|      50|       125000|       Low|\n|       104|        Book| Stationery|  400|     200|        80000|       Low|\n|       105|  Headphones|Electronics| 1500|     100|       150000|       Low|\n|       106|       Table|  Furniture| 3200|      40|       128000|    Medium|\n|       107|         Pen| Stationery|   20|     500|        10000|       Low|\n|       108|     Monitor|Electronics|12000|      15|       180000|      High|\n|       109|    Notebook| Stationery|   60|     300|        18000|       Low|\n|       110|        Sofa|  Furniture|45000|       5|       225000|      High|\n+----------+------------+-----------+-----+--------+-------------+----------+\n\n"
     ]
    }
   ],
   "source": [
    "from pyspark.sql.functions import when\n",
    "\n",
    "df_with_band = df_with_revenue.withColumn(\"price_band\", \n",
    "                                          when(col(\"price\") > 10000, \"High\")\n",
    "                                          .when((col(\"price\") > 3000) & (col(\"price\") <= 10000), \"Medium\")\n",
    "                                          .otherwise(\"Low\"))\n",
    "df_with_band.show()\n"
   ]
  },
  {
   "cell_type": "markdown",
   "metadata": {
    "application/vnd.databricks.v1+cell": {
     "cellMetadata": {},
     "inputWidgets": {},
     "nuid": "7d74866f-cf67-4abf-bde4-484c5734972a",
     "showTitle": false,
     "tableResultSettingsMap": {},
     "title": ""
    }
   },
   "source": [
    "9. Group by category and calculate total quantity sold."
   ]
  },
  {
   "cell_type": "code",
   "execution_count": 0,
   "metadata": {
    "application/vnd.databricks.v1+cell": {
     "cellMetadata": {
      "byteLimit": 2048000,
      "rowLimit": 10000
     },
     "inputWidgets": {},
     "nuid": "a4fe22e0-dd54-4b14-bd62-5c88a9a7acb4",
     "showTitle": false,
     "tableResultSettingsMap": {},
     "title": ""
    }
   },
   "outputs": [
    {
     "output_type": "stream",
     "name": "stdout",
     "output_type": "stream",
     "text": [
      "+-----------+--------------+\n|   category|total_quantity|\n+-----------+--------------+\n|  Furniture|            95|\n| Stationery|          1000|\n|Electronics|           150|\n+-----------+--------------+\n\n"
     ]
    }
   ],
   "source": [
    "df_with_band.groupBy(\"category\").sum(\"quantity\").withColumnRenamed(\"sum(quantity)\", \"total_quantity\").show()"
   ]
  },
  {
   "cell_type": "markdown",
   "metadata": {
    "application/vnd.databricks.v1+cell": {
     "cellMetadata": {},
     "inputWidgets": {},
     "nuid": "66b93abf-7650-486d-a9b4-f6bda9dddc8d",
     "showTitle": false,
     "tableResultSettingsMap": {},
     "title": ""
    }
   },
   "source": [
    "10. Calculate average price of products for each category."
   ]
  },
  {
   "cell_type": "code",
   "execution_count": 0,
   "metadata": {
    "application/vnd.databricks.v1+cell": {
     "cellMetadata": {
      "byteLimit": 2048000,
      "rowLimit": 10000
     },
     "inputWidgets": {},
     "nuid": "92ee0fd9-f4b3-4d15-9271-e3157e61f366",
     "showTitle": false,
     "tableResultSettingsMap": {},
     "title": ""
    }
   },
   "outputs": [
    {
     "output_type": "stream",
     "name": "stdout",
     "output_type": "stream",
     "text": [
      "+-----------+---------+\n|   category|avg_price|\n+-----------+---------+\n|  Furniture|  16900.0|\n| Stationery|    160.0|\n|Electronics|  24625.0|\n+-----------+---------+\n\n"
     ]
    }
   ],
   "source": [
    "df_with_band.groupBy(\"category\").avg(\"price\").withColumnRenamed(\"avg(price)\", \"avg_price\").show()"
   ]
  },
  {
   "cell_type": "markdown",
   "metadata": {
    "application/vnd.databricks.v1+cell": {
     "cellMetadata": {},
     "inputWidgets": {},
     "nuid": "77c761aa-bfb3-48f7-b90b-7ab5e2ea5531",
     "showTitle": false,
     "tableResultSettingsMap": {},
     "title": ""
    }
   },
   "source": [
    "11. Count how many products fall in each price_band ."
   ]
  },
  {
   "cell_type": "code",
   "execution_count": 0,
   "metadata": {
    "application/vnd.databricks.v1+cell": {
     "cellMetadata": {
      "byteLimit": 2048000,
      "rowLimit": 10000
     },
     "inputWidgets": {},
     "nuid": "25d2777e-5ded-4a53-80a3-e8f8f69fe5a4",
     "showTitle": false,
     "tableResultSettingsMap": {},
     "title": ""
    }
   },
   "outputs": [
    {
     "output_type": "stream",
     "name": "stdout",
     "output_type": "stream",
     "text": [
      "+----------+-----+\n|price_band|count|\n+----------+-----+\n|    Medium|    1|\n|      High|    4|\n|       Low|    5|\n+----------+-----+\n\n"
     ]
    }
   ],
   "source": [
    "df_with_band.groupBy(\"price_band\").count().show()"
   ]
  },
  {
   "cell_type": "markdown",
   "metadata": {
    "application/vnd.databricks.v1+cell": {
     "cellMetadata": {},
     "inputWidgets": {},
     "nuid": "387c3a41-c43d-43a3-9113-7ed488e7df82",
     "showTitle": false,
     "tableResultSettingsMap": {},
     "title": ""
    }
   },
   "source": [
    "12. Write the filtered Electronics products (price > 5000) into a Parquet file."
   ]
  },
  {
   "cell_type": "code",
   "execution_count": 0,
   "metadata": {
    "application/vnd.databricks.v1+cell": {
     "cellMetadata": {
      "byteLimit": 2048000,
      "rowLimit": 10000
     },
     "inputWidgets": {},
     "nuid": "418735ed-e936-4240-b7fb-cbb74195d00b",
     "showTitle": false,
     "tableResultSettingsMap": {},
     "title": ""
    }
   },
   "outputs": [],
   "source": [
    "df_with_band.filter((col(\"category\") == \"Electronics\") & (col(\"price\") > 5000)) \\\n",
    "    .write.mode(\"overwrite\").parquet(\"dbfs:/FileStore/tables/products_electronics.parquet\")"
   ]
  },
  {
   "cell_type": "code",
   "execution_count": 0,
   "metadata": {
    "application/vnd.databricks.v1+cell": {
     "cellMetadata": {
      "byteLimit": 2048000,
      "rowLimit": 10000
     },
     "inputWidgets": {},
     "nuid": "daea95c4-d24c-478b-8c34-8183712e53af",
     "showTitle": false,
     "tableResultSettingsMap": {},
     "title": ""
    }
   },
   "outputs": [
    {
     "output_type": "stream",
     "name": "stdout",
     "output_type": "stream",
     "text": [
      "+----------+------------+-----------+-----+--------+-------------+----------+\n|product_id|product_name|   category|price|quantity|total_revenue|price_band|\n+----------+------------+-----------+-----+--------+-------------+----------+\n|       101|      Laptop|Electronics|55000|      10|       550000|      High|\n|       102|  Smartphone|Electronics|30000|      25|       750000|      High|\n|       108|     Monitor|Electronics|12000|      15|       180000|      High|\n+----------+------------+-----------+-----+--------+-------------+----------+\n\n"
     ]
    }
   ],
   "source": [
    "spark.read.parquet(\"dbfs:/FileStore/tables/products_electronics.parquet\").show()\n"
   ]
  },
  {
   "cell_type": "markdown",
   "metadata": {
    "application/vnd.databricks.v1+cell": {
     "cellMetadata": {},
     "inputWidgets": {},
     "nuid": "5f343ba4-118b-46d6-8c79-24127d2aa604",
     "showTitle": false,
     "tableResultSettingsMap": {},
     "title": ""
    }
   },
   "source": [
    "13. Write the Stationery products into a JSON file."
   ]
  },
  {
   "cell_type": "code",
   "execution_count": 0,
   "metadata": {
    "application/vnd.databricks.v1+cell": {
     "cellMetadata": {
      "byteLimit": 2048000,
      "rowLimit": 10000
     },
     "inputWidgets": {},
     "nuid": "1d06cf26-cda6-4af4-a7e8-80ef968f2f7b",
     "showTitle": false,
     "tableResultSettingsMap": {},
     "title": ""
    }
   },
   "outputs": [],
   "source": [
    "df_with_band.filter(col(\"category\") == \"Stationery\") \\\n",
    "    .write.mode(\"overwrite\").json(\"dbfs:/FileStore/tables/stationery_products.json\")\n"
   ]
  },
  {
   "cell_type": "code",
   "execution_count": 0,
   "metadata": {
    "application/vnd.databricks.v1+cell": {
     "cellMetadata": {
      "byteLimit": 2048000,
      "rowLimit": 10000
     },
     "inputWidgets": {},
     "nuid": "b820629d-807d-4a68-924c-df93d4451856",
     "showTitle": false,
     "tableResultSettingsMap": {},
     "title": ""
    }
   },
   "outputs": [
    {
     "output_type": "stream",
     "name": "stdout",
     "output_type": "stream",
     "text": [
      "+----------+-----+----------+----------+------------+--------+-------------+\n|  category|price|price_band|product_id|product_name|quantity|total_revenue|\n+----------+-----+----------+----------+------------+--------+-------------+\n|Stationery|  400|       Low|       104|        Book|     200|        80000|\n|Stationery|   20|       Low|       107|         Pen|     500|        10000|\n|Stationery|   60|       Low|       109|    Notebook|     300|        18000|\n+----------+-----+----------+----------+------------+--------+-------------+\n\n"
     ]
    }
   ],
   "source": [
    "spark.read.json(\"dbfs:/FileStore/tables/stationery_products.json\").show()\n"
   ]
  },
  {
   "cell_type": "markdown",
   "metadata": {
    "application/vnd.databricks.v1+cell": {
     "cellMetadata": {},
     "inputWidgets": {},
     "nuid": "c90261a9-5da4-420e-bb30-1ac2a2d79885",
     "showTitle": false,
     "tableResultSettingsMap": {},
     "title": ""
    }
   },
   "source": [
    "14. Load Parquet back and run a query to find which category has highest total\n",
    "revenue."
   ]
  },
  {
   "cell_type": "code",
   "execution_count": 0,
   "metadata": {
    "application/vnd.databricks.v1+cell": {
     "cellMetadata": {
      "byteLimit": 2048000,
      "rowLimit": 10000
     },
     "inputWidgets": {},
     "nuid": "7236ae10-9fd1-456e-b238-885d2dd99286",
     "showTitle": false,
     "tableResultSettingsMap": {},
     "title": ""
    }
   },
   "outputs": [],
   "source": [
    "#Load the parquet file\n",
    "df_parquet = spark.read.parquet(\"dbfs:/FileStore/tables/products_parquet\")\n"
   ]
  },
  {
   "cell_type": "code",
   "execution_count": 0,
   "metadata": {
    "application/vnd.databricks.v1+cell": {
     "cellMetadata": {
      "byteLimit": 2048000,
      "rowLimit": 10000
     },
     "inputWidgets": {},
     "nuid": "e1b705af-442f-4920-bd38-269c4162199b",
     "showTitle": false,
     "tableResultSettingsMap": {},
     "title": ""
    }
   },
   "outputs": [
    {
     "output_type": "stream",
     "name": "stdout",
     "output_type": "stream",
     "text": [
      "+-----------+------------------+\n|   category|sum(total_revenue)|\n+-----------+------------------+\n|Electronics|           1630000|\n+-----------+------------------+\nonly showing top 1 row\n"
     ]
    }
   ],
   "source": [
    "df_parquet = df_parquet.withColumn(\"total_revenue\", col(\"price\") * col(\"quantity\"))\n",
    "\n",
    "df_parquet.groupBy(\"category\").sum(\"total_revenue\") \\\n",
    "    .orderBy(col(\"sum(total_revenue)\").desc()).show(1)\n"
   ]
  },
  {
   "cell_type": "markdown",
   "metadata": {
    "application/vnd.databricks.v1+cell": {
     "cellMetadata": {},
     "inputWidgets": {},
     "nuid": "40827378-db08-40da-9336-2ace66aced7a",
     "showTitle": false,
     "tableResultSettingsMap": {},
     "title": ""
    }
   },
   "source": [
    "15. BONUS: Create a temporary view from the DataFrame and run Spark SQL to find all\n",
    "products with quantity > 100 and price < 1000."
   ]
  },
  {
   "cell_type": "code",
   "execution_count": 0,
   "metadata": {
    "application/vnd.databricks.v1+cell": {
     "cellMetadata": {
      "byteLimit": 2048000,
      "rowLimit": 10000
     },
     "inputWidgets": {},
     "nuid": "4df9ea94-6935-4ec4-8057-88a39a5add50",
     "showTitle": false,
     "tableResultSettingsMap": {},
     "title": ""
    }
   },
   "outputs": [
    {
     "output_type": "stream",
     "name": "stdout",
     "output_type": "stream",
     "text": [
      "+----------+------------+----------+-----+--------+-------------+----------+\n|product_id|product_name|  category|price|quantity|total_revenue|price_band|\n+----------+------------+----------+-----+--------+-------------+----------+\n|       104|        Book|Stationery|  400|     200|        80000|       Low|\n|       107|         Pen|Stationery|   20|     500|        10000|       Low|\n|       109|    Notebook|Stationery|   60|     300|        18000|       Low|\n+----------+------------+----------+-----+--------+-------------+----------+\n\n"
     ]
    }
   ],
   "source": [
    "# Create a temporary view\n",
    "df_with_band.createOrReplaceTempView(\"products_view\")\n",
    "\n",
    "# Run Spark SQL query\n",
    "spark.sql(\"\"\"\n",
    "    SELECT * FROM products_view\n",
    "    WHERE quantity > 100 AND price < 1000\n",
    "\"\"\").show()\n"
   ]
  }
 ],
 "metadata": {
  "application/vnd.databricks.v1+notebook": {
   "computePreferences": null,
   "dashboards": [],
   "environmentMetadata": {
    "base_environment": "",
    "environment_version": "2"
   },
   "inputWidgetPreferences": null,
   "language": "python",
   "notebookMetadata": {
    "pythonIndentUnit": 4
   },
   "notebookName": "CSV_JSON_Parquet Exercise",
   "widgets": {}
  },
  "language_info": {
   "name": "python"
  }
 },
 "nbformat": 4,
 "nbformat_minor": 0
}