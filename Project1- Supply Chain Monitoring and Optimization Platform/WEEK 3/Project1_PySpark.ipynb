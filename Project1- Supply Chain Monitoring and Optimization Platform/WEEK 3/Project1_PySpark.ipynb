{
  "nbformat": 4,
  "nbformat_minor": 0,
  "metadata": {
    "colab": {
      "provenance": []
    },
    "kernelspec": {
      "name": "python3",
      "display_name": "Python 3"
    },
    "language_info": {
      "name": "python"
    }
  },
  "cells": [
    {
      "cell_type": "markdown",
      "source": [
        "# Week 3 – Intro to PySpark: Processing Big Data"
      ],
      "metadata": {
        "id": "cP-fXndkbgYJ"
      }
    },
    {
      "cell_type": "markdown",
      "source": [
        "# Step 1: Install and Initialize PySpark"
      ],
      "metadata": {
        "id": "Zgik0uLCbnox"
      }
    },
    {
      "cell_type": "code",
      "execution_count": 1,
      "metadata": {
        "colab": {
          "base_uri": "https://localhost:8080/"
        },
        "id": "4YjyYBujbV8x",
        "outputId": "06d6f688-e792-454e-ed77-9275e15c4d58"
      },
      "outputs": [
        {
          "output_type": "stream",
          "name": "stdout",
          "text": [
            "Requirement already satisfied: pyspark in /usr/local/lib/python3.11/dist-packages (3.5.1)\n",
            "Requirement already satisfied: py4j==0.10.9.7 in /usr/local/lib/python3.11/dist-packages (from pyspark) (0.10.9.7)\n"
          ]
        }
      ],
      "source": [
        "!pip install pyspark"
      ]
    },
    {
      "cell_type": "code",
      "source": [
        "from pyspark.sql import SparkSession\n",
        "from pyspark.sql.functions import *\n",
        "\n",
        "spark = SparkSession.builder \\\n",
        "    .appName(\"SupplyChainWeek3\") \\\n",
        "    .getOrCreate()\n"
      ],
      "metadata": {
        "id": "ojOqw4A6b4Bt"
      },
      "execution_count": 4,
      "outputs": []
    },
    {
      "cell_type": "markdown",
      "source": [
        "# Step 2: Upload CSVs"
      ],
      "metadata": {
        "id": "wzTmI9aEb84t"
      }
    },
    {
      "cell_type": "code",
      "source": [
        "from google.colab import files\n",
        "uploaded = files.upload()\n"
      ],
      "metadata": {
        "colab": {
          "base_uri": "https://localhost:8080/",
          "height": 142
        },
        "id": "7VEFVq0Rb8SS",
        "outputId": "016c96eb-9d1c-4cbe-f475-26ce9334d5ae"
      },
      "execution_count": 5,
      "outputs": [
        {
          "output_type": "display_data",
          "data": {
            "text/plain": [
              "<IPython.core.display.HTML object>"
            ],
            "text/html": [
              "\n",
              "     <input type=\"file\" id=\"files-06e85cba-26a5-4781-bf53-d7e0fbf8c9e8\" name=\"files[]\" multiple disabled\n",
              "        style=\"border:none\" />\n",
              "     <output id=\"result-06e85cba-26a5-4781-bf53-d7e0fbf8c9e8\">\n",
              "      Upload widget is only available when the cell has been executed in the\n",
              "      current browser session. Please rerun this cell to enable.\n",
              "      </output>\n",
              "      <script>// Copyright 2017 Google LLC\n",
              "//\n",
              "// Licensed under the Apache License, Version 2.0 (the \"License\");\n",
              "// you may not use this file except in compliance with the License.\n",
              "// You may obtain a copy of the License at\n",
              "//\n",
              "//      http://www.apache.org/licenses/LICENSE-2.0\n",
              "//\n",
              "// Unless required by applicable law or agreed to in writing, software\n",
              "// distributed under the License is distributed on an \"AS IS\" BASIS,\n",
              "// WITHOUT WARRANTIES OR CONDITIONS OF ANY KIND, either express or implied.\n",
              "// See the License for the specific language governing permissions and\n",
              "// limitations under the License.\n",
              "\n",
              "/**\n",
              " * @fileoverview Helpers for google.colab Python module.\n",
              " */\n",
              "(function(scope) {\n",
              "function span(text, styleAttributes = {}) {\n",
              "  const element = document.createElement('span');\n",
              "  element.textContent = text;\n",
              "  for (const key of Object.keys(styleAttributes)) {\n",
              "    element.style[key] = styleAttributes[key];\n",
              "  }\n",
              "  return element;\n",
              "}\n",
              "\n",
              "// Max number of bytes which will be uploaded at a time.\n",
              "const MAX_PAYLOAD_SIZE = 100 * 1024;\n",
              "\n",
              "function _uploadFiles(inputId, outputId) {\n",
              "  const steps = uploadFilesStep(inputId, outputId);\n",
              "  const outputElement = document.getElementById(outputId);\n",
              "  // Cache steps on the outputElement to make it available for the next call\n",
              "  // to uploadFilesContinue from Python.\n",
              "  outputElement.steps = steps;\n",
              "\n",
              "  return _uploadFilesContinue(outputId);\n",
              "}\n",
              "\n",
              "// This is roughly an async generator (not supported in the browser yet),\n",
              "// where there are multiple asynchronous steps and the Python side is going\n",
              "// to poll for completion of each step.\n",
              "// This uses a Promise to block the python side on completion of each step,\n",
              "// then passes the result of the previous step as the input to the next step.\n",
              "function _uploadFilesContinue(outputId) {\n",
              "  const outputElement = document.getElementById(outputId);\n",
              "  const steps = outputElement.steps;\n",
              "\n",
              "  const next = steps.next(outputElement.lastPromiseValue);\n",
              "  return Promise.resolve(next.value.promise).then((value) => {\n",
              "    // Cache the last promise value to make it available to the next\n",
              "    // step of the generator.\n",
              "    outputElement.lastPromiseValue = value;\n",
              "    return next.value.response;\n",
              "  });\n",
              "}\n",
              "\n",
              "/**\n",
              " * Generator function which is called between each async step of the upload\n",
              " * process.\n",
              " * @param {string} inputId Element ID of the input file picker element.\n",
              " * @param {string} outputId Element ID of the output display.\n",
              " * @return {!Iterable<!Object>} Iterable of next steps.\n",
              " */\n",
              "function* uploadFilesStep(inputId, outputId) {\n",
              "  const inputElement = document.getElementById(inputId);\n",
              "  inputElement.disabled = false;\n",
              "\n",
              "  const outputElement = document.getElementById(outputId);\n",
              "  outputElement.innerHTML = '';\n",
              "\n",
              "  const pickedPromise = new Promise((resolve) => {\n",
              "    inputElement.addEventListener('change', (e) => {\n",
              "      resolve(e.target.files);\n",
              "    });\n",
              "  });\n",
              "\n",
              "  const cancel = document.createElement('button');\n",
              "  inputElement.parentElement.appendChild(cancel);\n",
              "  cancel.textContent = 'Cancel upload';\n",
              "  const cancelPromise = new Promise((resolve) => {\n",
              "    cancel.onclick = () => {\n",
              "      resolve(null);\n",
              "    };\n",
              "  });\n",
              "\n",
              "  // Wait for the user to pick the files.\n",
              "  const files = yield {\n",
              "    promise: Promise.race([pickedPromise, cancelPromise]),\n",
              "    response: {\n",
              "      action: 'starting',\n",
              "    }\n",
              "  };\n",
              "\n",
              "  cancel.remove();\n",
              "\n",
              "  // Disable the input element since further picks are not allowed.\n",
              "  inputElement.disabled = true;\n",
              "\n",
              "  if (!files) {\n",
              "    return {\n",
              "      response: {\n",
              "        action: 'complete',\n",
              "      }\n",
              "    };\n",
              "  }\n",
              "\n",
              "  for (const file of files) {\n",
              "    const li = document.createElement('li');\n",
              "    li.append(span(file.name, {fontWeight: 'bold'}));\n",
              "    li.append(span(\n",
              "        `(${file.type || 'n/a'}) - ${file.size} bytes, ` +\n",
              "        `last modified: ${\n",
              "            file.lastModifiedDate ? file.lastModifiedDate.toLocaleDateString() :\n",
              "                                    'n/a'} - `));\n",
              "    const percent = span('0% done');\n",
              "    li.appendChild(percent);\n",
              "\n",
              "    outputElement.appendChild(li);\n",
              "\n",
              "    const fileDataPromise = new Promise((resolve) => {\n",
              "      const reader = new FileReader();\n",
              "      reader.onload = (e) => {\n",
              "        resolve(e.target.result);\n",
              "      };\n",
              "      reader.readAsArrayBuffer(file);\n",
              "    });\n",
              "    // Wait for the data to be ready.\n",
              "    let fileData = yield {\n",
              "      promise: fileDataPromise,\n",
              "      response: {\n",
              "        action: 'continue',\n",
              "      }\n",
              "    };\n",
              "\n",
              "    // Use a chunked sending to avoid message size limits. See b/62115660.\n",
              "    let position = 0;\n",
              "    do {\n",
              "      const length = Math.min(fileData.byteLength - position, MAX_PAYLOAD_SIZE);\n",
              "      const chunk = new Uint8Array(fileData, position, length);\n",
              "      position += length;\n",
              "\n",
              "      const base64 = btoa(String.fromCharCode.apply(null, chunk));\n",
              "      yield {\n",
              "        response: {\n",
              "          action: 'append',\n",
              "          file: file.name,\n",
              "          data: base64,\n",
              "        },\n",
              "      };\n",
              "\n",
              "      let percentDone = fileData.byteLength === 0 ?\n",
              "          100 :\n",
              "          Math.round((position / fileData.byteLength) * 100);\n",
              "      percent.textContent = `${percentDone}% done`;\n",
              "\n",
              "    } while (position < fileData.byteLength);\n",
              "  }\n",
              "\n",
              "  // All done.\n",
              "  yield {\n",
              "    response: {\n",
              "      action: 'complete',\n",
              "    }\n",
              "  };\n",
              "}\n",
              "\n",
              "scope.google = scope.google || {};\n",
              "scope.google.colab = scope.google.colab || {};\n",
              "scope.google.colab._files = {\n",
              "  _uploadFiles,\n",
              "  _uploadFilesContinue,\n",
              "};\n",
              "})(self);\n",
              "</script> "
            ]
          },
          "metadata": {}
        },
        {
          "output_type": "stream",
          "name": "stdout",
          "text": [
            "Saving inventory_table.csv to inventory_table.csv\n",
            "Saving orders_table.csv to orders_table.csv\n",
            "Saving suppliers_table.csv to suppliers_table.csv\n"
          ]
        }
      ]
    },
    {
      "cell_type": "markdown",
      "source": [
        "# Step 3: Load Files into Spark DataFrames"
      ],
      "metadata": {
        "id": "FP-KF94sbshX"
      }
    },
    {
      "cell_type": "code",
      "source": [
        "orders_df = spark.read.csv(\"orders_table.csv\", header=True, inferSchema=True)\n",
        "suppliers_df = spark.read.csv(\"suppliers_table.csv\", header=True, inferSchema=True)\n",
        "inventory_df = spark.read.csv(\"inventory_table.csv\", header=True, inferSchema=True)"
      ],
      "metadata": {
        "id": "ApjPBccKcscG"
      },
      "execution_count": 8,
      "outputs": []
    },
    {
      "cell_type": "markdown",
      "source": [
        "# Step 4: Check Data Schemas"
      ],
      "metadata": {
        "id": "cvqNf5wIenMB"
      }
    },
    {
      "cell_type": "code",
      "source": [
        "print(\"Orders Table Schema:\")\n",
        "orders_df.printSchema()\n",
        "\n",
        "print(\"Suppliers Table Schema:\")\n",
        "suppliers_df.printSchema()\n",
        "\n",
        "print(\"Inventory Table Schema:\")\n",
        "inventory_df.printSchema()\n"
      ],
      "metadata": {
        "colab": {
          "base_uri": "https://localhost:8080/"
        },
        "id": "nWhZXmGAeZ-k",
        "outputId": "6bc073f1-a67e-4d57-e742-77ee25f4302c"
      },
      "execution_count": 9,
      "outputs": [
        {
          "output_type": "stream",
          "name": "stdout",
          "text": [
            "Orders Table Schema:\n",
            "root\n",
            " |-- order_id: integer (nullable = true)\n",
            " |-- supplier_id: integer (nullable = true)\n",
            " |-- inventory_id: integer (nullable = true)\n",
            " |-- order_date: date (nullable = true)\n",
            " |-- delivery_date: string (nullable = true)\n",
            " |-- status: string (nullable = true)\n",
            " |-- quantity: integer (nullable = true)\n",
            "\n",
            "Suppliers Table Schema:\n",
            "root\n",
            " |-- supplier_id: integer (nullable = true)\n",
            " |-- name: string (nullable = true)\n",
            " |-- email: string (nullable = true)\n",
            " |-- phone: long (nullable = true)\n",
            " |-- location: string (nullable = true)\n",
            "\n",
            "Inventory Table Schema:\n",
            "root\n",
            " |-- inventory_id: integer (nullable = true)\n",
            " |-- product_name: string (nullable = true)\n",
            " |-- quantity: integer (nullable = true)\n",
            " |-- reorder_level: integer (nullable = true)\n",
            " |-- supplier_id: integer (nullable = true)\n",
            "\n"
          ]
        }
      ]
    },
    {
      "cell_type": "markdown",
      "source": [
        "# Step 5: Compute Shipment Delays"
      ],
      "metadata": {
        "id": "CiSFHx6FehUH"
      }
    },
    {
      "cell_type": "code",
      "source": [
        "# Convert delivery_date to DateType\n",
        "orders_df = orders_df.withColumn(\"delivery_date\", col(\"delivery_date\").cast(\"date\"))\n",
        "\n",
        "# Add delay_days\n",
        "orders_df = orders_df.withColumn(\"delay_days\", datediff(current_date(), col(\"delivery_date\")))\n"
      ],
      "metadata": {
        "id": "Ps5vYSnkehqo"
      },
      "execution_count": 10,
      "outputs": []
    },
    {
      "cell_type": "markdown",
      "source": [
        "# Step 6: Filter Delayed Orders"
      ],
      "metadata": {
        "id": "OP6R5fPke6ZL"
      }
    },
    {
      "cell_type": "code",
      "source": [
        "delayed_orders_df = orders_df.filter(col(\"delay_days\") > 0)\n",
        "delayed_orders_df.show()\n"
      ],
      "metadata": {
        "colab": {
          "base_uri": "https://localhost:8080/"
        },
        "id": "I5pY70IFe8_k",
        "outputId": "7a769e48-9a93-48a7-f4dc-1a68358b00ec"
      },
      "execution_count": 11,
      "outputs": [
        {
          "output_type": "stream",
          "name": "stdout",
          "text": [
            "+--------+-----------+------------+----------+-------------+---------+--------+----------+\n",
            "|order_id|supplier_id|inventory_id|order_date|delivery_date|   status|quantity|delay_days|\n",
            "+--------+-----------+------------+----------+-------------+---------+--------+----------+\n",
            "|       1|          1|           1|2025-07-01|   2025-07-03|Delivered|      30|        29|\n",
            "|       2|          2|           2|2025-07-05|   2025-07-23|Delivered|      10|         9|\n",
            "|       3|          2|           3|2025-07-06|   2025-07-09|Delivered|      20|        23|\n",
            "+--------+-----------+------------+----------+-------------+---------+--------+----------+\n",
            "\n"
          ]
        }
      ]
    },
    {
      "cell_type": "markdown",
      "source": [
        "# Step 7: Count Delayed Orders Per Supplier"
      ],
      "metadata": {
        "id": "wJ8sYIZOe_3u"
      }
    },
    {
      "cell_type": "code",
      "source": [
        "delay_summary = delayed_orders_df.groupBy(\"supplier_id\") \\\n",
        "                                 .count() \\\n",
        "                                 .withColumnRenamed(\"count\", \"delayed_count\")\n",
        "\n",
        "delay_summary.show()\n"
      ],
      "metadata": {
        "colab": {
          "base_uri": "https://localhost:8080/"
        },
        "id": "KKe2yxrkfDSU",
        "outputId": "d6e870c1-09b5-476d-fd87-04028544f137"
      },
      "execution_count": 12,
      "outputs": [
        {
          "output_type": "stream",
          "name": "stdout",
          "text": [
            "+-----------+-------------+\n",
            "|supplier_id|delayed_count|\n",
            "+-----------+-------------+\n",
            "|          1|            1|\n",
            "|          2|            2|\n",
            "+-----------+-------------+\n",
            "\n"
          ]
        }
      ]
    },
    {
      "cell_type": "markdown",
      "source": [
        "# Step 8: Save Results as CSV and Download"
      ],
      "metadata": {
        "id": "uFhvDz-KfC11"
      }
    },
    {
      "cell_type": "code",
      "source": [
        "# Save result to output folder\n",
        "delay_summary.write.mode(\"overwrite\").csv(\"output/delayed_summary_csv\", header=True)\n",
        "\n",
        "# Combine CSV to single file\n",
        "!cat output/delayed_summary_csv/part-*.csv > delayed_summary.csv\n",
        "\n",
        "# Download the final CSV\n",
        "files.download(\"delayed_summary.csv\")\n"
      ],
      "metadata": {
        "colab": {
          "base_uri": "https://localhost:8080/",
          "height": 17
        },
        "id": "66nxJREPfJyh",
        "outputId": "03a39351-7ea6-4b3e-aa2e-cfcea56a6036"
      },
      "execution_count": 14,
      "outputs": [
        {
          "output_type": "display_data",
          "data": {
            "text/plain": [
              "<IPython.core.display.Javascript object>"
            ],
            "application/javascript": [
              "\n",
              "    async function download(id, filename, size) {\n",
              "      if (!google.colab.kernel.accessAllowed) {\n",
              "        return;\n",
              "      }\n",
              "      const div = document.createElement('div');\n",
              "      const label = document.createElement('label');\n",
              "      label.textContent = `Downloading \"${filename}\": `;\n",
              "      div.appendChild(label);\n",
              "      const progress = document.createElement('progress');\n",
              "      progress.max = size;\n",
              "      div.appendChild(progress);\n",
              "      document.body.appendChild(div);\n",
              "\n",
              "      const buffers = [];\n",
              "      let downloaded = 0;\n",
              "\n",
              "      const channel = await google.colab.kernel.comms.open(id);\n",
              "      // Send a message to notify the kernel that we're ready.\n",
              "      channel.send({})\n",
              "\n",
              "      for await (const message of channel.messages) {\n",
              "        // Send a message to notify the kernel that we're ready.\n",
              "        channel.send({})\n",
              "        if (message.buffers) {\n",
              "          for (const buffer of message.buffers) {\n",
              "            buffers.push(buffer);\n",
              "            downloaded += buffer.byteLength;\n",
              "            progress.value = downloaded;\n",
              "          }\n",
              "        }\n",
              "      }\n",
              "      const blob = new Blob(buffers, {type: 'application/binary'});\n",
              "      const a = document.createElement('a');\n",
              "      a.href = window.URL.createObjectURL(blob);\n",
              "      a.download = filename;\n",
              "      div.appendChild(a);\n",
              "      a.click();\n",
              "      div.remove();\n",
              "    }\n",
              "  "
            ]
          },
          "metadata": {}
        },
        {
          "output_type": "display_data",
          "data": {
            "text/plain": [
              "<IPython.core.display.Javascript object>"
            ],
            "application/javascript": [
              "download(\"download_69acd524-c62d-4fe3-8300-db6cff3da0c4\", \"delayed_summary.csv\", 34)"
            ]
          },
          "metadata": {}
        }
      ]
    }
  ]
}