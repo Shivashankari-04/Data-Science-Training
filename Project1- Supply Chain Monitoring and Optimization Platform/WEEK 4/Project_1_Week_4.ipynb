{
  "nbformat": 4,
  "nbformat_minor": 0,
  "metadata": {
    "colab": {
      "provenance": []
    },
    "kernelspec": {
      "name": "python3",
      "display_name": "Python 3"
    },
    "language_info": {
      "name": "python"
    }
  },
  "cells": [
    {
      "cell_type": "markdown",
      "source": [
        "# Week 4 – Simple ETL in Azure Databricks\n"
      ],
      "metadata": {
        "id": "C7F7xk5UkSGX"
      }
    },
    {
      "cell_type": "code",
      "source": [
        "!pip install pyspark --quiet\n",
        "\n",
        "from pyspark.sql import SparkSession\n",
        "from pyspark.sql import functions as F\n",
        "from pyspark.sql.functions import col, to_date, trim, upper, datediff, current_date"
      ],
      "metadata": {
        "id": "oiqOtKrNddyT"
      },
      "execution_count": null,
      "outputs": []
    },
    {
      "cell_type": "code",
      "source": [
        "# Install dependencies (only needed in Google Colab)\n",
        "# In Azure Databricks, skip this cell\n",
        "!pip install pyspark==3.5.1 delta-spark==3.1.0\n",
        "from pyspark.sql import SparkSession\n",
        "from delta import configure_spark_with_delta_pip"
      ],
      "metadata": {
        "colab": {
          "base_uri": "https://localhost:8080/"
        },
        "id": "RtPwF_5tdf9V",
        "outputId": "9a438cf1-321c-40b0-950b-3f88ba1e5a0c"
      },
      "execution_count": null,
      "outputs": [
        {
          "output_type": "stream",
          "name": "stdout",
          "text": [
            "Requirement already satisfied: pyspark==3.5.1 in /usr/local/lib/python3.11/dist-packages (3.5.1)\n",
            "Collecting delta-spark==3.1.0\n",
            "  Using cached delta_spark-3.1.0-py3-none-any.whl.metadata (1.9 kB)\n",
            "Requirement already satisfied: py4j==0.10.9.7 in /usr/local/lib/python3.11/dist-packages (from pyspark==3.5.1) (0.10.9.7)\n",
            "Requirement already satisfied: importlib-metadata>=1.0.0 in /usr/local/lib/python3.11/dist-packages (from delta-spark==3.1.0) (8.7.0)\n",
            "Requirement already satisfied: zipp>=3.20 in /usr/local/lib/python3.11/dist-packages (from importlib-metadata>=1.0.0->delta-spark==3.1.0) (3.23.0)\n",
            "Using cached delta_spark-3.1.0-py3-none-any.whl (21 kB)\n",
            "Installing collected packages: delta-spark\n",
            "  Attempting uninstall: delta-spark\n",
            "    Found existing installation: delta-spark 3.2.0\n",
            "    Uninstalling delta-spark-3.2.0:\n",
            "      Successfully uninstalled delta-spark-3.2.0\n",
            "Successfully installed delta-spark-3.1.0\n"
          ]
        }
      ]
    },
    {
      "cell_type": "code",
      "source": [
        "# using DELTA in colab\n",
        "!pip install delta-spark==3.2.0 -q\n",
        "import pyspark\n",
        "from delta import *\n",
        "from pyspark.sql.functions import *\n",
        "\n",
        "# Create a SparkSession with Delta Lake extensions\n",
        "# The '.config(...)' lines are crucial for enabling Delta Lake's features\n",
        "builder = pyspark.sql.SparkSession.builder.appName(\"DeltaDemo\") \\\n",
        "    .config(\"spark.sql.extensions\", \"io.delta.sql.DeltaSparkSessionExtension\") \\\n",
        "    .config(\"spark.sql.catalog.spark_catalog\", \"org.apache.spark.sql.delta.catalog.DeltaCatalog\")\n",
        "\n",
        "# Get or create the SparkSession\n",
        "spark = configure_spark_with_delta_pip(builder).getOrCreate()\n",
        "\n",
        "print(\"Spark and Delta Lake are ready!\")\n"
      ],
      "metadata": {
        "colab": {
          "base_uri": "https://localhost:8080/"
        },
        "id": "auId4tkvdssY",
        "outputId": "a0bbc61e-8f70-4a60-903c-0dfa72be8b05"
      },
      "execution_count": null,
      "outputs": [
        {
          "output_type": "stream",
          "name": "stdout",
          "text": [
            "Spark and Delta Lake are ready!\n"
          ]
        }
      ]
    },
    {
      "cell_type": "markdown",
      "source": [
        "# Upload CSV data into Databricks"
      ],
      "metadata": {
        "id": "bw-Ylz3HkbDY"
      }
    },
    {
      "cell_type": "code",
      "source": [
        "from google.colab import files\n",
        "uploaded = files.upload()  # Upload orders_table.csv, suppliers_table.csv, inventory_table.csv\n"
      ],
      "metadata": {
        "colab": {
          "base_uri": "https://localhost:8080/",
          "height": 142
        },
        "id": "mjObHySkdwPZ",
        "outputId": "6de7f899-80e3-44c8-87bc-4d84dedad3f5"
      },
      "execution_count": null,
      "outputs": [
        {
          "output_type": "display_data",
          "data": {
            "text/plain": [
              "<IPython.core.display.HTML object>"
            ],
            "text/html": [
              "\n",
              "     <input type=\"file\" id=\"files-361765ae-4fd4-43fc-bc09-6fdb875cfa31\" name=\"files[]\" multiple disabled\n",
              "        style=\"border:none\" />\n",
              "     <output id=\"result-361765ae-4fd4-43fc-bc09-6fdb875cfa31\">\n",
              "      Upload widget is only available when the cell has been executed in the\n",
              "      current browser session. Please rerun this cell to enable.\n",
              "      </output>\n",
              "      <script>// Copyright 2017 Google LLC\n",
              "//\n",
              "// Licensed under the Apache License, Version 2.0 (the \"License\");\n",
              "// you may not use this file except in compliance with the License.\n",
              "// You may obtain a copy of the License at\n",
              "//\n",
              "//      http://www.apache.org/licenses/LICENSE-2.0\n",
              "//\n",
              "// Unless required by applicable law or agreed to in writing, software\n",
              "// distributed under the License is distributed on an \"AS IS\" BASIS,\n",
              "// WITHOUT WARRANTIES OR CONDITIONS OF ANY KIND, either express or implied.\n",
              "// See the License for the specific language governing permissions and\n",
              "// limitations under the License.\n",
              "\n",
              "/**\n",
              " * @fileoverview Helpers for google.colab Python module.\n",
              " */\n",
              "(function(scope) {\n",
              "function span(text, styleAttributes = {}) {\n",
              "  const element = document.createElement('span');\n",
              "  element.textContent = text;\n",
              "  for (const key of Object.keys(styleAttributes)) {\n",
              "    element.style[key] = styleAttributes[key];\n",
              "  }\n",
              "  return element;\n",
              "}\n",
              "\n",
              "// Max number of bytes which will be uploaded at a time.\n",
              "const MAX_PAYLOAD_SIZE = 100 * 1024;\n",
              "\n",
              "function _uploadFiles(inputId, outputId) {\n",
              "  const steps = uploadFilesStep(inputId, outputId);\n",
              "  const outputElement = document.getElementById(outputId);\n",
              "  // Cache steps on the outputElement to make it available for the next call\n",
              "  // to uploadFilesContinue from Python.\n",
              "  outputElement.steps = steps;\n",
              "\n",
              "  return _uploadFilesContinue(outputId);\n",
              "}\n",
              "\n",
              "// This is roughly an async generator (not supported in the browser yet),\n",
              "// where there are multiple asynchronous steps and the Python side is going\n",
              "// to poll for completion of each step.\n",
              "// This uses a Promise to block the python side on completion of each step,\n",
              "// then passes the result of the previous step as the input to the next step.\n",
              "function _uploadFilesContinue(outputId) {\n",
              "  const outputElement = document.getElementById(outputId);\n",
              "  const steps = outputElement.steps;\n",
              "\n",
              "  const next = steps.next(outputElement.lastPromiseValue);\n",
              "  return Promise.resolve(next.value.promise).then((value) => {\n",
              "    // Cache the last promise value to make it available to the next\n",
              "    // step of the generator.\n",
              "    outputElement.lastPromiseValue = value;\n",
              "    return next.value.response;\n",
              "  });\n",
              "}\n",
              "\n",
              "/**\n",
              " * Generator function which is called between each async step of the upload\n",
              " * process.\n",
              " * @param {string} inputId Element ID of the input file picker element.\n",
              " * @param {string} outputId Element ID of the output display.\n",
              " * @return {!Iterable<!Object>} Iterable of next steps.\n",
              " */\n",
              "function* uploadFilesStep(inputId, outputId) {\n",
              "  const inputElement = document.getElementById(inputId);\n",
              "  inputElement.disabled = false;\n",
              "\n",
              "  const outputElement = document.getElementById(outputId);\n",
              "  outputElement.innerHTML = '';\n",
              "\n",
              "  const pickedPromise = new Promise((resolve) => {\n",
              "    inputElement.addEventListener('change', (e) => {\n",
              "      resolve(e.target.files);\n",
              "    });\n",
              "  });\n",
              "\n",
              "  const cancel = document.createElement('button');\n",
              "  inputElement.parentElement.appendChild(cancel);\n",
              "  cancel.textContent = 'Cancel upload';\n",
              "  const cancelPromise = new Promise((resolve) => {\n",
              "    cancel.onclick = () => {\n",
              "      resolve(null);\n",
              "    };\n",
              "  });\n",
              "\n",
              "  // Wait for the user to pick the files.\n",
              "  const files = yield {\n",
              "    promise: Promise.race([pickedPromise, cancelPromise]),\n",
              "    response: {\n",
              "      action: 'starting',\n",
              "    }\n",
              "  };\n",
              "\n",
              "  cancel.remove();\n",
              "\n",
              "  // Disable the input element since further picks are not allowed.\n",
              "  inputElement.disabled = true;\n",
              "\n",
              "  if (!files) {\n",
              "    return {\n",
              "      response: {\n",
              "        action: 'complete',\n",
              "      }\n",
              "    };\n",
              "  }\n",
              "\n",
              "  for (const file of files) {\n",
              "    const li = document.createElement('li');\n",
              "    li.append(span(file.name, {fontWeight: 'bold'}));\n",
              "    li.append(span(\n",
              "        `(${file.type || 'n/a'}) - ${file.size} bytes, ` +\n",
              "        `last modified: ${\n",
              "            file.lastModifiedDate ? file.lastModifiedDate.toLocaleDateString() :\n",
              "                                    'n/a'} - `));\n",
              "    const percent = span('0% done');\n",
              "    li.appendChild(percent);\n",
              "\n",
              "    outputElement.appendChild(li);\n",
              "\n",
              "    const fileDataPromise = new Promise((resolve) => {\n",
              "      const reader = new FileReader();\n",
              "      reader.onload = (e) => {\n",
              "        resolve(e.target.result);\n",
              "      };\n",
              "      reader.readAsArrayBuffer(file);\n",
              "    });\n",
              "    // Wait for the data to be ready.\n",
              "    let fileData = yield {\n",
              "      promise: fileDataPromise,\n",
              "      response: {\n",
              "        action: 'continue',\n",
              "      }\n",
              "    };\n",
              "\n",
              "    // Use a chunked sending to avoid message size limits. See b/62115660.\n",
              "    let position = 0;\n",
              "    do {\n",
              "      const length = Math.min(fileData.byteLength - position, MAX_PAYLOAD_SIZE);\n",
              "      const chunk = new Uint8Array(fileData, position, length);\n",
              "      position += length;\n",
              "\n",
              "      const base64 = btoa(String.fromCharCode.apply(null, chunk));\n",
              "      yield {\n",
              "        response: {\n",
              "          action: 'append',\n",
              "          file: file.name,\n",
              "          data: base64,\n",
              "        },\n",
              "      };\n",
              "\n",
              "      let percentDone = fileData.byteLength === 0 ?\n",
              "          100 :\n",
              "          Math.round((position / fileData.byteLength) * 100);\n",
              "      percent.textContent = `${percentDone}% done`;\n",
              "\n",
              "    } while (position < fileData.byteLength);\n",
              "  }\n",
              "\n",
              "  // All done.\n",
              "  yield {\n",
              "    response: {\n",
              "      action: 'complete',\n",
              "    }\n",
              "  };\n",
              "}\n",
              "\n",
              "scope.google = scope.google || {};\n",
              "scope.google.colab = scope.google.colab || {};\n",
              "scope.google.colab._files = {\n",
              "  _uploadFiles,\n",
              "  _uploadFilesContinue,\n",
              "};\n",
              "})(self);\n",
              "</script> "
            ]
          },
          "metadata": {}
        },
        {
          "output_type": "stream",
          "name": "stdout",
          "text": [
            "Saving inventory_table.csv to inventory_table (1).csv\n",
            "Saving orders_table.csv to orders_table (1).csv\n",
            "Saving suppliers_table.csv to suppliers_table (1).csv\n"
          ]
        }
      ]
    },
    {
      "cell_type": "code",
      "source": [
        "orders_df = spark.read.csv(\"orders_table.csv\", header=True, inferSchema=True)\n",
        "suppliers_df = spark.read.csv(\"suppliers_table.csv\", header=True, inferSchema=True)\n",
        "inventory_df = spark.read.csv(\"inventory_table.csv\", header=True, inferSchema=True)\n",
        "\n",
        "orders_df.show(5)\n"
      ],
      "metadata": {
        "colab": {
          "base_uri": "https://localhost:8080/"
        },
        "id": "C_rVtHU3d0kF",
        "outputId": "06b886d9-5a87-40c6-c48e-646888ac1dc6"
      },
      "execution_count": null,
      "outputs": [
        {
          "output_type": "stream",
          "name": "stdout",
          "text": [
            "+--------+-----------+------------+----------+-------------+---------+--------+\n",
            "|order_id|supplier_id|inventory_id|order_date|delivery_date|   status|quantity|\n",
            "+--------+-----------+------------+----------+-------------+---------+--------+\n",
            "|       1|          1|           1|2025-07-01|   2025-07-03|Delivered|      30|\n",
            "|       2|          2|           2|2025-07-05|   2025-07-23|Delivered|      10|\n",
            "|       3|          2|           3|2025-07-06|   2025-07-09|Delivered|      20|\n",
            "|       4|          3|           4|2025-07-10|         NULL|  Shipped|       5|\n",
            "|       5|          1|           5|2025-07-12|         NULL|  Pending|      12|\n",
            "+--------+-----------+------------+----------+-------------+---------+--------+\n",
            "only showing top 5 rows\n",
            "\n"
          ]
        }
      ]
    },
    {
      "cell_type": "markdown",
      "source": [
        "# Run a notebook to clean and filter the data"
      ],
      "metadata": {
        "id": "lOcfDBp5kkBd"
      }
    },
    {
      "cell_type": "code",
      "source": [
        "from pyspark.sql.functions import col, to_date, trim, upper\n",
        "\n",
        "# Step 1: Clean the data (convert dates, trim text, uppercase status)\n",
        "orders_df = (orders_df\n",
        "    .withColumn(\"order_date\", to_date(col(\"order_date\")))\n",
        "    .withColumn(\"delivery_date\", to_date(col(\"delivery_date\")))\n",
        "    .withColumn(\"status\", upper(trim(col(\"status\"))))\n",
        ")\n",
        "\n",
        "# Show cleaned orders table\n",
        "print(\"Cleaned Orders Table:\")\n",
        "orders_df.show(10, truncate=False)\n",
        "\n",
        "# Step 2: Filter only DELIVERED orders\n",
        "delivered_df = orders_df.filter(col(\"status\") == \"DELIVERED\")\n",
        "\n",
        "print(\"Filtered DELIVERED Orders:\")\n",
        "delivered_df.show(10, truncate=False)\n"
      ],
      "metadata": {
        "colab": {
          "base_uri": "https://localhost:8080/"
        },
        "id": "O7g59IA2eeJs",
        "outputId": "17f65cbe-37a5-4505-aab4-284d8eb9d116"
      },
      "execution_count": null,
      "outputs": [
        {
          "output_type": "stream",
          "name": "stdout",
          "text": [
            "Cleaned Orders Table:\n",
            "+--------+-----------+------------+----------+-------------+---------+--------+\n",
            "|order_id|supplier_id|inventory_id|order_date|delivery_date|status   |quantity|\n",
            "+--------+-----------+------------+----------+-------------+---------+--------+\n",
            "|1       |1          |1           |2025-07-01|2025-07-03   |DELIVERED|30      |\n",
            "|2       |2          |2           |2025-07-05|2025-07-23   |DELIVERED|10      |\n",
            "|3       |2          |3           |2025-07-06|2025-07-09   |DELIVERED|20      |\n",
            "|4       |3          |4           |2025-07-10|NULL         |SHIPPED  |5       |\n",
            "|5       |1          |5           |2025-07-12|NULL         |PENDING  |12      |\n",
            "|6       |2          |3           |2025-07-20|NULL         |PENDING  |20      |\n",
            "|7       |1          |5           |2025-07-20|NULL         |PENDING  |20      |\n",
            "|9       |2          |3           |2025-07-23|NULL         |PENDING  |20      |\n",
            "|10      |1          |5           |2025-07-23|NULL         |PENDING  |20      |\n",
            "+--------+-----------+------------+----------+-------------+---------+--------+\n",
            "\n",
            "Filtered DELIVERED Orders:\n",
            "+--------+-----------+------------+----------+-------------+---------+--------+\n",
            "|order_id|supplier_id|inventory_id|order_date|delivery_date|status   |quantity|\n",
            "+--------+-----------+------------+----------+-------------+---------+--------+\n",
            "|1       |1          |1           |2025-07-01|2025-07-03   |DELIVERED|30      |\n",
            "|2       |2          |2           |2025-07-05|2025-07-23   |DELIVERED|10      |\n",
            "|3       |2          |3           |2025-07-06|2025-07-09   |DELIVERED|20      |\n",
            "+--------+-----------+------------+----------+-------------+---------+--------+\n",
            "\n"
          ]
        }
      ]
    },
    {
      "cell_type": "markdown",
      "source": [
        "# Save cleaned output as Delta or CSV"
      ],
      "metadata": {
        "id": "JMpjutH2ksUS"
      }
    },
    {
      "cell_type": "code",
      "source": [
        "# 3. Save cleaned output as Delta or CSV\n",
        "orders_df.write.format(\"delta\").mode(\"overwrite\").save(\"/FileStore/tables/orders_cleaned_delta\")\n",
        "orders_df.write.format(\"csv\").option(\"header\", \"true\").mode(\"overwrite\").save(\"/FileStore/tables/orders_cleaned_csv\")\n"
      ],
      "metadata": {
        "id": "ag1v-TLbenrf"
      },
      "execution_count": null,
      "outputs": []
    },
    {
      "cell_type": "markdown",
      "source": [
        "# Run basic analysis queries using SQL or PySpark"
      ],
      "metadata": {
        "id": "5ZNm0OvVkvjH"
      }
    },
    {
      "cell_type": "markdown",
      "source": [
        "# Run basic analysis queries using PySpark"
      ],
      "metadata": {
        "id": "etBUhcmskxfq"
      }
    },
    {
      "cell_type": "markdown",
      "source": [
        "1. Average delivery time in days"
      ],
      "metadata": {
        "id": "jnYPoj9sk17K"
      }
    },
    {
      "cell_type": "code",
      "source": [
        "from pyspark.sql import functions as F\n",
        "\n",
        "orders_df.withColumn(\n",
        "    \"delivery_days\", F.datediff(\"delivery_date\", \"order_date\")\n",
        ").agg(F.avg(\"delivery_days\").alias(\"avg_delivery_days\")).show()"
      ],
      "metadata": {
        "colab": {
          "base_uri": "https://localhost:8080/"
        },
        "id": "0FMYU8pPfvzI",
        "outputId": "021dbac1-8a48-4f15-d9a4-8056bcb024ca"
      },
      "execution_count": null,
      "outputs": [
        {
          "output_type": "stream",
          "name": "stdout",
          "text": [
            "+-----------------+\n",
            "|avg_delivery_days|\n",
            "+-----------------+\n",
            "|7.666666666666667|\n",
            "+-----------------+\n",
            "\n"
          ]
        }
      ]
    },
    {
      "cell_type": "markdown",
      "source": [
        "2. Supplier with highest total quantity ordered"
      ],
      "metadata": {
        "id": "JKI_yVjXk8S_"
      }
    },
    {
      "cell_type": "code",
      "source": [
        "\n",
        "orders_df.groupBy(\"supplier_id\") \\\n",
        "    .agg(F.sum(\"quantity\").alias(\"total_quantity\")) \\\n",
        "    .orderBy(F.desc(\"total_quantity\")) \\\n",
        "    .show(1)"
      ],
      "metadata": {
        "colab": {
          "base_uri": "https://localhost:8080/"
        },
        "id": "NP_cYArfgUYJ",
        "outputId": "c7897065-ef16-4956-ab8d-7d8f1bde3a56"
      },
      "execution_count": null,
      "outputs": [
        {
          "output_type": "stream",
          "name": "stdout",
          "text": [
            "+-----------+--------------+\n",
            "|supplier_id|total_quantity|\n",
            "+-----------+--------------+\n",
            "|          1|            82|\n",
            "+-----------+--------------+\n",
            "only showing top 1 row\n",
            "\n"
          ]
        }
      ]
    },
    {
      "cell_type": "markdown",
      "source": [
        "3. Percentage of delivered orders"
      ],
      "metadata": {
        "id": "nI2o8RQLlAMh"
      }
    },
    {
      "cell_type": "code",
      "source": [
        "total_orders = orders_df.count()\n",
        "delivered_orders = orders_df.filter(F.col(\"status\") == \"DELIVERED\").count()\n",
        "delivery_percentage = (delivered_orders / total_orders) * 100\n",
        "print(f\"Delivery Percentage: {delivery_percentage:.2f}%\")"
      ],
      "metadata": {
        "colab": {
          "base_uri": "https://localhost:8080/"
        },
        "id": "IZhzrvyEgWxo",
        "outputId": "7e2020c9-0eb6-4b69-cd1f-917bdf5ff14d"
      },
      "execution_count": null,
      "outputs": [
        {
          "output_type": "stream",
          "name": "stdout",
          "text": [
            "Delivery Percentage: 33.33%\n"
          ]
        }
      ]
    },
    {
      "cell_type": "markdown",
      "source": [
        "4. Find the average quantity per order"
      ],
      "metadata": {
        "id": "OJ1eh69ClFa7"
      }
    },
    {
      "cell_type": "code",
      "source": [
        "orders_df.agg(F.avg(\"quantity\").alias(\"avg_quantity\")).show()"
      ],
      "metadata": {
        "colab": {
          "base_uri": "https://localhost:8080/"
        },
        "id": "BxsHx7IzgcVH",
        "outputId": "0ae79477-e403-4839-c43b-bdd3f85b69d7"
      },
      "execution_count": null,
      "outputs": [
        {
          "output_type": "stream",
          "name": "stdout",
          "text": [
            "+------------------+\n",
            "|      avg_quantity|\n",
            "+------------------+\n",
            "|17.444444444444443|\n",
            "+------------------+\n",
            "\n"
          ]
        }
      ]
    },
    {
      "cell_type": "markdown",
      "source": [
        "5. Top 3 suppliers with most orders"
      ],
      "metadata": {
        "id": "eWY8xxywlJ5s"
      }
    },
    {
      "cell_type": "code",
      "source": [
        "orders_df.groupBy(\"supplier_id\").count().orderBy(F.desc(\"count\")).show(3)"
      ],
      "metadata": {
        "colab": {
          "base_uri": "https://localhost:8080/"
        },
        "id": "PBcdgD8wgnwl",
        "outputId": "6492166b-e1c7-4889-f3bd-03a95cff19bd"
      },
      "execution_count": null,
      "outputs": [
        {
          "output_type": "stream",
          "name": "stdout",
          "text": [
            "+-----------+-----+\n",
            "|supplier_id|count|\n",
            "+-----------+-----+\n",
            "|          1|    4|\n",
            "|          2|    4|\n",
            "|          3|    1|\n",
            "+-----------+-----+\n",
            "\n"
          ]
        }
      ]
    },
    {
      "cell_type": "markdown",
      "source": [
        "# Run basic analysis queries using SQL"
      ],
      "metadata": {
        "id": "kkKL3kKZlLqL"
      }
    },
    {
      "cell_type": "code",
      "source": [
        "orders_df.createOrReplaceTempView(\"orders\")"
      ],
      "metadata": {
        "id": "XsNcYECogs2y"
      },
      "execution_count": null,
      "outputs": []
    },
    {
      "cell_type": "markdown",
      "source": [
        "1. Top 3 suppliers by average order quantity"
      ],
      "metadata": {
        "id": "LnYV0tpElcYZ"
      }
    },
    {
      "cell_type": "code",
      "source": [
        "spark.sql(\"\"\"\n",
        "    SELECT supplier_id, AVG(quantity) AS avg_quantity\n",
        "    FROM orders\n",
        "    GROUP BY supplier_id\n",
        "    ORDER BY avg_quantity DESC\n",
        "    LIMIT 3\n",
        "\"\"\").show()"
      ],
      "metadata": {
        "colab": {
          "base_uri": "https://localhost:8080/"
        },
        "id": "KtgDCtQyhUkd",
        "outputId": "d9f6b050-44f1-4871-d160-779b4edf3296"
      },
      "execution_count": null,
      "outputs": [
        {
          "output_type": "stream",
          "name": "stdout",
          "text": [
            "+-----------+------------+\n",
            "|supplier_id|avg_quantity|\n",
            "+-----------+------------+\n",
            "|          1|        20.5|\n",
            "|          2|        17.5|\n",
            "|          3|         5.0|\n",
            "+-----------+------------+\n",
            "\n"
          ]
        }
      ]
    },
    {
      "cell_type": "markdown",
      "source": [
        "2. Number of orders per status"
      ],
      "metadata": {
        "id": "VbOOI2CylfN_"
      }
    },
    {
      "cell_type": "code",
      "source": [
        "spark.sql(\"\"\"\n",
        "    SELECT status, COUNT(*) AS total_orders\n",
        "    FROM orders\n",
        "    GROUP BY status\n",
        "    ORDER BY total_orders DESC\n",
        "\"\"\").show()"
      ],
      "metadata": {
        "colab": {
          "base_uri": "https://localhost:8080/"
        },
        "id": "2Gbj5cAyhZE0",
        "outputId": "e3be3f43-b11c-40cc-c430-eae9ceac94d5"
      },
      "execution_count": null,
      "outputs": [
        {
          "output_type": "stream",
          "name": "stdout",
          "text": [
            "+---------+------------+\n",
            "|   status|total_orders|\n",
            "+---------+------------+\n",
            "|  PENDING|           5|\n",
            "|DELIVERED|           3|\n",
            "|  SHIPPED|           1|\n",
            "+---------+------------+\n",
            "\n"
          ]
        }
      ]
    },
    {
      "cell_type": "markdown",
      "source": [
        "3. Orders delayed more than 5 days"
      ],
      "metadata": {
        "id": "yRq2L-6zlhsP"
      }
    },
    {
      "cell_type": "code",
      "source": [
        "spark.sql(\"\"\"\n",
        "    SELECT order_id, supplier_id, DATEDIFF(delivery_date, order_date) AS delay_days\n",
        "    FROM orders\n",
        "    WHERE DATEDIFF(delivery_date, order_date) > 5\n",
        "    ORDER BY delay_days DESC\n",
        "\"\"\").show()"
      ],
      "metadata": {
        "colab": {
          "base_uri": "https://localhost:8080/"
        },
        "id": "Vh93MDQIheBa",
        "outputId": "82e8d615-c806-4f2d-8fe2-13854ed154a5"
      },
      "execution_count": null,
      "outputs": [
        {
          "output_type": "stream",
          "name": "stdout",
          "text": [
            "+--------+-----------+----------+\n",
            "|order_id|supplier_id|delay_days|\n",
            "+--------+-----------+----------+\n",
            "|       2|          2|        18|\n",
            "+--------+-----------+----------+\n",
            "\n"
          ]
        }
      ]
    },
    {
      "cell_type": "markdown",
      "source": [
        "4. Earliest and latest delivery date per supplier"
      ],
      "metadata": {
        "id": "lhvYvhO4lkPF"
      }
    },
    {
      "cell_type": "code",
      "source": [
        "spark.sql(\"\"\"\n",
        "    SELECT supplier_id,\n",
        "           MIN(delivery_date) AS earliest_delivery,\n",
        "           MAX(delivery_date) AS latest_delivery\n",
        "    FROM orders\n",
        "    GROUP BY supplier_id\n",
        "\"\"\").show()"
      ],
      "metadata": {
        "colab": {
          "base_uri": "https://localhost:8080/"
        },
        "id": "bIF3y8hThg3m",
        "outputId": "01a8d2b0-5a2a-4416-a3a0-4fc51077f5df"
      },
      "execution_count": null,
      "outputs": [
        {
          "output_type": "stream",
          "name": "stdout",
          "text": [
            "+-----------+-----------------+---------------+\n",
            "|supplier_id|earliest_delivery|latest_delivery|\n",
            "+-----------+-----------------+---------------+\n",
            "|          1|       2025-07-03|     2025-07-03|\n",
            "|          3|             NULL|           NULL|\n",
            "|          2|       2025-07-09|     2025-07-23|\n",
            "+-----------+-----------------+---------------+\n",
            "\n"
          ]
        }
      ]
    },
    {
      "cell_type": "markdown",
      "source": [
        "# Deliverables:\n",
        "\n",
        "# Cleaned output stored in CSV format"
      ],
      "metadata": {
        "id": "-TrPJOlPm9hp"
      }
    },
    {
      "cell_type": "code",
      "source": [
        "# Save cleaned DataFrame as a single CSV file\n",
        "clean_csv_path = \"/content/orders_cleaned.csv\"\n",
        "\n"
      ],
      "metadata": {
        "id": "W4GbNFSajopw"
      },
      "execution_count": null,
      "outputs": []
    },
    {
      "cell_type": "code",
      "source": [
        "orders_df.coalesce(1) \\\n",
        "    .write.option(\"header\", \"true\") \\\n",
        "    .mode(\"overwrite\") \\\n",
        "    .csv(\"/content/orders_cleaned_single\")"
      ],
      "metadata": {
        "id": "B_plnZ1YmZy-"
      },
      "execution_count": null,
      "outputs": []
    },
    {
      "cell_type": "code",
      "source": [
        "import shutil, glob\n",
        "part_file = glob.glob(\"/content/orders_cleaned_single/part-*.csv\")[0]\n",
        "shutil.move(part_file, clean_csv_path)\n",
        "\n",
        "print(f\"Cleaned CSV saved at: {clean_csv_path}\")\n"
      ],
      "metadata": {
        "colab": {
          "base_uri": "https://localhost:8080/"
        },
        "id": "8rbOcApQmgLA",
        "outputId": "7e4ead5d-82d6-4794-b8d1-8c7f7bbca0cd"
      },
      "execution_count": null,
      "outputs": [
        {
          "output_type": "stream",
          "name": "stdout",
          "text": [
            "Cleaned CSV saved at: /content/orders_cleaned.csv\n"
          ]
        }
      ]
    },
    {
      "cell_type": "code",
      "source": [
        "# Download the CSV\n",
        "from google.colab import files\n",
        "files.download(clean_csv_path)"
      ],
      "metadata": {
        "colab": {
          "base_uri": "https://localhost:8080/",
          "height": 17
        },
        "id": "B5jsavNbj-PC",
        "outputId": "c8e9f43d-c8fb-40ea-cb5b-efa1cf562879"
      },
      "execution_count": null,
      "outputs": [
        {
          "output_type": "display_data",
          "data": {
            "text/plain": [
              "<IPython.core.display.Javascript object>"
            ],
            "application/javascript": [
              "\n",
              "    async function download(id, filename, size) {\n",
              "      if (!google.colab.kernel.accessAllowed) {\n",
              "        return;\n",
              "      }\n",
              "      const div = document.createElement('div');\n",
              "      const label = document.createElement('label');\n",
              "      label.textContent = `Downloading \"${filename}\": `;\n",
              "      div.appendChild(label);\n",
              "      const progress = document.createElement('progress');\n",
              "      progress.max = size;\n",
              "      div.appendChild(progress);\n",
              "      document.body.appendChild(div);\n",
              "\n",
              "      const buffers = [];\n",
              "      let downloaded = 0;\n",
              "\n",
              "      const channel = await google.colab.kernel.comms.open(id);\n",
              "      // Send a message to notify the kernel that we're ready.\n",
              "      channel.send({})\n",
              "\n",
              "      for await (const message of channel.messages) {\n",
              "        // Send a message to notify the kernel that we're ready.\n",
              "        channel.send({})\n",
              "        if (message.buffers) {\n",
              "          for (const buffer of message.buffers) {\n",
              "            buffers.push(buffer);\n",
              "            downloaded += buffer.byteLength;\n",
              "            progress.value = downloaded;\n",
              "          }\n",
              "        }\n",
              "      }\n",
              "      const blob = new Blob(buffers, {type: 'application/binary'});\n",
              "      const a = document.createElement('a');\n",
              "      a.href = window.URL.createObjectURL(blob);\n",
              "      a.download = filename;\n",
              "      div.appendChild(a);\n",
              "      a.click();\n",
              "      div.remove();\n",
              "    }\n",
              "  "
            ]
          },
          "metadata": {}
        },
        {
          "output_type": "display_data",
          "data": {
            "text/plain": [
              "<IPython.core.display.Javascript object>"
            ],
            "application/javascript": [
              "download(\"download_77571206-0d2a-4349-8c04-89206ef83e09\", \"orders_cleaned.csv\", 372)"
            ]
          },
          "metadata": {}
        }
      ]
    }
  ]
}