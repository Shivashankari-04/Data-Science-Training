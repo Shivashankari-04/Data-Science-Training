{
  "nbformat": 4,
  "nbformat_minor": 0,
  "metadata": {
    "colab": {
      "provenance": []
    },
    "kernelspec": {
      "name": "python3",
      "display_name": "Python 3"
    },
    "language_info": {
      "name": "python"
    }
  },
  "cells": [
    {
      "cell_type": "markdown",
      "source": [
        "# PySpark Assignment – Product Sales Analysis\n"
      ],
      "metadata": {
        "id": "W4_y0BTUG-s-"
      }
    },
    {
      "cell_type": "markdown",
      "source": [
        "# Part 1: Environment Setup"
      ],
      "metadata": {
        "id": "h9HEjYuRG33h"
      }
    },
    {
      "cell_type": "code",
      "execution_count": 3,
      "metadata": {
        "colab": {
          "base_uri": "https://localhost:8080/"
        },
        "id": "s_BMNk26Ccnc",
        "outputId": "a9eee7d0-18c4-4185-ddfd-67dd5cc2304a"
      },
      "outputs": [
        {
          "output_type": "stream",
          "name": "stdout",
          "text": [
            "--2025-07-30 15:57:53--  https://archive.apache.org/dist/spark/spark-3.5.0/spark-3.5.0-bin-hadoop3.tgz\n",
            "Resolving archive.apache.org (archive.apache.org)... 65.108.204.189, 2a01:4f9:1a:a084::2\n",
            "Connecting to archive.apache.org (archive.apache.org)|65.108.204.189|:443... connected.\n",
            "HTTP request sent, awaiting response... 200 OK\n",
            "Length: 400395283 (382M) [application/x-gzip]\n",
            "Saving to: ‘spark-3.5.0-bin-hadoop3.tgz’\n",
            "\n",
            "spark-3.5.0-bin-had 100%[===================>] 381.85M  24.3MB/s    in 16s     \n",
            "\n",
            "2025-07-30 15:58:09 (24.5 MB/s) - ‘spark-3.5.0-bin-hadoop3.tgz’ saved [400395283/400395283]\n",
            "\n"
          ]
        }
      ],
      "source": [
        "# Download Spark from the correct URL\n",
        "!wget https://archive.apache.org/dist/spark/spark-3.5.0/spark-3.5.0-bin-hadoop3.tgz\n",
        "\n"
      ]
    },
    {
      "cell_type": "code",
      "source": [
        "# Extract Spark\n",
        "!tar -xzf spark-3.5.0-bin-hadoop3.tgz"
      ],
      "metadata": {
        "id": "FBMDyqtmDRuT"
      },
      "execution_count": 5,
      "outputs": []
    },
    {
      "cell_type": "code",
      "source": [
        "# Install Java & Findspark\n",
        "!apt-get install openjdk-11-jdk -y\n",
        "!pip install -q findspark"
      ],
      "metadata": {
        "colab": {
          "base_uri": "https://localhost:8080/"
        },
        "id": "M63pJgZvDVaa",
        "outputId": "4732d30d-9264-46f5-d663-bd340e67971c"
      },
      "execution_count": 6,
      "outputs": [
        {
          "output_type": "stream",
          "name": "stdout",
          "text": [
            "Reading package lists... Done\n",
            "Building dependency tree... Done\n",
            "Reading state information... Done\n",
            "openjdk-11-jdk is already the newest version (11.0.28+6-1ubuntu1~22.04.1).\n",
            "0 upgraded, 0 newly installed, 0 to remove and 35 not upgraded.\n"
          ]
        }
      ]
    },
    {
      "cell_type": "code",
      "source": [
        " #Set Environment Variables and Initialize Spark\n",
        "import os\n",
        "os.environ[\"JAVA_HOME\"] = \"/usr/lib/jvm/java-11-openjdk-amd64\"\n",
        "os.environ[\"SPARK_HOME\"] = \"/content/spark-3.5.0-bin-hadoop3\"\n",
        "\n",
        "import findspark\n",
        "findspark.init()\n",
        "\n",
        "from pyspark.sql import SparkSession\n",
        "\n",
        "spark = SparkSession.builder.appName(\"ProductSalesAnalysis\").getOrCreate()"
      ],
      "metadata": {
        "id": "xo3PmPXnDuCM"
      },
      "execution_count": 7,
      "outputs": []
    },
    {
      "cell_type": "markdown",
      "source": [
        "# Part 2: Load Sales Data from CSV"
      ],
      "metadata": {
        "id": "NffPmPBoD7Y_"
      }
    },
    {
      "cell_type": "code",
      "source": [
        "data = \"\"\"OrderID,Product,Category,Quantity,UnitPrice,Region\n",
        "1001,Mobile,Electronics,2,15000,North\n",
        "1002,Laptop,Electronics,1,55000,South\n",
        "1003,T-Shirt,Apparel,3,500,East\n",
        "1004,Jeans,Apparel,2,1200,North\n",
        "1005,TV,Electronics,1,40000,West\n",
        "1006,Shoes,Footwear,4,2000,South\n",
        "1007,Watch,Accessories,2,3000,East\n",
        "1008,Headphones,Electronics,3,2500,North\"\"\"\n",
        "\n",
        "with open(\"sales.csv\", \"w\") as f:\n",
        "    f.write(data)\n"
      ],
      "metadata": {
        "id": "T6v8otMCD2fX"
      },
      "execution_count": 8,
      "outputs": []
    },
    {
      "cell_type": "markdown",
      "source": [
        "Task: Read the file into PySpark and print schema"
      ],
      "metadata": {
        "id": "k0qnLcKwEGsu"
      }
    },
    {
      "cell_type": "code",
      "source": [
        "df = spark.read.csv(\"sales.csv\", header=True, inferSchema=True)\n",
        "df.printSchema()\n",
        "df.show(5)\n"
      ],
      "metadata": {
        "colab": {
          "base_uri": "https://localhost:8080/"
        },
        "id": "S99oAIiVEEA8",
        "outputId": "d7177194-c81b-4226-8a3b-cf500ee4640a"
      },
      "execution_count": 9,
      "outputs": [
        {
          "output_type": "stream",
          "name": "stdout",
          "text": [
            "root\n",
            " |-- OrderID: integer (nullable = true)\n",
            " |-- Product: string (nullable = true)\n",
            " |-- Category: string (nullable = true)\n",
            " |-- Quantity: integer (nullable = true)\n",
            " |-- UnitPrice: integer (nullable = true)\n",
            " |-- Region: string (nullable = true)\n",
            "\n",
            "+-------+-------+-----------+--------+---------+------+\n",
            "|OrderID|Product|   Category|Quantity|UnitPrice|Region|\n",
            "+-------+-------+-----------+--------+---------+------+\n",
            "|   1001| Mobile|Electronics|       2|    15000| North|\n",
            "|   1002| Laptop|Electronics|       1|    55000| South|\n",
            "|   1003|T-Shirt|    Apparel|       3|      500|  East|\n",
            "|   1004|  Jeans|    Apparel|       2|     1200| North|\n",
            "|   1005|     TV|Electronics|       1|    40000|  West|\n",
            "+-------+-------+-----------+--------+---------+------+\n",
            "only showing top 5 rows\n",
            "\n"
          ]
        }
      ]
    },
    {
      "cell_type": "markdown",
      "source": [
        "# Part 3: Business Questions"
      ],
      "metadata": {
        "id": "snzZdvlLEScf"
      }
    },
    {
      "cell_type": "markdown",
      "source": [
        "1. Add a new column TotalPrice"
      ],
      "metadata": {
        "id": "r1XS16PbEcOC"
      }
    },
    {
      "cell_type": "code",
      "source": [
        "from pyspark.sql.functions import col\n",
        "\n",
        "df = df.withColumn(\"TotalPrice\", col(\"Quantity\") * col(\"UnitPrice\"))\n",
        "df.show()\n"
      ],
      "metadata": {
        "colab": {
          "base_uri": "https://localhost:8080/"
        },
        "id": "buB9lx2WEbey",
        "outputId": "b9d720e4-1a1f-496c-fe52-3f89d320a827"
      },
      "execution_count": 10,
      "outputs": [
        {
          "output_type": "stream",
          "name": "stdout",
          "text": [
            "+-------+----------+-----------+--------+---------+------+----------+\n",
            "|OrderID|   Product|   Category|Quantity|UnitPrice|Region|TotalPrice|\n",
            "+-------+----------+-----------+--------+---------+------+----------+\n",
            "|   1001|    Mobile|Electronics|       2|    15000| North|     30000|\n",
            "|   1002|    Laptop|Electronics|       1|    55000| South|     55000|\n",
            "|   1003|   T-Shirt|    Apparel|       3|      500|  East|      1500|\n",
            "|   1004|     Jeans|    Apparel|       2|     1200| North|      2400|\n",
            "|   1005|        TV|Electronics|       1|    40000|  West|     40000|\n",
            "|   1006|     Shoes|   Footwear|       4|     2000| South|      8000|\n",
            "|   1007|     Watch|Accessories|       2|     3000|  East|      6000|\n",
            "|   1008|Headphones|Electronics|       3|     2500| North|      7500|\n",
            "+-------+----------+-----------+--------+---------+------+----------+\n",
            "\n"
          ]
        }
      ]
    },
    {
      "cell_type": "markdown",
      "source": [
        "2. Total revenue generated"
      ],
      "metadata": {
        "id": "TOtqodFTEpXF"
      }
    },
    {
      "cell_type": "code",
      "source": [
        "df.groupBy(\"Category\").sum(\"TotalPrice\").orderBy(\"sum(TotalPrice)\", ascending=False).show()"
      ],
      "metadata": {
        "colab": {
          "base_uri": "https://localhost:8080/"
        },
        "id": "zCOnP5VSEsXQ",
        "outputId": "9cd67fbb-54d9-41ae-d0ea-3686040ccf7d"
      },
      "execution_count": 11,
      "outputs": [
        {
          "output_type": "stream",
          "name": "stdout",
          "text": [
            "+-----------+---------------+\n",
            "|   Category|sum(TotalPrice)|\n",
            "+-----------+---------------+\n",
            "|Electronics|         132500|\n",
            "|   Footwear|           8000|\n",
            "|Accessories|           6000|\n",
            "|    Apparel|           3900|\n",
            "+-----------+---------------+\n",
            "\n"
          ]
        }
      ]
    },
    {
      "cell_type": "markdown",
      "source": [
        "3. Category-wise revenue (descending)"
      ],
      "metadata": {
        "id": "0dEVn8TsE-3r"
      }
    },
    {
      "cell_type": "code",
      "source": [
        "df.groupBy(\"Category\").sum(\"TotalPrice\").orderBy(\"sum(TotalPrice)\", ascending=False).show()"
      ],
      "metadata": {
        "colab": {
          "base_uri": "https://localhost:8080/"
        },
        "id": "eLX-Xi9YE_jp",
        "outputId": "05b89ad9-2881-4f94-d241-49291e651e19"
      },
      "execution_count": 12,
      "outputs": [
        {
          "output_type": "stream",
          "name": "stdout",
          "text": [
            "+-----------+---------------+\n",
            "|   Category|sum(TotalPrice)|\n",
            "+-----------+---------------+\n",
            "|Electronics|         132500|\n",
            "|   Footwear|           8000|\n",
            "|Accessories|           6000|\n",
            "|    Apparel|           3900|\n",
            "+-----------+---------------+\n",
            "\n"
          ]
        }
      ]
    },
    {
      "cell_type": "markdown",
      "source": [
        "4. Region with highest number of orders"
      ],
      "metadata": {
        "id": "ORbh683-FTX7"
      }
    },
    {
      "cell_type": "code",
      "source": [
        "df.groupBy(\"Region\").count().orderBy(\"count\", ascending=False).show(1)"
      ],
      "metadata": {
        "colab": {
          "base_uri": "https://localhost:8080/"
        },
        "id": "ZKbc1irnFV1S",
        "outputId": "61f6607e-2ae5-4a06-e2ae-23a1fcd8dd59"
      },
      "execution_count": 13,
      "outputs": [
        {
          "output_type": "stream",
          "name": "stdout",
          "text": [
            "+------+-----+\n",
            "|Region|count|\n",
            "+------+-----+\n",
            "| North|    3|\n",
            "+------+-----+\n",
            "only showing top 1 row\n",
            "\n"
          ]
        }
      ]
    },
    {
      "cell_type": "markdown",
      "source": [
        "5. Average Unit Price per Category"
      ],
      "metadata": {
        "id": "4gFbp4GqFkE8"
      }
    },
    {
      "cell_type": "code",
      "source": [
        "df.groupBy(\"Category\").avg(\"UnitPrice\").show()"
      ],
      "metadata": {
        "colab": {
          "base_uri": "https://localhost:8080/"
        },
        "id": "wUndsLrgFm1j",
        "outputId": "696ee1d9-9aef-4f61-fb94-345e1b1ce21f"
      },
      "execution_count": 14,
      "outputs": [
        {
          "output_type": "stream",
          "name": "stdout",
          "text": [
            "+-----------+--------------+\n",
            "|   Category|avg(UnitPrice)|\n",
            "+-----------+--------------+\n",
            "|    Apparel|         850.0|\n",
            "|Electronics|       28125.0|\n",
            "|   Footwear|        2000.0|\n",
            "|Accessories|        3000.0|\n",
            "+-----------+--------------+\n",
            "\n"
          ]
        }
      ]
    },
    {
      "cell_type": "markdown",
      "source": [
        "6. Orders where TotalPrice > 30000"
      ],
      "metadata": {
        "id": "0eYXxtWCFnNP"
      }
    },
    {
      "cell_type": "code",
      "source": [
        "df.filter(col(\"TotalPrice\") > 30000).show()"
      ],
      "metadata": {
        "colab": {
          "base_uri": "https://localhost:8080/"
        },
        "id": "AaDtVxHpFnk1",
        "outputId": "d2a05819-fa4c-40ac-a38f-b27632030657"
      },
      "execution_count": 15,
      "outputs": [
        {
          "output_type": "stream",
          "name": "stdout",
          "text": [
            "+-------+-------+-----------+--------+---------+------+----------+\n",
            "|OrderID|Product|   Category|Quantity|UnitPrice|Region|TotalPrice|\n",
            "+-------+-------+-----------+--------+---------+------+----------+\n",
            "|   1002| Laptop|Electronics|       1|    55000| South|     55000|\n",
            "|   1005|     TV|Electronics|       1|    40000|  West|     40000|\n",
            "+-------+-------+-----------+--------+---------+------+----------+\n",
            "\n"
          ]
        }
      ]
    },
    {
      "cell_type": "markdown",
      "source": [
        "# Part 4: Data Transformations"
      ],
      "metadata": {
        "id": "PjI-5dO3Fsr0"
      }
    },
    {
      "cell_type": "markdown",
      "source": [
        "1. Add HighValueOrder column"
      ],
      "metadata": {
        "id": "vpRN67V3FtFa"
      }
    },
    {
      "cell_type": "code",
      "source": [
        "from pyspark.sql.functions import when\n",
        "\n",
        "df = df.withColumn(\"HighValueOrder\", when(col(\"TotalPrice\") > 20000, \"Yes\").otherwise(\"No\"))\n",
        "df.show()\n"
      ],
      "metadata": {
        "colab": {
          "base_uri": "https://localhost:8080/"
        },
        "id": "YTYQr69RFtf5",
        "outputId": "cb967bd1-5c4a-4216-c3a4-bf2fae705de9"
      },
      "execution_count": 16,
      "outputs": [
        {
          "output_type": "stream",
          "name": "stdout",
          "text": [
            "+-------+----------+-----------+--------+---------+------+----------+--------------+\n",
            "|OrderID|   Product|   Category|Quantity|UnitPrice|Region|TotalPrice|HighValueOrder|\n",
            "+-------+----------+-----------+--------+---------+------+----------+--------------+\n",
            "|   1001|    Mobile|Electronics|       2|    15000| North|     30000|           Yes|\n",
            "|   1002|    Laptop|Electronics|       1|    55000| South|     55000|           Yes|\n",
            "|   1003|   T-Shirt|    Apparel|       3|      500|  East|      1500|            No|\n",
            "|   1004|     Jeans|    Apparel|       2|     1200| North|      2400|            No|\n",
            "|   1005|        TV|Electronics|       1|    40000|  West|     40000|           Yes|\n",
            "|   1006|     Shoes|   Footwear|       4|     2000| South|      8000|            No|\n",
            "|   1007|     Watch|Accessories|       2|     3000|  East|      6000|            No|\n",
            "|   1008|Headphones|Electronics|       3|     2500| North|      7500|            No|\n",
            "+-------+----------+-----------+--------+---------+------+----------+--------------+\n",
            "\n"
          ]
        }
      ]
    },
    {
      "cell_type": "markdown",
      "source": [
        "2. . High-value orders in North region"
      ],
      "metadata": {
        "id": "ZZQaH2NeFyi5"
      }
    },
    {
      "cell_type": "code",
      "source": [
        "df.filter((col(\"HighValueOrder\") == \"Yes\") & (col(\"Region\") == \"North\")).show()\n"
      ],
      "metadata": {
        "colab": {
          "base_uri": "https://localhost:8080/"
        },
        "id": "anr1fJetFzOY",
        "outputId": "43df6edc-9e92-419e-d601-9657d1edeb86"
      },
      "execution_count": 17,
      "outputs": [
        {
          "output_type": "stream",
          "name": "stdout",
          "text": [
            "+-------+-------+-----------+--------+---------+------+----------+--------------+\n",
            "|OrderID|Product|   Category|Quantity|UnitPrice|Region|TotalPrice|HighValueOrder|\n",
            "+-------+-------+-----------+--------+---------+------+----------+--------------+\n",
            "|   1001| Mobile|Electronics|       2|    15000| North|     30000|           Yes|\n",
            "+-------+-------+-----------+--------+---------+------+----------+--------------+\n",
            "\n"
          ]
        }
      ]
    },
    {
      "cell_type": "markdown",
      "source": [
        "3. Count of high-value orders per region"
      ],
      "metadata": {
        "id": "nuIE2SfQF2bp"
      }
    },
    {
      "cell_type": "code",
      "source": [
        "df.filter(col(\"HighValueOrder\") == \"Yes\").groupBy(\"Region\").count().show()\n"
      ],
      "metadata": {
        "colab": {
          "base_uri": "https://localhost:8080/"
        },
        "id": "iKPb3-3DF44l",
        "outputId": "8822207b-b95b-437f-a595-16939eecca3f"
      },
      "execution_count": 18,
      "outputs": [
        {
          "output_type": "stream",
          "name": "stdout",
          "text": [
            "+------+-----+\n",
            "|Region|count|\n",
            "+------+-----+\n",
            "| South|    1|\n",
            "|  West|    1|\n",
            "| North|    1|\n",
            "+------+-----+\n",
            "\n"
          ]
        }
      ]
    },
    {
      "cell_type": "markdown",
      "source": [
        "# Part 5: Save Results"
      ],
      "metadata": {
        "id": "cUiakhlEF5QM"
      }
    },
    {
      "cell_type": "markdown",
      "source": [
        "Save transformed DataFrame as CSV"
      ],
      "metadata": {
        "id": "z3LP_hxMF86c"
      }
    },
    {
      "cell_type": "code",
      "source": [
        "df.filter(col(\"HighValueOrder\") == \"Yes\").write.csv(\"high_value_orders.csv\", header=True, mode=\"overwrite\")"
      ],
      "metadata": {
        "id": "a95m9DVyF-0e"
      },
      "execution_count": 19,
      "outputs": []
    },
    {
      "cell_type": "code",
      "source": [
        "import shutil\n",
        "shutil.make_archive(\"high_value_orders\", 'zip', \"high_value_orders.csv\")\n",
        "from google.colab import files\n",
        "files.download(\"high_value_orders.zip\")\n"
      ],
      "metadata": {
        "colab": {
          "base_uri": "https://localhost:8080/",
          "height": 17
        },
        "id": "fHagZhrIGEUI",
        "outputId": "974484ad-ecc5-48e3-c33c-5c88738e7ea5"
      },
      "execution_count": 20,
      "outputs": [
        {
          "output_type": "display_data",
          "data": {
            "text/plain": [
              "<IPython.core.display.Javascript object>"
            ],
            "application/javascript": [
              "\n",
              "    async function download(id, filename, size) {\n",
              "      if (!google.colab.kernel.accessAllowed) {\n",
              "        return;\n",
              "      }\n",
              "      const div = document.createElement('div');\n",
              "      const label = document.createElement('label');\n",
              "      label.textContent = `Downloading \"${filename}\": `;\n",
              "      div.appendChild(label);\n",
              "      const progress = document.createElement('progress');\n",
              "      progress.max = size;\n",
              "      div.appendChild(progress);\n",
              "      document.body.appendChild(div);\n",
              "\n",
              "      const buffers = [];\n",
              "      let downloaded = 0;\n",
              "\n",
              "      const channel = await google.colab.kernel.comms.open(id);\n",
              "      // Send a message to notify the kernel that we're ready.\n",
              "      channel.send({})\n",
              "\n",
              "      for await (const message of channel.messages) {\n",
              "        // Send a message to notify the kernel that we're ready.\n",
              "        channel.send({})\n",
              "        if (message.buffers) {\n",
              "          for (const buffer of message.buffers) {\n",
              "            buffers.push(buffer);\n",
              "            downloaded += buffer.byteLength;\n",
              "            progress.value = downloaded;\n",
              "          }\n",
              "        }\n",
              "      }\n",
              "      const blob = new Blob(buffers, {type: 'application/binary'});\n",
              "      const a = document.createElement('a');\n",
              "      a.href = window.URL.createObjectURL(blob);\n",
              "      a.download = filename;\n",
              "      div.appendChild(a);\n",
              "      a.click();\n",
              "      div.remove();\n",
              "    }\n",
              "  "
            ]
          },
          "metadata": {}
        },
        {
          "output_type": "display_data",
          "data": {
            "text/plain": [
              "<IPython.core.display.Javascript object>"
            ],
            "application/javascript": [
              "download(\"download_f39253ab-be64-401d-8ee4-473ed21f00e1\", \"high_value_orders.zip\", 774)"
            ]
          },
          "metadata": {}
        }
      ]
    }
  ]
}